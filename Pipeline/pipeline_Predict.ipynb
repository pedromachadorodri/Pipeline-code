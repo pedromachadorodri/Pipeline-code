{
 "cells": [
  {
   "cell_type": "code",
   "execution_count": null,
   "metadata": {},
   "outputs": [],
   "source": [
    "import os, math, time, pickle, subprocess\n",
    "from importlib import reload\n",
    "from collections import OrderedDict\n",
    "import numpy as np\n",
    "import pandas as pd\n",
    "pd.set_option('display.width', 100)\n",
    "import epitopepredict as ep\n",
    "from epitopepredict import base, sequtils, tepitope, plotting, utilities, peptutils, mhclearn, analysis, web\n",
    "from IPython.display import display, HTML, Image\n",
    "%matplotlib inline\n",
    "import matplotlib as mpl\n",
    "import pylab as plt\n",
    "from os import listdir\n",
    "from os.path import isfile, join"
   ]
  },
  {
   "cell_type": "code",
   "execution_count": null,
   "metadata": {},
   "outputs": [],
   "source": [
    "from IPython.core.display import display, HTML\n",
    "display(HTML(\"<style>.container { width:100% !important; }</style>\"))"
   ]
  },
  {
   "cell_type": "code",
   "execution_count": null,
   "metadata": {},
   "outputs": [],
   "source": [
    "home = os.path.expanduser(\"~/Documentos/Master_work\")\n",
    "save = input('Insira o path: ')\n",
    "# save = os.path.dirname(\"Documents/Master_work/Sars2/)\n",
    "savepath=os.path.join(home, save)\n",
    "print(savepath)"
   ]
  },
  {
   "cell_type": "code",
   "execution_count": null,
   "metadata": {},
   "outputs": [],
   "source": [
    "folder = input('Insira o nome da pasta: ')\n",
    "\n",
    "try:\n",
    "#     parent_dir = '/home/pedro/Documentos/Master_work/resultados_sars2/S_RefSeq/'\n",
    "    os.chdir(savepath)\n",
    "    origin = os.path.join(savepath, folder)\n",
    "    os.mkdir(origin)\n",
    "    print('Criado pasta %s: %s' %(folder,origin))\n",
    "except OSError:\n",
    "    print('Pasta já existe no diretório')\n",
    "    pass"
   ]
  },
  {
   "cell_type": "code",
   "execution_count": null,
   "metadata": {},
   "outputs": [],
   "source": [
    "a= os.getcwd()\n",
    "print(a)"
   ]
  },
  {
   "cell_type": "code",
   "execution_count": null,
   "metadata": {},
   "outputs": [],
   "source": [
    "predictors = ['iedbmhc1','netmhcpan','mhcflurry','iedbmhc2','netmhciipan']\n",
    "\n",
    "try:\n",
    "    for i in predictors:\n",
    "        files = os.path.join(origin,i)\n",
    "        try: \n",
    "            os.mkdir(files) \n",
    "        except OSError: \n",
    "            print('pasta %s já existe' %(i))\n",
    "except OSError:\n",
    "    pass\n",
    "\n",
    "\n",
    "iedbmhcii = ['recommended','netmhciipan_el']\n",
    "\n",
    "try:\n",
    "    for j in iedbmhcii:\n",
    "        files2 = os.path.join(origin,'iedbmhc2',j)\n",
    "        try: \n",
    "            os.mkdir(files2) \n",
    "        except OSError: \n",
    "            print('pasta %s já existe' %(j))\n",
    "except OSError:\n",
    "    pass"
   ]
  },
  {
   "cell_type": "markdown",
   "metadata": {},
   "source": [
    "## Alleles"
   ]
  },
  {
   "cell_type": "code",
   "execution_count": null,
   "metadata": {},
   "outputs": [],
   "source": [
    "#get preset alleles\n",
    "m2_alleles = ep.get_preset_alleles('mhc2_IEDB')\n",
    "m1_alleles = ep.get_preset_alleles('mhc1_IEDB')\n",
    "print (m1_alleles)\n",
    "print (m2_alleles)"
   ]
  },
  {
   "cell_type": "markdown",
   "metadata": {},
   "source": [
    "## Sequence"
   ]
  },
  {
   "cell_type": "code",
   "execution_count": null,
   "metadata": {},
   "outputs": [],
   "source": [
    "homeseq = os.path.expanduser(\"~\")\n",
    "saveseq = os.path.dirname(\"Sequences/\")\n",
    "savepathseq=os.path.join(homeseq, saveseq)\n",
    "\n",
    "onlyfiles = [f for f in listdir(savepathseq) if isfile(join(savepathseq, f))]\n",
    "print('lista de sequêmcias na pasta Sequences:\\n','\\033[1m'+'\\033[31m'+ ', '.join(onlyfiles)+'\\033[0;0m','\\n',savepathseq)\n",
    "\n",
    "nameseq = input('Insira o nome da sequência: ')\n",
    "\n",
    "fastafile = os.path.join(savepathseq, nameseq)\n",
    "print(fastafile)\n",
    "prot = ep.fasta_to_dataframe(fastafile, header_sep=None, key='locus_tag', seqkey='translation')\n",
    "locus_tag = list([prot.locus_tag[0]])\n",
    "display(prot[:20])"
   ]
  },
  {
   "cell_type": "code",
   "execution_count": null,
   "metadata": {},
   "outputs": [],
   "source": [
    "iedbmhc1_path = os.path.join(origin,'iedbmhc1')\n",
    "print(iedbmhc1_path)\n",
    "netmhcpan_path = os.path.join(origin,'netmhcpan')\n",
    "mhcflurry_path = os.path.join(origin,'mhcflurry')\n",
    "recommended_path = os.path.join(origin,'iedbmhc2','recommended')\n",
    "netmhciipan_el_path = os.path.join(origin,'iedbmhc2','netmhciipan_el')\n",
    "netmhciipan_path = os.path.join(origin,'netmhciipan')"
   ]
  },
  {
   "cell_type": "code",
   "execution_count": null,
   "metadata": {},
   "outputs": [],
   "source": [
    "import multiprocessing as mp\n",
    "maxcpu = mp.cpu_count()\n",
    "print('cpus -> ', maxcpu)"
   ]
  },
  {
   "cell_type": "markdown",
   "metadata": {},
   "source": [
    "# MHCI"
   ]
  },
  {
   "cell_type": "markdown",
   "metadata": {},
   "source": [
    "### MHCflurry"
   ]
  },
  {
   "cell_type": "code",
   "execution_count": null,
   "metadata": {},
   "outputs": [],
   "source": [
    "reload(base)\n",
    "mhcflurry = base.get_predictor('mhcflurry')\n",
    "mhcflurry.predict_sequences(prot,path=mhcflurry_path,alleles=m1_alleles, length=9, verbose=True, threads=8)\n",
    "mhcflurry.load(path=mhcflurry_path)"
   ]
  },
  {
   "cell_type": "markdown",
   "metadata": {},
   "source": [
    "### IEDB MHCI"
   ]
  },
  {
   "cell_type": "code",
   "execution_count": null,
   "metadata": {},
   "outputs": [],
   "source": [
    "reload(base)\n",
    "iedb = base.get_predictor('iedbmhc1')\n",
    "iedb.predict_sequences(prot,path=iedbmhc1_path,alleles=m1_alleles, length=9,method='IEDB_recommended',verbose=True,threads=8)\n",
    "iedb.load(path=iedbmhc1_path)"
   ]
  },
  {
   "cell_type": "markdown",
   "metadata": {},
   "source": [
    "### NetMHCpan"
   ]
  },
  {
   "cell_type": "code",
   "execution_count": null,
   "metadata": {},
   "outputs": [],
   "source": [
    "reload(base)\n",
    "netmhcpan = base.get_predictor('netmhcpan')\n",
    "netmhcpan.predict_sequences(prot,path=netmhcpan_path,alleles=m1_alleles, length=9,method='IEDB_recommended',verbose=True,threads=8)\n",
    "netmhcpan.load(path=netmhcpan_path)"
   ]
  },
  {
   "cell_type": "markdown",
   "metadata": {},
   "source": [
    "# MHC II"
   ]
  },
  {
   "cell_type": "markdown",
   "metadata": {},
   "source": [
    "### IEDB MHCII Recommended"
   ]
  },
  {
   "cell_type": "code",
   "execution_count": null,
   "metadata": {},
   "outputs": [],
   "source": [
    "reload(base)\n",
    "iedbii = base.get_predictor('iedbmhc2')\n",
    "iedbii.predict_sequences(prot,path=recommended_path,alleles=m2_alleles, length=15,method='IEDB_recommended',verbose=True,threads=8)\n",
    "iedbii.load(path=recommended_path)"
   ]
  },
  {
   "cell_type": "markdown",
   "metadata": {},
   "source": [
    "### IEDB MHCII NetMHCIIpan"
   ]
  },
  {
   "cell_type": "code",
   "execution_count": null,
   "metadata": {
    "scrolled": true
   },
   "outputs": [],
   "source": [
    "reload(base)\n",
    "iedbiin = base.get_predictor('iedbmhc2')\n",
    "iedbiin.predict_sequences(prot,path=netmhciipan_el_path,alleles=m2_alleles, length=15,method='netmhciipan_el',verbose=True,threads=8)\n",
    "iedbiin.load(path=netmhciipan_el_path)"
   ]
  },
  {
   "cell_type": "markdown",
   "metadata": {},
   "source": [
    "### NetMHCIIpan"
   ]
  },
  {
   "cell_type": "code",
   "execution_count": null,
   "metadata": {},
   "outputs": [],
   "source": [
    "reload(base)\n",
    "netmhciipan = base.get_predictor('netmhciipan')\n",
    "netmhciipan.predict_sequences(prot,path=netmhciipan_path,alleles=m2_alleles, length=15,verbose=True,threads=8)\n",
    "netmhciipan.load(path=netmhciipan_path)"
   ]
  }
 ],
 "metadata": {
  "kernelspec": {
   "display_name": "Python 3",
   "language": "python",
   "name": "python3"
  },
  "language_info": {
   "codemirror_mode": {
    "name": "ipython",
    "version": 3
   },
   "file_extension": ".py",
   "mimetype": "text/x-python",
   "name": "python",
   "nbconvert_exporter": "python",
   "pygments_lexer": "ipython3",
   "version": "3.8.5"
  }
 },
 "nbformat": 4,
 "nbformat_minor": 4
}
