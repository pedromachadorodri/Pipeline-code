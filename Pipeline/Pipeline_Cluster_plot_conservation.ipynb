{
 "cells": [
  {
   "cell_type": "code",
   "execution_count": 1,
   "metadata": {},
   "outputs": [],
   "source": [
    "import os, math, time, pickle, subprocess\n",
    "from importlib import reload\n",
    "from collections import OrderedDict\n",
    "import io\n",
    "import numpy as np\n",
    "import pandas as pd\n",
    "pd.set_option('display.width', 100)\n",
    "import epitopepredict as ep\n",
    "from epitopepredict import base, sequtils, tepitope, plotting, utilities, peptutils, mhclearn, analysis, web\n",
    "from IPython.display import display, HTML, Image\n",
    "%matplotlib inline\n",
    "import matplotlib as mpl\n",
    "import pylab as plt\n",
    "from os import listdir\n",
    "from os.path import isfile, join\n",
    "import ipywidgets as widgets\n",
    "from IPython.display import display"
   ]
  },
  {
   "cell_type": "code",
   "execution_count": 2,
   "metadata": {},
   "outputs": [
    {
     "data": {
      "text/html": [
       "<style>.container { width:100% !important; }</style>"
      ],
      "text/plain": [
       "<IPython.core.display.HTML object>"
      ]
     },
     "metadata": {},
     "output_type": "display_data"
    }
   ],
   "source": [
    "from IPython.core.display import display, HTML\n",
    "display(HTML(\"<style>.container { width:100% !important; }</style>\"))"
   ]
  },
  {
   "cell_type": "code",
   "execution_count": 3,
   "metadata": {},
   "outputs": [
    {
     "name": "stdin",
     "output_type": "stream",
     "text": [
      "Insira o path:  HPV\n"
     ]
    },
    {
     "name": "stdout",
     "output_type": "stream",
     "text": [
      "/home/pedro/Documentos/Master_work/HPV\n"
     ]
    }
   ],
   "source": [
    "home = os.path.expanduser(\"~/Documentos/Master_work\")\n",
    "save = input('Insira o path: ')\n",
    "# save = os.path.dirname(\"Documentos/Master_work/resultados_sars2\")\n",
    "savepath=os.path.join(home, save)\n",
    "print(savepath)\n",
    "os.chdir(savepath)"
   ]
  },
  {
   "cell_type": "code",
   "execution_count": 4,
   "metadata": {},
   "outputs": [
    {
     "name": "stdout",
     "output_type": "stream",
     "text": [
      "Criado pasta test_plotly: /home/pedro/Documentos/Master_work/HPV/test_plotly\n"
     ]
    }
   ],
   "source": [
    "# folder = input('Insira o nome da pasta: ')\n",
    "folder = 'test_plotly'\n",
    "\n",
    "try:\n",
    "#     parent_dir = '/home/pedro/Documentos/Master_work/resultados_sars2/S_RefSeq/'\n",
    "    os.chdir(savepath)\n",
    "    origin = os.path.join(savepath, folder)\n",
    "    os.mkdir(origin)\n",
    "    print('Criado pasta %s: %s' %(folder,origin))\n",
    "except OSError:\n",
    "    print('Pasta já existe no diretório')\n",
    "    pass"
   ]
  },
  {
   "cell_type": "code",
   "execution_count": 5,
   "metadata": {},
   "outputs": [
    {
     "name": "stdout",
     "output_type": "stream",
     "text": [
      "/home/pedro/Documentos/Master_work/HPV\n"
     ]
    }
   ],
   "source": [
    "a= os.getcwd()\n",
    "print(a)"
   ]
  },
  {
   "cell_type": "code",
   "execution_count": null,
   "metadata": {},
   "outputs": [],
   "source": [
    "# mhc = ['mhci','mhcii','mhci_and_mhcii']\n",
    "\n",
    "# try:\n",
    "#     for i in mhc:\n",
    "#         files = os.path.join(origin,i)\n",
    "#         try: \n",
    "#             os.mkdir(files) \n",
    "#         except OSError: \n",
    "#             print('pasta %s já existe' %(i))\n",
    "# except OSError:\n",
    "#     pass"
   ]
  },
  {
   "cell_type": "code",
   "execution_count": 6,
   "metadata": {},
   "outputs": [
    {
     "data": {
      "application/vnd.jupyter.widget-view+json": {
       "model_id": "6b5430af488749ea89695e94b978a703",
       "version_major": 2,
       "version_minor": 0
      },
      "text/plain": [
       "ToggleButtons(button_style='info', description='Sequences:', options=('E7_hpv16_refseq.fasta', 'Delta_N_transl…"
      ]
     },
     "metadata": {},
     "output_type": "display_data"
    },
    {
     "data": {
      "application/vnd.jupyter.widget-view+json": {
       "model_id": "6b5430af488749ea89695e94b978a703",
       "version_major": 2,
       "version_minor": 0
      },
      "text/plain": [
       "ToggleButtons(button_style='info', description='Sequences:', options=('E7_hpv16_refseq.fasta', 'Delta_N_transl…"
      ]
     },
     "metadata": {},
     "output_type": "display_data"
    }
   ],
   "source": [
    "homeseq = os.path.expanduser(\"~\")\n",
    "saveseq = os.path.dirname(\"Sequences/\")\n",
    "savepathseq=os.path.join(homeseq, saveseq)\n",
    "onlyfiles = [f for f in listdir(savepathseq) if isfile(join(savepathseq, f))]\n",
    "\n",
    "\n",
    "# Create text widget for output\n",
    "output = widgets.Text()\n",
    "\n",
    "button = widgets.ToggleButtons(\n",
    "    options=onlyfiles,\n",
    "    description='Sequences:',\n",
    "    disabled=False,\n",
    "    button_style='info', # 'success', 'info', 'warning', 'danger' or ''\n",
    "    tooltips=['Description of slow', 'Description of regular', 'Description of fast'],\n",
    "#     icons=['check'] * 3\n",
    ")\n",
    "display(button)\n",
    "\n",
    "# choise=widgets.Dropdown(options=onlyfiles,description='Sequences:',disabled=False)\n",
    "# display(choise)\n",
    "\n",
    "# Define function to bind value of the input to the output variable \n",
    "def bind_input_to_output(sender):\n",
    "    output.value = button.value\n",
    "\n",
    "# Tell the text input widget to call bind_input_to_output() on submit\n",
    "button.observe(bind_input_to_output)\n",
    "\n",
    "# Display input\n",
    "display(button)\n",
    "\n",
    "def seque(seq):\n",
    "    homeseq = os.path.expanduser(\"~\")\n",
    "    saveseq = os.path.dirname(\"Sequences/\")\n",
    "    savepathseq=os.path.join(homeseq, saveseq)\n",
    "    fastafile = os.path.join(savepathseq, seq)\n",
    "    print(fastafile)\n",
    "    prot = ep.fasta_to_dataframe(fastafile, header_sep=None, key='locus_tag', seqkey='translation')\n",
    "    \n",
    "    return prot"
   ]
  },
  {
   "cell_type": "code",
   "execution_count": 7,
   "metadata": {},
   "outputs": [
    {
     "data": {
      "application/vnd.jupyter.widget-view+json": {
       "model_id": "9453dcf2b709449f850838473711c017",
       "version_major": 2,
       "version_minor": 0
      },
      "text/plain": [
       "interactive(children=(Text(value='E7_hpv16_refseq.fasta', description='seq'), Output()), _dom_classes=('widget…"
      ]
     },
     "metadata": {},
     "output_type": "display_data"
    }
   ],
   "source": [
    "prot = widgets.interactive(seque, seq=output);\n",
    "sh = widgets.interact(seque, seq=output);"
   ]
  },
  {
   "cell_type": "code",
   "execution_count": 8,
   "metadata": {},
   "outputs": [
    {
     "data": {
      "application/vnd.jupyter.widget-view+json": {
       "model_id": "3f8884d3aab340bea2cf9d943d0d66a4",
       "version_major": 2,
       "version_minor": 0
      },
      "text/plain": [
       "interactive(children=(Text(value='E7_hpv16_refseq.fasta', description='seq'), Output()), _dom_classes=('widget…"
      ]
     },
     "metadata": {},
     "output_type": "display_data"
    },
    {
     "data": {
      "text/html": [
       "<div><div id=4339df37-3bb5-453f-a4c4-cec4a3d6ce7d style=\"display:none; background-color:#9D6CFF; color:white; width:200px; height:30px; padding-left:5px; border-radius:4px; flex-direction:row; justify-content:space-around; align-items:center;\" onmouseover=\"this.style.backgroundColor='#BA9BF8'\" onmouseout=\"this.style.backgroundColor='#9D6CFF'\" onclick=\"window.commands?.execute('create-mitosheet-from-dataframe-output');\">See Full Dataframe in Mito</div> <script> if (window.commands.hasCommand('create-mitosheet-from-dataframe-output')) document.getElementById('4339df37-3bb5-453f-a4c4-cec4a3d6ce7d').style.display = 'flex' </script> <table border=\"1\" class=\"dataframe\">\n",
       "  <thead>\n",
       "    <tr style=\"text-align: right;\">\n",
       "      <th></th>\n",
       "      <th>locus_tag</th>\n",
       "      <th>translation</th>\n",
       "      <th>description</th>\n",
       "      <th>type</th>\n",
       "    </tr>\n",
       "  </thead>\n",
       "  <tbody>\n",
       "    <tr>\n",
       "      <th>0</th>\n",
       "      <td>NP_041326.1_E7_HPV16</td>\n",
       "      <td>MHGDTPTLHEYMLDLQPETTDLYCYEQLNDSSEEEDEIDGPAGQAEPDRAHYNIVTFCCKCDSTLRLCVQSTHVDIRTLEDLLMGTLGIVCPICSQKP</td>\n",
       "      <td>NP_041326.1_E7_HPV16</td>\n",
       "      <td>CDS</td>\n",
       "    </tr>\n",
       "  </tbody>\n",
       "</table></div>"
      ],
      "text/plain": [
       "              locus_tag                                        translation           description  \\\n",
       "0  NP_041326.1_E7_HPV16  MHGDTPTLHEYMLDLQPETTDLYCYEQLNDSSEEEDEIDGPAGQAE...  NP_041326.1_E7_HPV16   \n",
       "\n",
       "  type  \n",
       "0  CDS  "
      ]
     },
     "execution_count": 8,
     "metadata": {},
     "output_type": "execute_result"
    }
   ],
   "source": [
    "display(prot)\n",
    "prot.result"
   ]
  },
  {
   "cell_type": "code",
   "execution_count": 9,
   "metadata": {},
   "outputs": [
    {
     "data": {
      "text/plain": [
       "'NP_041326.1_E7_HPV16'"
      ]
     },
     "execution_count": 9,
     "metadata": {},
     "output_type": "execute_result"
    }
   ],
   "source": [
    "locus_tag = prot.result.locus_tag[0]\n",
    "locus_tag"
   ]
  },
  {
   "cell_type": "markdown",
   "metadata": {},
   "source": [
    "# Sets"
   ]
  },
  {
   "cell_type": "code",
   "execution_count": 10,
   "metadata": {},
   "outputs": [],
   "source": [
    "niedbi=3\n",
    "nnetmhc=3\n",
    "nflu=3\n",
    "niedbii=3\n",
    "niedbiinet=3\n",
    "nnetmhcii=3\n",
    "# niedbi=6\n",
    "# nnetmhc=6\n",
    "# nflu=8\n",
    "# niedbii=4\n",
    "# niedbiinet=9\n",
    "# nnetmhcii=9\n",
    "cutoff_mhci=2.0\n",
    "cutoff_mhcii=10.0\n",
    "cutoff_method='rank'"
   ]
  },
  {
   "cell_type": "code",
   "execution_count": 11,
   "metadata": {},
   "outputs": [
    {
     "name": "stdout",
     "output_type": "stream",
     "text": [
      "/home/pedro/Documentos/Master_work/HPV/iedbmhc1\n"
     ]
    }
   ],
   "source": [
    "iedbmhc1_path = os.path.join(os.getcwd(),'iedbmhc1')\n",
    "print(iedbmhc1_path)\n",
    "netmhcpan_path = os.path.join(os.getcwd(),'netmhcpan')\n",
    "mhcflurry_path = os.path.join(os.getcwd(),'mhcflurry')\n",
    "recommended_path = os.path.join(os.getcwd(),'iedbmhc2','recommended')\n",
    "netmhciipan_el_path = os.path.join(os.getcwd(),'iedbmhc2','netmhciipan_el')\n",
    "netmhciipan_path = os.path.join(os.getcwd(),'netmhciipan')"
   ]
  },
  {
   "cell_type": "code",
   "execution_count": null,
   "metadata": {},
   "outputs": [],
   "source": [
    "# savefile = os.path.join(os.getcwd(), folder)\n",
    "# local = 'mhci'\n",
    "# print(savefile)"
   ]
  },
  {
   "cell_type": "code",
   "execution_count": null,
   "metadata": {},
   "outputs": [],
   "source": [
    "st = time.time()"
   ]
  },
  {
   "cell_type": "markdown",
   "metadata": {},
   "source": [
    "# IEDB MHCI"
   ]
  },
  {
   "cell_type": "code",
   "execution_count": 12,
   "metadata": {},
   "outputs": [],
   "source": [
    "reload(base)\n",
    "iedb = base.get_predictor('iedbmhc1')\n",
    "iedb.load(path=iedbmhc1_path)"
   ]
  },
  {
   "cell_type": "code",
   "execution_count": 13,
   "metadata": {},
   "outputs": [
    {
     "name": "stderr",
     "output_type": "stream",
     "text": [
      "NumExpr defaulting to 8 threads.\n"
     ]
    },
    {
     "name": "stdout",
     "output_type": "stream",
     "text": [
      "3073\n"
     ]
    },
    {
     "data": {
      "text/plain": [
       "E6_HPV68                240\n",
       "E6_HPV66                234\n",
       "E6_HPV39                227\n",
       "E6_HPV51                221\n",
       "NP_040310.1_E6_HPV18    213\n",
       "E6_HPV52                208\n",
       "E6_HPV59                204\n",
       "E6_HPV56                202\n",
       "E6_HPV58                199\n",
       "E6_HPV35                193\n",
       "E6_HPV45                192\n",
       "E6_HPV33                190\n",
       "NP_041325.1_E6_HPV16    178\n",
       "E6_HPV31                178\n",
       "NP_040311.1_E7_HPV18    100\n",
       "NP_041326.1_E7_HPV16     94\n",
       "Name: name, dtype: int64"
      ]
     },
     "execution_count": 13,
     "metadata": {},
     "output_type": "execute_result"
    }
   ],
   "source": [
    "reload(base)\n",
    "iedb_binders = iedb.get_binders(cutoff=cutoff_mhci,cutoff_method=cutoff_method)\n",
    "print(len(iedb_binders))\n",
    "# print(iedb_binders)\n",
    "iedb_binders.name.value_counts()"
   ]
  },
  {
   "cell_type": "code",
   "execution_count": null,
   "metadata": {},
   "outputs": [],
   "source": [
    "for i,j in iedb_binders.groupby('name'):\n",
    "    if i == locus_tag:\n",
    "        j.to_excel(os.path.join(os.getcwd(),folder,'get_binders_{}_{}.xlsx'.format(i,''.join(set(iedb_binders.method)))))"
   ]
  },
  {
   "cell_type": "code",
   "execution_count": 14,
   "metadata": {},
   "outputs": [
    {
     "name": "stdout",
     "output_type": "stream",
     "text": [
      "465\n"
     ]
    },
    {
     "data": {
      "text/plain": [
       "E6_HPV68                37\n",
       "E6_HPV52                37\n",
       "E6_HPV66                36\n",
       "E6_HPV58                33\n",
       "E6_HPV39                33\n",
       "NP_040310.1_E6_HPV18    33\n",
       "E6_HPV33                33\n",
       "E6_HPV56                31\n",
       "E6_HPV59                30\n",
       "E6_HPV51                30\n",
       "E6_HPV35                29\n",
       "E6_HPV31                26\n",
       "E6_HPV45                25\n",
       "NP_041325.1_E6_HPV16    25\n",
       "NP_041326.1_E7_HPV16    15\n",
       "NP_040311.1_E7_HPV18    12\n",
       "Name: name, dtype: int64"
      ]
     },
     "execution_count": 14,
     "metadata": {},
     "output_type": "execute_result"
    }
   ],
   "source": [
    "reload(base)\n",
    "iedb_promiscuos = iedb.promiscuous_binders(n=niedbi,cutoff=cutoff_mhci,limit=None,cutoff_method=cutoff_method)\n",
    "print(len(iedb_promiscuos))\n",
    "# print(iedb_promiscuos)\n",
    "iedb_promiscuos.name.value_counts()"
   ]
  },
  {
   "cell_type": "code",
   "execution_count": null,
   "metadata": {},
   "outputs": [],
   "source": [
    "for i,j in iedb_promiscuos.groupby('name'):\n",
    "    if i == locus_tag:\n",
    "        j.to_excel(os.path.join(os.getcwd(),folder,'promiscuous_binders_{}_{}.xlsx'.format(i,''.join(set(iedb_binders.method)))))"
   ]
  },
  {
   "cell_type": "code",
   "execution_count": null,
   "metadata": {},
   "outputs": [],
   "source": [
    "reload(base)\n",
    "boolean=[True,False]\n",
    "for b in boolean:\n",
    "    if b is True:\n",
    "        iedb_promiscuos_True = iedb.promiscuous_binders2(binders=iedb_binders,predictor='iedbmhc1',n=niedbi,analise=b)\n",
    "        print(len(iedb_promiscuos_True))\n",
    "        iedb_promiscuos_True.name.value_counts()\n",
    "        for i,j in iedb_promiscuos_True.groupby('name'):\n",
    "            if i == locus_tag:\n",
    "                j.to_excel(os.path.join(os.getcwd(),folder,'promiscuous_binders_True_{}_{}.xlsx'.format(i,''.join(set(iedb_binders.method)))))\n",
    "    elif b is not True:\n",
    "        iedb_promiscuos_False = iedb.promiscuous_binders2(binders=iedb_binders,predictor='iedbmhc1',n=niedbi,analise=b)\n",
    "        print(len(iedb_promiscuos_False))\n",
    "        for i,j in iedb_promiscuos_False.groupby('name'):\n",
    "            if i == locus_tag:\n",
    "                j.to_excel(os.path.join(os.getcwd(),folder,'promiscuous_binders_False_{}_{}.xlsx'.format(i,''.join(set(iedb_binders.method)))))"
   ]
  },
  {
   "cell_type": "markdown",
   "metadata": {},
   "source": [
    "# NetMHCpan"
   ]
  },
  {
   "cell_type": "code",
   "execution_count": null,
   "metadata": {},
   "outputs": [],
   "source": [
    "reload(base)\n",
    "netmhcpan = base.get_predictor('netmhcpan')\n",
    "netmhcpan.load(path=netmhcpan_path)"
   ]
  },
  {
   "cell_type": "code",
   "execution_count": null,
   "metadata": {},
   "outputs": [],
   "source": [
    "reload(base)\n",
    "netmhcpan_binders = netmhcpan.get_binders(cutoff=cutoff_mhci,cutoff_method=cutoff_method)\n",
    "print(len(netmhcpan_binders))\n",
    "netmhcpan_binders.name.value_counts()"
   ]
  },
  {
   "cell_type": "code",
   "execution_count": null,
   "metadata": {},
   "outputs": [],
   "source": [
    "for i,j in netmhcpan_binders.groupby('name'):\n",
    "    if i == locus_tag:\n",
    "        j.to_excel(os.path.join(os.getcwd(),folder,'get_binders_{}_{}.xlsx'.format(i,''.join(set(netmhcpan_binders.method)))))"
   ]
  },
  {
   "cell_type": "code",
   "execution_count": null,
   "metadata": {},
   "outputs": [],
   "source": [
    "reload(base)\n",
    "netmhcpan_promiscuos = netmhcpan.promiscuous_binders(n=nnetmhc,cutoff=cutoff_mhci,limit=None,cutoff_method=cutoff_method)\n",
    "print(len(netmhcpan_promiscuos))\n",
    "netmhcpan_promiscuos.name.value_counts()"
   ]
  },
  {
   "cell_type": "code",
   "execution_count": null,
   "metadata": {},
   "outputs": [],
   "source": [
    "for i,j in netmhcpan_promiscuos.groupby('name'):\n",
    "    if i == locus_tag:\n",
    "        j.to_excel(os.path.join(os.getcwd(),folder,'promiscuous_binders_{}_{}.xlsx'.format(i,''.join(set(netmhcpan_binders.method)))))"
   ]
  },
  {
   "cell_type": "code",
   "execution_count": null,
   "metadata": {},
   "outputs": [],
   "source": [
    "reload(base)\n",
    "boolean=[True,False]\n",
    "for b in boolean:\n",
    "    if b is True:\n",
    "        netmhcpan_promiscuos_True = netmhcpan.promiscuous_binders2(binders=netmhcpan_binders,predictor='netmhcpan',n=nnetmhc,analise=b)\n",
    "        print(len(netmhcpan_promiscuos_True))\n",
    "        for i,j in netmhcpan_promiscuos_True.groupby('name'):\n",
    "            if i == locus_tag:\n",
    "                j.to_excel(os.path.join(os.getcwd(),folder,'promiscuous_binders_True_{}_{}.xlsx'.format(i,''.join(set(netmhcpan_binders.method)))))\n",
    "    elif b is not True:\n",
    "        netmhcpan_promiscuos_False = netmhcpan.promiscuous_binders2(binders=netmhcpan_binders,predictor='netmhcpan',n=nnetmhc,analise=b)\n",
    "        print(len(netmhcpan_promiscuos_False))\n",
    "        for i,j in netmhcpan_promiscuos_False.groupby('name'):\n",
    "            if i == locus_tag:\n",
    "                j.to_excel(os.path.join(os.getcwd(),folder,'promiscuous_binders_False_{}_{}.xlsx'.format(i,''.join(set(netmhcpan_binders.method)))))"
   ]
  },
  {
   "cell_type": "markdown",
   "metadata": {},
   "source": [
    "# MHCflurry"
   ]
  },
  {
   "cell_type": "code",
   "execution_count": null,
   "metadata": {},
   "outputs": [],
   "source": [
    "reload(base)\n",
    "mhcflurry = base.get_predictor('mhcflurry')\n",
    "mhcflurry.load(path=mhcflurry_path)"
   ]
  },
  {
   "cell_type": "code",
   "execution_count": null,
   "metadata": {},
   "outputs": [],
   "source": [
    "reload(base)\n",
    "mhcflurry_binders = mhcflurry.get_binders(cutoff=cutoff_mhci,cutoff_method=cutoff_method)\n",
    "print(len(mhcflurry_binders))\n",
    "mhcflurry_binders.name.value_counts()"
   ]
  },
  {
   "cell_type": "code",
   "execution_count": null,
   "metadata": {},
   "outputs": [],
   "source": [
    "for i,j in mhcflurry_binders.groupby('name'):\n",
    "    if i == locus_tag:\n",
    "        j.to_excel(os.path.join(os.getcwd(),folder,'get_binders_{}_{}.xlsx'.format(i,''.join(set(mhcflurry_binders.method)))))"
   ]
  },
  {
   "cell_type": "code",
   "execution_count": null,
   "metadata": {},
   "outputs": [],
   "source": [
    "reload(base)\n",
    "mhcflurry_promiscuos = mhcflurry.promiscuous_binders(n=nflu,cutoff=cutoff_mhci,limit=None,cutoff_method=cutoff_method)\n",
    "print(len(mhcflurry_promiscuos))\n",
    "mhcflurry_promiscuos.name.value_counts()"
   ]
  },
  {
   "cell_type": "code",
   "execution_count": null,
   "metadata": {},
   "outputs": [],
   "source": [
    "for i,j in mhcflurry_promiscuos.groupby('name'):\n",
    "    if i == locus_tag:\n",
    "        j.to_excel(os.path.join(os.getcwd(),folder,'promiscuous_binders_{}_{}.xlsx'.format(i,''.join(set(mhcflurry_binders.method)))))"
   ]
  },
  {
   "cell_type": "code",
   "execution_count": null,
   "metadata": {},
   "outputs": [],
   "source": [
    "reload(base)\n",
    "boolean=[True,False]\n",
    "for b in boolean:\n",
    "    if b is True:\n",
    "        mhcflurry_promiscuos_True = mhcflurry.promiscuous_binders2(binders=mhcflurry_binders,predictor='mhcflurry',n=nflu,analise=b)\n",
    "        print(len(mhcflurry_promiscuos_True))\n",
    "        for i,j in mhcflurry_promiscuos_True.groupby('name'):\n",
    "            if i == locus_tag:\n",
    "                j.to_excel(os.path.join(os.getcwd(),folder,'promiscuous_binders_True_{}_{}.xlsx'.format(i,''.join(set(mhcflurry_binders.method)))))\n",
    "    elif b is not True:\n",
    "        mhcflurry_promiscuos_False = mhcflurry.promiscuous_binders2(binders=mhcflurry_binders,predictor='mhcflurry',n=nflu,analise=b)\n",
    "        print(len(mhcflurry_promiscuos_False))\n",
    "        for i,j in mhcflurry_promiscuos_False.groupby('name'):\n",
    "            if i == locus_tag:\n",
    "                j.to_excel(os.path.join(os.getcwd(),folder,'promiscuous_binders_False_{}_{}.xlsx'.format(i,''.join(set(mhcflurry_binders.method)))))"
   ]
  },
  {
   "cell_type": "markdown",
   "metadata": {},
   "source": [
    "# IEDB MHCII Recommended"
   ]
  },
  {
   "cell_type": "code",
   "execution_count": null,
   "metadata": {},
   "outputs": [],
   "source": [
    "reload(base)\n",
    "iedb_recommended = base.get_predictor('iedbmhc2')\n",
    "iedb_recommended.load(path=recommended_path)"
   ]
  },
  {
   "cell_type": "code",
   "execution_count": null,
   "metadata": {},
   "outputs": [],
   "source": [
    "reload(base)\n",
    "iedb_recommended_binders = iedb_recommended.get_binders(cutoff=cutoff_mhcii,cutoff_method=cutoff_method)\n",
    "print(len(iedb_recommended_binders))\n",
    "iedb_recommended_binders.name.value_counts()\n",
    "# iedb_recommended_binders"
   ]
  },
  {
   "cell_type": "code",
   "execution_count": null,
   "metadata": {},
   "outputs": [],
   "source": [
    " for i,j in iedb_recommended_binders.groupby('name'):\n",
    "        if i == locus_tag:\n",
    "            j.to_excel(os.path.join(os.getcwd(),folder,'get_binders_{}_{}.xlsx'.format(i,''.join(set(iedb_recommended_binders.method)))))"
   ]
  },
  {
   "cell_type": "code",
   "execution_count": null,
   "metadata": {},
   "outputs": [],
   "source": [
    "reload(base)\n",
    "iedbiipb = iedb_recommended.promiscuous_binders(n=niedbii,cutoff=cutoff_mhcii,limit=None,cutoff_method=cutoff_method)\n",
    "print(len(iedbiipb))\n",
    "iedbiipb.name.value_counts()"
   ]
  },
  {
   "cell_type": "code",
   "execution_count": null,
   "metadata": {},
   "outputs": [],
   "source": [
    " for i,j in iedbiipb.groupby('name'):\n",
    "        if i == locus_tag:\n",
    "            j.to_excel(os.path.join(os.getcwd(),folder,'promiscuous_binders_{}_{}.xlsx'.format(i,''.join(set(iedb_recommended_binders.method)))))"
   ]
  },
  {
   "cell_type": "code",
   "execution_count": null,
   "metadata": {},
   "outputs": [],
   "source": [
    "reload(base)\n",
    "boolean=[True,False]\n",
    "for b in boolean:\n",
    "    if b is True:\n",
    "        iedbii_recommended_true = iedb_recommended.promiscuous_binders2(binders=iedb_recommended_binders,predictor='iedbmhc2',n=niedbii,analise=b)\n",
    "        print(len(iedbii_recommended_true))\n",
    "        for i,j in iedbii_recommended_true.groupby('name'):\n",
    "            if i == locus_tag:\n",
    "                j.to_excel(os.path.join(os.getcwd(),folder,'promiscuous_binders_True_{}_{}.xlsx'.format(i,''.join(set(iedb_recommended_binders.method)))))\n",
    "    elif b is not True:\n",
    "        iedbii_recommended_False = iedb_recommended.promiscuous_binders2(binders=iedb_recommended_binders,predictor='iedbmhc2',n=niedbii,analise=b)\n",
    "        print(len(iedbii_recommended_False))\n",
    "        for i,j in iedbii_recommended_False.groupby('name'):\n",
    "            if i == locus_tag:\n",
    "                j.to_excel(os.path.join(os.getcwd(),folder,'promiscuous_binders_False_{}_{}.xlsx'.format(i,''.join(set(iedb_recommended_binders.method)))))"
   ]
  },
  {
   "cell_type": "markdown",
   "metadata": {},
   "source": [
    "# IEDB MHCII NetMHCIIpan"
   ]
  },
  {
   "cell_type": "code",
   "execution_count": null,
   "metadata": {},
   "outputs": [],
   "source": [
    "reload(base)\n",
    "iedb_netmhciipan = base.get_predictor('iedbmhc2')\n",
    "iedb_netmhciipan.load(path=netmhciipan_el_path)"
   ]
  },
  {
   "cell_type": "code",
   "execution_count": null,
   "metadata": {},
   "outputs": [],
   "source": [
    "reload(base)\n",
    "iedb_netmhciipan_binders = iedb_netmhciipan.get_binders(cutoff=cutoff_mhcii,cutoff_method=cutoff_method)\n",
    "print(len(iedb_netmhciipan_binders))\n",
    "iedb_netmhciipan_binders.name.value_counts()"
   ]
  },
  {
   "cell_type": "code",
   "execution_count": null,
   "metadata": {},
   "outputs": [],
   "source": [
    "for i,j in iedb_netmhciipan_binders.groupby('name'):\n",
    "    if i == locus_tag:\n",
    "        j.to_excel(os.path.join(os.getcwd(),folder,'get_binders_{}_{}.xlsx'.format(i,''.join(set(iedb_netmhciipan_binders.method)))))"
   ]
  },
  {
   "cell_type": "code",
   "execution_count": null,
   "metadata": {},
   "outputs": [],
   "source": [
    "reload(base)\n",
    "iedb_netmhciipan_promiscuos = iedb_netmhciipan.promiscuous_binders(n=niedbiinet,cutoff=cutoff_mhcii,limit=None,cutoff_method=cutoff_method)\n",
    "print(len(iedb_netmhciipan_promiscuos))\n",
    "iedb_netmhciipan_promiscuos.name.value_counts()"
   ]
  },
  {
   "cell_type": "code",
   "execution_count": null,
   "metadata": {},
   "outputs": [],
   "source": [
    "for i,j in iedb_netmhciipan_promiscuos.groupby('name'):\n",
    "    if i == locus_tag:\n",
    "        j.to_excel(os.path.join(os.getcwd(),folder,'promiscuous_binders_{}_{}.xlsx'.format(i,''.join(set(iedb_netmhciipan_binders.method)))))"
   ]
  },
  {
   "cell_type": "code",
   "execution_count": null,
   "metadata": {},
   "outputs": [],
   "source": [
    "reload(base)\n",
    "boolean=[True,False]\n",
    "for b in boolean:\n",
    "    if b is True:\n",
    "        iedb_netmhciipanpb_True = iedb_netmhciipan.promiscuous_binders2(binders=iedb_netmhciipan_binders,predictor='iedbmhc2',n=niedbiinet,analise=b)\n",
    "        print(len(iedb_netmhciipanpb_True))\n",
    "        for i,j in iedb_netmhciipanpb_True.groupby('name'):\n",
    "            if i == locus_tag:\n",
    "                j.to_excel(os.path.join(os.getcwd(),folder,'promiscuous_binders_True_{}_{}.xlsx'.format(i,''.join(set(iedb_netmhciipan_binders.method)))))\n",
    "    elif b is not True:\n",
    "        iedb_netmhciipanpb_False = iedb_netmhciipan.promiscuous_binders2(binders=iedb_netmhciipan_binders,predictor='iedbmhc2',n=niedbiinet,analise=b)\n",
    "        print(len(iedb_netmhciipanpb_False))\n",
    "        for i,j in iedb_netmhciipanpb_False.groupby('name'):\n",
    "            if i == locus_tag:\n",
    "                j.to_excel(os.path.join(os.getcwd(),folder,'promiscuous_binders_False_{}_{}.xlsx'.format(i,''.join(set(iedb_netmhciipan_binders.method)))))"
   ]
  },
  {
   "cell_type": "markdown",
   "metadata": {},
   "source": [
    "# NetMHCIIpan"
   ]
  },
  {
   "cell_type": "code",
   "execution_count": null,
   "metadata": {},
   "outputs": [],
   "source": [
    "reload(base)\n",
    "netmhciipan = base.get_predictor('netmhciipan')\n",
    "netmhciipan.load(path=netmhciipan_path)"
   ]
  },
  {
   "cell_type": "code",
   "execution_count": null,
   "metadata": {},
   "outputs": [],
   "source": [
    "reload(base)\n",
    "netmhciipan_binders = netmhciipan.get_binders(cutoff=cutoff_mhcii,cutoff_method=cutoff_method)\n",
    "print(len(netmhciipan_binders))\n",
    "netmhciipan_binders.name.value_counts()"
   ]
  },
  {
   "cell_type": "code",
   "execution_count": null,
   "metadata": {},
   "outputs": [],
   "source": [
    "for i,j in netmhciipan_binders.groupby('name'):\n",
    "    if i == locus_tag:\n",
    "        j.to_excel(os.path.join(os.getcwd(),folder,'get_binders_{}_{}.xlsx'.format(i,''.join(set(netmhciipan_binders.method)))))"
   ]
  },
  {
   "cell_type": "code",
   "execution_count": null,
   "metadata": {},
   "outputs": [],
   "source": [
    "reload(base)\n",
    "netmhciipan_promiscuos = netmhciipan.promiscuous_binders(n=nnetmhcii,cutoff=cutoff_mhcii,limit=None,cutoff_method=cutoff_method)\n",
    "print(len(netmhciipan_promiscuos))\n",
    "netmhciipan_promiscuos.name.value_counts()"
   ]
  },
  {
   "cell_type": "code",
   "execution_count": null,
   "metadata": {},
   "outputs": [],
   "source": [
    "for i,j in netmhciipan_promiscuos.groupby('name'):\n",
    "    if i == locus_tag:\n",
    "        j.to_excel(os.path.join(os.getcwd(),folder,'promiscuous_binders_{}_{}.xlsx'.format(i,''.join(set(netmhciipan_binders.method)))))"
   ]
  },
  {
   "cell_type": "code",
   "execution_count": null,
   "metadata": {},
   "outputs": [],
   "source": [
    "reload(base)\n",
    "boolean=[True,False]\n",
    "for b in boolean:\n",
    "    if b is True:\n",
    "        netmhciipan_True = netmhciipan.promiscuous_binders2(binders=netmhciipan_binders,predictor='netmhciipan',n=nnetmhcii,analise=b)\n",
    "        print(len(netmhciipan_True))\n",
    "        for i,j in netmhciipan_True.groupby('name'):\n",
    "            if i == locus_tag:\n",
    "                j.to_excel(os.path.join(os.getcwd(),folder,'promiscuous_binders_True_{}_{}.xlsx'.format(i,''.join(set(netmhciipan_binders.method)))))\n",
    "    elif b is not True:\n",
    "        netmhciipan_False = netmhciipan.promiscuous_binders2(binders=netmhciipan_binders,predictor='netmhciipan',n=nnetmhcii,analise=b)\n",
    "        print(len(netmhciipan_False))\n",
    "        for i,j in netmhciipan_False.groupby('name'):\n",
    "            if i == locus_tag:\n",
    "                j.to_excel(os.path.join(os.getcwd(),folder,'promiscuous_binders_False_{}_{}.xlsx'.format(i,''.join(set(netmhciipan_binders.method)))))"
   ]
  },
  {
   "cell_type": "markdown",
   "metadata": {},
   "source": [
    "# Dados"
   ]
  },
  {
   "cell_type": "markdown",
   "metadata": {},
   "source": [
    "### MHC I"
   ]
  },
  {
   "cell_type": "code",
   "execution_count": null,
   "metadata": {},
   "outputs": [],
   "source": [
    "reload(base)\n",
    "iedb = base.get_predictor('iedbmhc1')\n",
    "iedb.load(path=iedbmhc1_path)"
   ]
  },
  {
   "cell_type": "code",
   "execution_count": null,
   "metadata": {},
   "outputs": [],
   "source": [
    "reload(base)\n",
    "iedb_binders = iedb.get_binders(cutoff=2,cutoff_method=cutoff_method)\n",
    "print(len(iedb_binders))\n",
    "iedb_binders.name.value_counts()"
   ]
  },
  {
   "cell_type": "code",
   "execution_count": null,
   "metadata": {},
   "outputs": [],
   "source": [
    "reload(base)\n",
    "iedb_promiscuos = iedb.promiscuous_binders(n=niedbi,cutoff=cutoff_mhci,limit=None,cutoff_method=cutoff_method)\n",
    "print(len(iedb_promiscuos))\n",
    "iedb_promiscuos.name.value_counts()"
   ]
  },
  {
   "cell_type": "code",
   "execution_count": null,
   "metadata": {},
   "outputs": [],
   "source": [
    "reload(base)\n",
    "netmhcpan = base.get_predictor('netmhcpan')\n",
    "netmhcpan.load(path=netmhcpan_path)"
   ]
  },
  {
   "cell_type": "code",
   "execution_count": null,
   "metadata": {},
   "outputs": [],
   "source": [
    "reload(base)\n",
    "netmhcpan_binders = netmhcpan.get_binders(cutoff=2,cutoff_method=cutoff_method)\n",
    "print(len(netmhcpan_binders))\n",
    "netmhcpan_binders.name.value_counts()"
   ]
  },
  {
   "cell_type": "code",
   "execution_count": null,
   "metadata": {},
   "outputs": [],
   "source": [
    "reload(base)\n",
    "netmhcpan_promiscuos = netmhcpan.promiscuous_binders(n=nnetmhc,cutoff=cutoff_mhci,limit=None,cutoff_method=cutoff_method)\n",
    "print(len(netmhcpan_promiscuos))\n",
    "netmhcpan_promiscuos.name.value_counts()"
   ]
  },
  {
   "cell_type": "code",
   "execution_count": null,
   "metadata": {},
   "outputs": [],
   "source": [
    "reload(base)\n",
    "mhcflurry = base.get_predictor('mhcflurry')\n",
    "mhcflurry.load(path=mhcflurry_path)"
   ]
  },
  {
   "cell_type": "code",
   "execution_count": null,
   "metadata": {},
   "outputs": [],
   "source": [
    "reload(base)\n",
    "mhcflurry_binders = mhcflurry.get_binders(cutoff=2,cutoff_method=cutoff_method)\n",
    "print(len(mhcflurry_binders))\n",
    "mhcflurry_binders.name.value_counts()"
   ]
  },
  {
   "cell_type": "code",
   "execution_count": null,
   "metadata": {},
   "outputs": [],
   "source": [
    "reload(base)\n",
    "mhcflurry_promiscuos = mhcflurry.promiscuous_binders(n=nflu,cutoff=cutoff_mhci,limit=None,cutoff_method=cutoff_method)\n",
    "print(len(mhcflurry_promiscuos))\n",
    "mhcflurry_promiscuos.name.value_counts()"
   ]
  },
  {
   "cell_type": "markdown",
   "metadata": {},
   "source": [
    "### MHC II"
   ]
  },
  {
   "cell_type": "code",
   "execution_count": null,
   "metadata": {},
   "outputs": [],
   "source": [
    "reload(base)\n",
    "iedb_recommended = base.get_predictor('iedbmhc2')\n",
    "iedb_recommended.load(path=recommended_path)"
   ]
  },
  {
   "cell_type": "code",
   "execution_count": null,
   "metadata": {},
   "outputs": [],
   "source": [
    "reload(base)\n",
    "iedb_recommended_binders = iedb_recommended.get_binders(cutoff=10,cutoff_method=cutoff_method)\n",
    "print(len(iedb_recommended_binders))\n",
    "iedb_recommended_binders.name.value_counts()"
   ]
  },
  {
   "cell_type": "code",
   "execution_count": null,
   "metadata": {},
   "outputs": [],
   "source": [
    "reload(base)\n",
    "iedbiipb = iedb_recommended.promiscuous_binders(n=niedbii,cutoff=cutoff_mhcii,limit=None,cutoff_method=cutoff_method)\n",
    "print(len(iedbiipb))\n",
    "iedbiipb.name.value_counts()"
   ]
  },
  {
   "cell_type": "code",
   "execution_count": null,
   "metadata": {},
   "outputs": [],
   "source": [
    "reload(base)\n",
    "iedb_netmhciipan = base.get_predictor('iedbmhc2')\n",
    "iedb_netmhciipan.load(path=netmhciipan_el_path)"
   ]
  },
  {
   "cell_type": "code",
   "execution_count": null,
   "metadata": {},
   "outputs": [],
   "source": [
    "reload(base)\n",
    "iedb_netmhciipan_binders = iedb_netmhciipan.get_binders(cutoff=10,cutoff_method=cutoff_method)\n",
    "print(len(iedb_netmhciipan_binders))\n",
    "iedb_netmhciipan_binders.name.value_counts()"
   ]
  },
  {
   "cell_type": "code",
   "execution_count": null,
   "metadata": {},
   "outputs": [],
   "source": [
    "reload(base)\n",
    "iedb_netmhciipan_promiscuos = iedb_netmhciipan.promiscuous_binders(n=niedbiinet,cutoff=cutoff_mhcii,limit=None,cutoff_method=cutoff_method)\n",
    "print(len(iedb_netmhciipan_promiscuos))\n",
    "iedb_netmhciipan_promiscuos.name.value_counts()"
   ]
  },
  {
   "cell_type": "code",
   "execution_count": null,
   "metadata": {},
   "outputs": [],
   "source": [
    "reload(base)\n",
    "netmhciipan = base.get_predictor('netmhciipan')\n",
    "netmhciipan.load(path=netmhciipan_path)"
   ]
  },
  {
   "cell_type": "code",
   "execution_count": null,
   "metadata": {},
   "outputs": [],
   "source": [
    "reload(base)\n",
    "netmhciipan_binders = netmhciipan.get_binders(cutoff=10,cutoff_method=cutoff_method)\n",
    "print(len(netmhciipan_binders))\n",
    "netmhciipan_binders.name.value_counts()"
   ]
  },
  {
   "cell_type": "code",
   "execution_count": null,
   "metadata": {},
   "outputs": [],
   "source": [
    "reload(base)\n",
    "netmhciipan_promiscuos = netmhciipan.promiscuous_binders(n=nnetmhcii,cutoff=cutoff_mhcii,limit=None,cutoff_method=cutoff_method)\n",
    "print(len(netmhciipan_promiscuos))\n",
    "netmhciipan_promiscuos.name.value_counts()"
   ]
  },
  {
   "cell_type": "code",
   "execution_count": null,
   "metadata": {},
   "outputs": [],
   "source": [
    "frame_dados_mhci = [mhcflurry_binders,iedb_binders, netmhcpan_binders]\n",
    "# frame_prom_one_mhci = [netmhcpan_promiscuos]\n",
    "\n",
    "concat_dados_mhci = pd.concat(frame_dados_mhci, ignore_index=True).sort_values(['pos']).reset_index().drop(columns=['index'])\n",
    "concat_dados_mhci.name.value_counts()"
   ]
  },
  {
   "cell_type": "code",
   "execution_count": null,
   "metadata": {},
   "outputs": [],
   "source": [
    "frame_dados_mhcii = [iedb_netmhciipan_binders,iedb_recommended_binders, netmhciipan_binders,mhcflurry_binders,iedb_binders, netmhcpan_binders]\n",
    "# frame_prom_one_mhci = [netmhcpan_promiscuos]\n",
    "\n",
    "concat_dados_mhcii = pd.concat(frame_dados_mhcii, ignore_index=True).sort_values(['pos']).reset_index().drop(columns=['index'])\n",
    "concat_dados_mhcii.name.value_counts()"
   ]
  },
  {
   "cell_type": "code",
   "execution_count": null,
   "metadata": {},
   "outputs": [],
   "source": [
    "frame_dados_prom_mhci = [mhcflurry_promiscuos,iedb_promiscuos, netmhcpan_promiscuos]\n",
    "# frame_prom_one_mhci = [netmhcpan_promiscuos]\n",
    "\n",
    "concat_dados_prom_mhci = pd.concat(frame_dados_prom_mhci, ignore_index=True).sort_values(['pos']).reset_index().drop(columns=['index'])\n",
    "concat_dados_prom_mhci.name.value_counts()"
   ]
  },
  {
   "cell_type": "code",
   "execution_count": null,
   "metadata": {},
   "outputs": [],
   "source": [
    "frame_dados_prom_mhcii = [iedb_netmhciipan_promiscuos,iedb_recommended_binders, netmhciipan_promiscuos, mhcflurry_promiscuos,iedb_promiscuos, netmhcpan_promiscuos]\n",
    "# frame_prom_one_mhci = [netmhcpan_promiscuos]\n",
    "\n",
    "concat_dados_prom_mhcii = pd.concat(frame_dados_prom_mhcii, ignore_index=True).sort_values(['pos']).reset_index().drop(columns=['index'])\n",
    "concat_dados_prom_mhcii.name.value_counts()"
   ]
  },
  {
   "cell_type": "markdown",
   "metadata": {},
   "source": [
    "# Epitopes cluster MHCI"
   ]
  },
  {
   "cell_type": "code",
   "execution_count": null,
   "metadata": {},
   "outputs": [],
   "source": [
    "# folder = input('Insira o nome da pasta: ')\n",
    "cluster = 'cluster'\n",
    "\n",
    "try:\n",
    "#     parent_dir = '/home/pedro/Documentos/Master_work/resultados_sars2/S_RefSeq/'\n",
    "    os.chdir(savepath)\n",
    "    origin = os.path.join(savepath,folder ,cluster)\n",
    "    os.mkdir(origin)\n",
    "    print('Criado pasta %s: %s' %(cluster,origin))\n",
    "except OSError:\n",
    "    print('Pasta {} já existe no diretório'.format(cluster))\n",
    "    pass\n",
    "\n",
    "mhc = ['mhci','mhcii','mhci_and_mhcii']\n",
    "\n",
    "try:\n",
    "    for i in mhc:\n",
    "        files = os.path.join(origin,i)\n",
    "        try: \n",
    "            os.mkdir(files) \n",
    "        except OSError: \n",
    "            print('pasta %s já existe' %(i))\n",
    "except OSError:\n",
    "    pass"
   ]
  },
  {
   "cell_type": "code",
   "execution_count": null,
   "metadata": {},
   "outputs": [],
   "source": [
    "clustermhc1_path = os.path.join(savepath,folder,cluster,'mhci')\n",
    "print(clustermhc1_path)\n",
    "nameprov = [x for x in prot.result.locus_tag]\n",
    "name=''.join(nameprov)\n",
    "print(name)"
   ]
  },
  {
   "cell_type": "code",
   "execution_count": null,
   "metadata": {},
   "outputs": [],
   "source": [
    "frame_prom_one_mhci = [mhcflurry_promiscuos,iedb_promiscuos, netmhcpan_promiscuos]\n",
    "# frame_prom_one_mhci = [netmhcpan_promiscuos]\n",
    "\n",
    "concat_prom_one_mhci = pd.concat(frame_prom_one_mhci, ignore_index=True).sort_values(['pos']).reset_index().drop(columns=['index'])\n",
    "concat_prom_one_mhci['length'] = base.get_length(concat_prom_one_mhci)\n",
    "print(concat_prom_one_mhci)\n",
    "\n",
    "pep = {}\n",
    "for n,b in list(concat_prom_one_mhci.groupby('name')):\n",
    "    pep[str(n)] = b\n",
    "concat_prom_one_mhci=pep[name]\n",
    "# print(pep_hpv_e6_hpb16)\n",
    "\n",
    "concat_prom_one_mhci.to_excel(os.path.join(clustermhc1_path, 'concat_mhci1_%s.xlsx' %(name)))\n",
    "display(concat_prom_one_mhci)\n",
    "\n",
    "# outputfas = os.path.join(clustermhc1_path,'epitopes_mhci_%s.fasta'  %(''.join(locus_tag)))\n",
    "# fasep = sequtils.dataframe_to_fasta(resulti, outfile=outputfas, seqkey='peptide', idkey='core')"
   ]
  },
  {
   "cell_type": "code",
   "execution_count": null,
   "metadata": {},
   "outputs": [],
   "source": [
    "frame_prom_two_mhci = [mhcflurry_promiscuos_True, iedb_promiscuos_True, netmhcpan_promiscuos_True]\n",
    "# frame_prom_two_mhci = [netmhcpan_promiscuos_True]\n",
    "# print(frame_prom_two_mhci)\n",
    "concat_prom_two_mhci = pd.concat(frame_prom_two_mhci, ignore_index=True).sort_values(['pos'])\n",
    "concat_prom_two_mhci= concat_prom_two_mhci.sort_values(['pos']).reset_index().drop(columns=['index'])\n",
    "\n",
    "pep = {}\n",
    "for n,b in list(concat_prom_two_mhci.groupby('name')):\n",
    "    pep[str(n)] = b\n",
    "concat_prom_two_mhci=pep[name]\n",
    "\n",
    "concat_prom_two_mhci.to_excel(os.path.join(clustermhc1_path, 'concat_mhci2_%s.xlsx' %(name)))\n",
    "# resulti2 = resulti2.drop(columns=['peptide','length','alleles_count','median_rank','rank','bind_level']).reset_index()\n",
    "display(concat_prom_two_mhci)"
   ]
  },
  {
   "cell_type": "code",
   "execution_count": null,
   "metadata": {},
   "outputs": [],
   "source": [
    "reload(base)\n",
    "reload(analysis)\n",
    "\n",
    "clmhci = analysis.find_clusters(concat_prom_one_mhci,dist=4, min_binders=2, min_size=9, max_size=1000)\n",
    "\n",
    "cluster_mhci = clmhci[0]\n",
    "noise_mhci = clmhci[1]\n",
    "\n",
    "display(cluster_mhci)\n",
    "display(noise_mhci)"
   ]
  },
  {
   "cell_type": "code",
   "execution_count": null,
   "metadata": {},
   "outputs": [],
   "source": [
    "reload(base)\n",
    "reload(analysis)\n",
    "allele_mhci = analysis.allelecluster(cluster_mhci,concat_prom_two_mhci,'alleles_mhci','alleles_count_mhci')\n",
    "allele_noise_mhci = analysis.allelecluster(noise_mhci,concat_prom_two_mhci,'alleles_mhci','alleles_count_mhci')\n",
    "\n",
    "display(allele_mhci)\n",
    "display(allele_noise_mhci)"
   ]
  },
  {
   "cell_type": "code",
   "execution_count": null,
   "metadata": {},
   "outputs": [],
   "source": [
    "reload(base)\n",
    "reload(analysis)\n",
    "\n",
    "over = analysis.get_overlaps(allele_mhci, allele_noise_mhci, label='overlap', how='any', kind='noise')\n",
    "\n",
    "display(over)\n",
    "\n",
    "over.to_excel(os.path.join(clustermhc1_path, 'overlap_noise_cluster_%s.xlsx' %(''.join(name))))"
   ]
  },
  {
   "cell_type": "code",
   "execution_count": null,
   "metadata": {},
   "outputs": [],
   "source": [
    "reload(base)\n",
    "reload(analysis)\n",
    "\n",
    "final_mhci = analysis.take_sequence(allele_mhci,prot.result)\n",
    "final_noise_mhci = analysis.take_sequence(allele_noise_mhci,prot.result)\n",
    "\n",
    "display(final_mhci)\n",
    "display(final_noise_mhci)\n",
    "\n",
    "final_mhci.to_excel(os.path.join(clustermhc1_path, 'cluster_mhc_%s.xlsx' %(''.join(name))))"
   ]
  },
  {
   "cell_type": "markdown",
   "metadata": {},
   "source": [
    "# Epitopes cluster MHCII"
   ]
  },
  {
   "cell_type": "code",
   "execution_count": null,
   "metadata": {},
   "outputs": [],
   "source": [
    "clustermhc2_path = os.path.join(savepath,folder,cluster,'mhcii')\n",
    "print(clustermhc2_path)"
   ]
  },
  {
   "cell_type": "code",
   "execution_count": null,
   "metadata": {},
   "outputs": [],
   "source": [
    "frame_mhcii_prom_one = [iedbiipb, iedb_netmhciipan_promiscuos, netmhciipan_promiscuos]\n",
    "# frame_mhcii_prom_one = [netmhciipan_promiscuos]\n",
    "\n",
    "concat_mhcii_prom_one = pd.concat(frame_mhcii_prom_one, ignore_index=True).sort_values(['pos']).reset_index().drop(columns=['index'])\n",
    "concat_mhcii_prom_one['length'] = base.get_length(concat_mhcii_prom_one)\n",
    "\n",
    "pep = {}\n",
    "for n,b in list(concat_mhcii_prom_one.groupby('name')):\n",
    "    pep[str(n)] = b\n",
    "    \n",
    "concat_mhcii_prom_one=pep[name]\n",
    "\n",
    "concat_mhcii_prom_one.to_excel(os.path.join(clustermhc2_path, 'concat_mhcii_%s.xlsx' %(''.join(name))))\n",
    "display(concat_mhcii_prom_one)\n",
    "print(len(concat_mhcii_prom_one))"
   ]
  },
  {
   "cell_type": "code",
   "execution_count": null,
   "metadata": {},
   "outputs": [],
   "source": [
    "frame_mhcii_prom_two = [iedbii_recommended_true, iedb_netmhciipanpb_True, netmhciipan_True]\n",
    "# frame_mhcii_prom_two = [netmhciipan_True]\n",
    "\n",
    "concat_mhcii_prom_two = pd.concat(frame_mhcii_prom_two, ignore_index=True).sort_values(['pos']).reset_index().drop(columns=['index'])\n",
    "\n",
    "pep = {}\n",
    "for n,b in list(concat_mhcii_prom_two.groupby('name')):\n",
    "    pep[str(n)] = b\n",
    "concat_mhcii_prom_two=pep[name]\n",
    "\n",
    "concat_mhcii_prom_two.to_excel(os.path.join(clustermhc2_path, 'concat_mhcii2_%s.xlsx' %(''.join(name))))\n",
    "display(concat_mhcii_prom_two)"
   ]
  },
  {
   "cell_type": "code",
   "execution_count": null,
   "metadata": {},
   "outputs": [],
   "source": [
    "reload(base)\n",
    "reload(analysis)\n",
    "clmhciit = analysis.find_clusters(concat_mhcii_prom_one,dist=8, min_binders=2, min_size=15, max_size=1000)\n",
    "cluster_mhcii = clmhciit[0]\n",
    "noise_mhcii = clmhciit[1]\n",
    "\n",
    "display(cluster_mhcii)\n",
    "display(noise_mhcii)"
   ]
  },
  {
   "cell_type": "code",
   "execution_count": null,
   "metadata": {},
   "outputs": [],
   "source": [
    "reload(base)\n",
    "reload(analysis)\n",
    "allele_mhcii = analysis.allelecluster(cluster_mhcii,concat_mhcii_prom_two,'alleles_mhcii','alleles_count_mhcii')\n",
    "allele_noise_mhcii = analysis.allelecluster(noise_mhcii,concat_mhcii_prom_two,'alleles_mhcii','alleles_count_mhcii')\n",
    "\n",
    "display(allele_mhcii)\n",
    "display(allele_noise_mhcii)"
   ]
  },
  {
   "cell_type": "code",
   "execution_count": null,
   "metadata": {},
   "outputs": [],
   "source": [
    "reload(base)\n",
    "reload(analysis)\n",
    "final_mhcii = analysis.take_sequence(allele_mhcii,prot.result)\n",
    "final_noise_mhcii = analysis.take_sequence(allele_noise_mhcii,prot.result)\n",
    "\n",
    "display(final_mhcii)\n",
    "display(final_noise_mhcii)\n",
    "\n",
    "final_mhcii.to_excel(os.path.join(clustermhc2_path, 'cluster_mhcii_%s.xlsx' %(''.join(name))))"
   ]
  },
  {
   "cell_type": "code",
   "execution_count": null,
   "metadata": {},
   "outputs": [],
   "source": [
    "reload(base)\n",
    "reload(analysis)\n",
    "\n",
    "over = analysis.get_overlaps(allele_mhcii, allele_noise_mhcii, label='overlap', how='any', kind='noise')\n",
    "\n",
    "display(over)\n",
    "\n",
    "over.to_excel(os.path.join(clustermhc2_path, 'overlap_noise_cluster_%s.xlsx' %('_'.join(name))))"
   ]
  },
  {
   "cell_type": "markdown",
   "metadata": {},
   "source": [
    "# Epitopes cluster MHCs"
   ]
  },
  {
   "cell_type": "code",
   "execution_count": null,
   "metadata": {},
   "outputs": [],
   "source": [
    "clustermhc1e2_path = os.path.join(savepath,folder,cluster,'mhci_and_mhcii')\n",
    "print(clustermhc1e2_path)"
   ]
  },
  {
   "cell_type": "code",
   "execution_count": null,
   "metadata": {},
   "outputs": [],
   "source": [
    "reload(base)\n",
    "reload(analysis)\n",
    "\n",
    "over = analysis.get_overlaps(final_mhci, final_mhcii, label='overlap', how='any')\n",
    "\n",
    "display(over)\n",
    "\n",
    "over.to_excel(os.path.join(clustermhc1e2_path, 'overlap_mhcs_%s.xlsx' %(''.join(name))))"
   ]
  },
  {
   "cell_type": "code",
   "execution_count": null,
   "metadata": {},
   "outputs": [],
   "source": [
    "# frames = [mhcflurry_promiscuos, iedbpb, netmhcpan_promiscuos,iedbiipb,iedbiinpb,netmhciipanpb]\n",
    "frame_prom_one_mhcs=[concat_prom_one_mhci,concat_mhcii_prom_one]\n",
    "concat_prom_one_mhcs = pd.concat(frame_prom_one_mhcs, ignore_index=False).sort_values(['pos']).reset_index().drop(columns=['index'])\n",
    "concat_prom_one_mhcs.to_excel(os.path.join(clustermhc1e2_path, 'concat_mhc_I_II1_%s.xlsx' %(''.join(name))))\n",
    "display(concat_prom_one_mhcs)"
   ]
  },
  {
   "cell_type": "code",
   "execution_count": null,
   "metadata": {},
   "outputs": [],
   "source": [
    "# frame_prom_two_mhcs = [mhcflurrypb2, iedbpb2, netmhcpanpb2,iedbiipb2,iedbiinpb2,netmhciipanpb2]\n",
    "frame_prom_two_mhcs = [concat_prom_two_mhci,concat_mhcii_prom_two]\n",
    "# concat_prom_two_mhcs = pd.concat(frame_prom_two_mhcs, ignore_index=True).sort_values(['pos']).drop(columns=['mhcflurry_affinity','mhcflurry_presentation_percentile','mhcflurry_presentation_score',\n",
    "#                                                                                   'mhcflurry_processing_score','core','Of','Gp','Gl','Ip','Il','rank_BA','ic50']).reset_index().drop(columns=['index'])\n",
    "concat_prom_two_mhcs = pd.concat(frame_prom_two_mhcs, ignore_index=True).sort_values(['pos']).reset_index().drop(columns=['index','bind_level','rank_BA','ic50'])\n",
    "concat_prom_two_mhcs.to_excel(os.path.join(clustermhc1e2_path, 'concat_mhc_I_II_alt_%s.xlsx' %(''.join(name))))\n",
    "display(concat_prom_two_mhcs)"
   ]
  },
  {
   "cell_type": "code",
   "execution_count": null,
   "metadata": {},
   "outputs": [],
   "source": [
    "reload(base)\n",
    "reload(analysis)\n",
    "\n",
    "clmhc = analysis.find_clusters(concat_prom_one_mhcs,dist=3, min_binders=2, min_size=9, max_size=1000, allmhc=True)\n",
    "\n",
    "cluster = clmhc[0]\n",
    "noise = clmhc[1]\n",
    "\n",
    "display(cluster)\n",
    "display(noise)"
   ]
  },
  {
   "cell_type": "code",
   "execution_count": null,
   "metadata": {},
   "outputs": [],
   "source": [
    "reload(base)\n",
    "reload(analysis)\n",
    "\n",
    "allele_final = analysis.allelecluster(cluster,concat_prom_two_mhci,'alleles_mhci','alleles_count_mhci')\n",
    "allele_noise = analysis.allelecluster(noise,concat_prom_two_mhci,'alleles_mhci','alleles_count_mhci')\n",
    "\n",
    "allele_final = analysis.allelecluster(cluster,concat_mhcii_prom_two,'alleles_mhcii','alleles_count_mhcii')\n",
    "allele_noise = analysis.allelecluster(noise,concat_mhcii_prom_two,'alleles_mhcii','alleles_count_mhcii')\n",
    "\n",
    "display(allele_final)\n",
    "display(allele_noise)"
   ]
  },
  {
   "cell_type": "code",
   "execution_count": null,
   "metadata": {},
   "outputs": [],
   "source": [
    "reload(base)\n",
    "reload(analysis)\n",
    "final = analysis.take_sequence(allele_final,prot.result)\n",
    "final_noise = analysis.take_sequence(allele_noise,prot.result)\n",
    "\n",
    "display(final)\n",
    "display(final_noise)\n",
    "final.to_excel(os.path.join(clustermhc1e2_path, 'cluster_mhc_I_II_%s.xlsx' %(''.join(name))))"
   ]
  },
  {
   "cell_type": "code",
   "execution_count": null,
   "metadata": {},
   "outputs": [],
   "source": [
    "# t=time.time()-st\n",
    "# print ('took %s seconds' %str(round(t,3)))"
   ]
  },
  {
   "cell_type": "markdown",
   "metadata": {},
   "source": [
    "# Conservation"
   ]
  },
  {
   "cell_type": "code",
   "execution_count": null,
   "metadata": {},
   "outputs": [],
   "source": [
    "homeseq = os.path.expanduser(\"~\")\n",
    "saveseq = os.path.dirname(\"Sequences/\")\n",
    "savepathseq=os.path.join(homeseq, saveseq)\n",
    "onlyfiles = [f for f in listdir(savepathseq) if isfile(join(savepathseq, f))]\n",
    "\n",
    "\n",
    "# Create text widget for output\n",
    "output = widgets.Text('')\n",
    "\n",
    "button = widgets.ToggleButtons(\n",
    "    options=onlyfiles,\n",
    "    description='Sequences:',\n",
    "    disabled=False,\n",
    "    button_style='info', # 'success', 'info', 'warning', 'danger' or ''\n",
    "    tooltips=['Description of slow', 'Description of regular', 'Description of fast'],\n",
    "#     icons=['check'] * 3\n",
    ")\n",
    "\n",
    "# choise=widgets.Dropdown(options=onlyfiles,description='Sequences:',disabled=False)\n",
    "# display(choise)\n",
    "\n",
    "# Define function to bind value of the input to the output variable \n",
    "def bind_input_to_output(sender):\n",
    "    output.value = button.value\n",
    "\n",
    "# Tell the text input widget to call bind_input_to_output() on submit\n",
    "button.observe(bind_input_to_output)\n",
    "\n",
    "# Display input\n",
    "display(button)\n",
    "\n",
    "def seq(seq):\n",
    "    homeseq = os.path.expanduser(\"~\")\n",
    "    saveseq = os.path.dirname(\"Sequences/\")\n",
    "    savepathseq=os.path.join(homeseq, saveseq)\n",
    "    fastafile = os.path.join(savepathseq, seq)\n",
    "    print(fastafile)\n",
    "    prot = ep.fasta_to_dataframe(fastafile, header_sep=None, key='locus_tag', seqkey='translation')\n",
    "    locus_tag = list([prot.locus_tag[0]])\n",
    "#     display(prot[:20])\n",
    "    return prot"
   ]
  },
  {
   "cell_type": "code",
   "execution_count": null,
   "metadata": {},
   "outputs": [],
   "source": [
    "prot2 = widgets.interactive(seq, seq=output);\n",
    "sh2 = widgets.interact(seq, seq=output);"
   ]
  },
  {
   "cell_type": "code",
   "execution_count": null,
   "metadata": {},
   "outputs": [],
   "source": [
    "display(prot2)\n",
    "display(prot2.result)"
   ]
  },
  {
   "cell_type": "code",
   "execution_count": null,
   "metadata": {},
   "outputs": [],
   "source": [
    "reload(base)\n",
    "reload(analysis)\n",
    "reload(sequtils)\n",
    "\n",
    "sequio = sequtils.dataframe_to_seqrecords(prot2.result, seqkey='translation', idkey='locus_tag',descr='description')\n",
    "display(sequio)"
   ]
  },
  {
   "cell_type": "code",
   "execution_count": null,
   "metadata": {},
   "outputs": [],
   "source": [
    "reload(base)\n",
    "reload(analysis)\n",
    "reload(sequtils)\n",
    "\n",
    "aln = sequtils.muscle_alignment(seqs=sequio)\n",
    "# sequtils.show_alignment(aln)\n",
    "alnrows = sequtils.alignment_to_dataframe(aln)\n",
    "alnrows_withoutgap=sequtils.dataframe_withoutgap(aln=aln)\n",
    "print(alnrows)\n",
    "print(alnrows_withoutgap)"
   ]
  },
  {
   "cell_type": "code",
   "execution_count": null,
   "metadata": {},
   "outputs": [],
   "source": [
    "reload(base)\n",
    "reload(analysis)\n",
    "reload(sequtils)\n",
    "\n",
    "pept=sequtils.list_of_peptides_from_dataframe(concat_prom_one_mhcs)\n",
    "print(pept)\n",
    "print(len(pept))"
   ]
  },
  {
   "cell_type": "code",
   "execution_count": null,
   "metadata": {},
   "outputs": [],
   "source": [
    "reload(base)\n",
    "reload(analysis)\n",
    "reload(sequtils)\n",
    "\n",
    "df = analysis.search_conservation(pept,alnrows_withoutgap,dup_epitope=True).sort_values(by='identity', ascending=False)\n",
    "df=analysis.loc_pos_epitope_conservation(concat_prom_one_mhcs,df)\n",
    "display(df)"
   ]
  },
  {
   "cell_type": "code",
   "execution_count": null,
   "metadata": {},
   "outputs": [],
   "source": [
    "df.to_excel(os.path.join(os.getcwd(),folder,'conservation_mhci_mhcii_{}_hpv611.xlsx'.format(''.join(set(concat_prom_one_mhcs.name)))))"
   ]
  },
  {
   "cell_type": "code",
   "execution_count": null,
   "metadata": {},
   "outputs": [],
   "source": [
    "# filt=df.query('identity >= 1.0').sort_values(by='pos_epitope', ascending=True)\n",
    "filt=df.query('identity >= 0.8')\n",
    "display(filt)\n",
    "filt.to_excel(os.path.join(os.getcwd(),folder,'conservation_mhci_mhcii_{}_filtrado_hpv611.xlsx'.format(''.join(set(concat_prom_one_mhcs.name)))))\n",
    "# iedb_pb_geral.query('peptide == @se')\n",
    "# # iedb_pb_geral.loc[iedb_pb_geral['peptide'] == se]"
   ]
  },
  {
   "cell_type": "code",
   "execution_count": null,
   "metadata": {},
   "outputs": [],
   "source": [
    "display(final)"
   ]
  },
  {
   "cell_type": "code",
   "execution_count": null,
   "metadata": {},
   "outputs": [],
   "source": [
    "# for m,n in final.iterrows():\n",
    "#     sequence= n.cluster\n",
    "#     print(sequence)\n",
    "#     found = sequence.find('KCLKFYSKI')\n",
    "#     print(found)"
   ]
  },
  {
   "cell_type": "markdown",
   "metadata": {},
   "source": [
    "# Plot"
   ]
  },
  {
   "cell_type": "code",
   "execution_count": 16,
   "metadata": {},
   "outputs": [
    {
     "name": "stdout",
     "output_type": "stream",
     "text": [
      "Criado pasta plot: /home/pedro/Documentos/Master_work/HPV/test_plotly/plot\n",
      "/home/pedro/Documentos/Master_work/HPV\n"
     ]
    }
   ],
   "source": [
    "# folder = input('Insira o nome da pasta: ')\n",
    "plot = 'plot'\n",
    "\n",
    "try:\n",
    "#     parent_dir = '/home/pedro/Documentos/Master_work/resultados_sars2/S_RefSeq/'\n",
    "    os.chdir(savepath)\n",
    "    origin = os.path.join(savepath,folder,plot)\n",
    "    os.mkdir(origin)\n",
    "    print('Criado pasta %s: %s' %(plot,origin))\n",
    "except OSError:\n",
    "    print('Pasta já existe no diretório')\n",
    "    pass\n",
    "\n",
    "mhc = ['mhci','mhcii','mhci_and_mhcii']\n",
    "\n",
    "try:\n",
    "    for i in mhc:\n",
    "        files = os.path.join(origin,i)\n",
    "        try: \n",
    "            os.mkdir(files) \n",
    "        except OSError: \n",
    "            print('pasta %s já existe' %(i))\n",
    "except OSError:\n",
    "    pass\n",
    "\n",
    "a= os.getcwd()\n",
    "print(a)"
   ]
  },
  {
   "cell_type": "code",
   "execution_count": 17,
   "metadata": {},
   "outputs": [
    {
     "name": "stdout",
     "output_type": "stream",
     "text": [
      "/home/pedro/Documentos/Master_work/HPV/test_plotly/plot/mhci\n"
     ]
    }
   ],
   "source": [
    "plot_path = os.path.join(os.getcwd(),folder,plot,'mhci')\n",
    "print(plot_path)"
   ]
  },
  {
   "cell_type": "code",
   "execution_count": 18,
   "metadata": {},
   "outputs": [
    {
     "data": {
      "text/plain": [
       "'NP_041326.1_E7_HPV16'"
      ]
     },
     "execution_count": 18,
     "metadata": {},
     "output_type": "execute_result"
    }
   ],
   "source": [
    "locus_tag = prot.result.locus_tag[0]\n",
    "locus_tag"
   ]
  },
  {
   "cell_type": "code",
   "execution_count": 19,
   "metadata": {
    "scrolled": true
   },
   "outputs": [
    {
     "name": "stdout",
     "output_type": "stream",
     "text": [
      "iedbmhc1\n",
      "MHGDTPTLHEYMLDLQPETTDLYCYEQLNDSSEEEDEIDGPAGQAEPDRAHYNIVTFCCKCDSTLRLCVQSTHVDIRTLEDLLMGTLGIVCPICSQKP\n",
      "IEDBI_recommended\n"
     ]
    },
    {
     "data": {
      "text/html": [
       "\n",
       "    <div class=\"bk-root\">\n",
       "        <a href=\"https://bokeh.org\" target=\"_blank\" class=\"bk-logo bk-logo-small bk-logo-notebook\"></a>\n",
       "        <span id=\"1177\">Loading BokehJS ...</span>\n",
       "    </div>"
      ]
     },
     "metadata": {},
     "output_type": "display_data"
    },
    {
     "data": {
      "application/javascript": [
       "\n",
       "(function(root) {\n",
       "  function now() {\n",
       "    return new Date();\n",
       "  }\n",
       "\n",
       "  var force = true;\n",
       "\n",
       "  if (typeof root._bokeh_onload_callbacks === \"undefined\" || force === true) {\n",
       "    root._bokeh_onload_callbacks = [];\n",
       "    root._bokeh_is_loading = undefined;\n",
       "  }\n",
       "\n",
       "  var JS_MIME_TYPE = 'application/javascript';\n",
       "  var HTML_MIME_TYPE = 'text/html';\n",
       "  var EXEC_MIME_TYPE = 'application/vnd.bokehjs_exec.v0+json';\n",
       "  var CLASS_NAME = 'output_bokeh rendered_html';\n",
       "\n",
       "  /**\n",
       "   * Render data to the DOM node\n",
       "   */\n",
       "  function render(props, node) {\n",
       "    var script = document.createElement(\"script\");\n",
       "    node.appendChild(script);\n",
       "  }\n",
       "\n",
       "  /**\n",
       "   * Handle when an output is cleared or removed\n",
       "   */\n",
       "  function handleClearOutput(event, handle) {\n",
       "    var cell = handle.cell;\n",
       "\n",
       "    var id = cell.output_area._bokeh_element_id;\n",
       "    var server_id = cell.output_area._bokeh_server_id;\n",
       "    // Clean up Bokeh references\n",
       "    if (id != null && id in Bokeh.index) {\n",
       "      Bokeh.index[id].model.document.clear();\n",
       "      delete Bokeh.index[id];\n",
       "    }\n",
       "\n",
       "    if (server_id !== undefined) {\n",
       "      // Clean up Bokeh references\n",
       "      var cmd = \"from bokeh.io.state import curstate; print(curstate().uuid_to_server['\" + server_id + \"'].get_sessions()[0].document.roots[0]._id)\";\n",
       "      cell.notebook.kernel.execute(cmd, {\n",
       "        iopub: {\n",
       "          output: function(msg) {\n",
       "            var id = msg.content.text.trim();\n",
       "            if (id in Bokeh.index) {\n",
       "              Bokeh.index[id].model.document.clear();\n",
       "              delete Bokeh.index[id];\n",
       "            }\n",
       "          }\n",
       "        }\n",
       "      });\n",
       "      // Destroy server and session\n",
       "      var cmd = \"import bokeh.io.notebook as ion; ion.destroy_server('\" + server_id + \"')\";\n",
       "      cell.notebook.kernel.execute(cmd);\n",
       "    }\n",
       "  }\n",
       "\n",
       "  /**\n",
       "   * Handle when a new output is added\n",
       "   */\n",
       "  function handleAddOutput(event, handle) {\n",
       "    var output_area = handle.output_area;\n",
       "    var output = handle.output;\n",
       "\n",
       "    // limit handleAddOutput to display_data with EXEC_MIME_TYPE content only\n",
       "    if ((output.output_type != \"display_data\") || (!output.data.hasOwnProperty(EXEC_MIME_TYPE))) {\n",
       "      return\n",
       "    }\n",
       "\n",
       "    var toinsert = output_area.element.find(\".\" + CLASS_NAME.split(' ')[0]);\n",
       "\n",
       "    if (output.metadata[EXEC_MIME_TYPE][\"id\"] !== undefined) {\n",
       "      toinsert[toinsert.length - 1].firstChild.textContent = output.data[JS_MIME_TYPE];\n",
       "      // store reference to embed id on output_area\n",
       "      output_area._bokeh_element_id = output.metadata[EXEC_MIME_TYPE][\"id\"];\n",
       "    }\n",
       "    if (output.metadata[EXEC_MIME_TYPE][\"server_id\"] !== undefined) {\n",
       "      var bk_div = document.createElement(\"div\");\n",
       "      bk_div.innerHTML = output.data[HTML_MIME_TYPE];\n",
       "      var script_attrs = bk_div.children[0].attributes;\n",
       "      for (var i = 0; i < script_attrs.length; i++) {\n",
       "        toinsert[toinsert.length - 1].firstChild.setAttribute(script_attrs[i].name, script_attrs[i].value);\n",
       "        toinsert[toinsert.length - 1].firstChild.textContent = bk_div.children[0].textContent\n",
       "      }\n",
       "      // store reference to server id on output_area\n",
       "      output_area._bokeh_server_id = output.metadata[EXEC_MIME_TYPE][\"server_id\"];\n",
       "    }\n",
       "  }\n",
       "\n",
       "  function register_renderer(events, OutputArea) {\n",
       "\n",
       "    function append_mime(data, metadata, element) {\n",
       "      // create a DOM node to render to\n",
       "      var toinsert = this.create_output_subarea(\n",
       "        metadata,\n",
       "        CLASS_NAME,\n",
       "        EXEC_MIME_TYPE\n",
       "      );\n",
       "      this.keyboard_manager.register_events(toinsert);\n",
       "      // Render to node\n",
       "      var props = {data: data, metadata: metadata[EXEC_MIME_TYPE]};\n",
       "      render(props, toinsert[toinsert.length - 1]);\n",
       "      element.append(toinsert);\n",
       "      return toinsert\n",
       "    }\n",
       "\n",
       "    /* Handle when an output is cleared or removed */\n",
       "    events.on('clear_output.CodeCell', handleClearOutput);\n",
       "    events.on('delete.Cell', handleClearOutput);\n",
       "\n",
       "    /* Handle when a new output is added */\n",
       "    events.on('output_added.OutputArea', handleAddOutput);\n",
       "\n",
       "    /**\n",
       "     * Register the mime type and append_mime function with output_area\n",
       "     */\n",
       "    OutputArea.prototype.register_mime_type(EXEC_MIME_TYPE, append_mime, {\n",
       "      /* Is output safe? */\n",
       "      safe: true,\n",
       "      /* Index of renderer in `output_area.display_order` */\n",
       "      index: 0\n",
       "    });\n",
       "  }\n",
       "\n",
       "  // register the mime type if in Jupyter Notebook environment and previously unregistered\n",
       "  if (root.Jupyter !== undefined) {\n",
       "    var events = require('base/js/events');\n",
       "    var OutputArea = require('notebook/js/outputarea').OutputArea;\n",
       "\n",
       "    if (OutputArea.prototype.mime_types().indexOf(EXEC_MIME_TYPE) == -1) {\n",
       "      register_renderer(events, OutputArea);\n",
       "    }\n",
       "  }\n",
       "\n",
       "  \n",
       "  if (typeof (root._bokeh_timeout) === \"undefined\" || force === true) {\n",
       "    root._bokeh_timeout = Date.now() + 5000;\n",
       "    root._bokeh_failed_load = false;\n",
       "  }\n",
       "\n",
       "  var NB_LOAD_WARNING = {'data': {'text/html':\n",
       "     \"<div style='background-color: #fdd'>\\n\"+\n",
       "     \"<p>\\n\"+\n",
       "     \"BokehJS does not appear to have successfully loaded. If loading BokehJS from CDN, this \\n\"+\n",
       "     \"may be due to a slow or bad network connection. Possible fixes:\\n\"+\n",
       "     \"</p>\\n\"+\n",
       "     \"<ul>\\n\"+\n",
       "     \"<li>re-rerun `output_notebook()` to attempt to load from CDN again, or</li>\\n\"+\n",
       "     \"<li>use INLINE resources instead, as so:</li>\\n\"+\n",
       "     \"</ul>\\n\"+\n",
       "     \"<code>\\n\"+\n",
       "     \"from bokeh.resources import INLINE\\n\"+\n",
       "     \"output_notebook(resources=INLINE)\\n\"+\n",
       "     \"</code>\\n\"+\n",
       "     \"</div>\"}};\n",
       "\n",
       "  function display_loaded() {\n",
       "    var el = document.getElementById(\"1177\");\n",
       "    if (el != null) {\n",
       "      el.textContent = \"BokehJS is loading...\";\n",
       "    }\n",
       "    if (root.Bokeh !== undefined) {\n",
       "      if (el != null) {\n",
       "        el.textContent = \"BokehJS \" + root.Bokeh.version + \" successfully loaded.\";\n",
       "      }\n",
       "    } else if (Date.now() < root._bokeh_timeout) {\n",
       "      setTimeout(display_loaded, 100)\n",
       "    }\n",
       "  }\n",
       "\n",
       "\n",
       "  function run_callbacks() {\n",
       "    try {\n",
       "      root._bokeh_onload_callbacks.forEach(function(callback) {\n",
       "        if (callback != null)\n",
       "          callback();\n",
       "      });\n",
       "    } finally {\n",
       "      delete root._bokeh_onload_callbacks\n",
       "    }\n",
       "    console.debug(\"Bokeh: all callbacks have finished\");\n",
       "  }\n",
       "\n",
       "  function load_libs(css_urls, js_urls, callback) {\n",
       "    if (css_urls == null) css_urls = [];\n",
       "    if (js_urls == null) js_urls = [];\n",
       "\n",
       "    root._bokeh_onload_callbacks.push(callback);\n",
       "    if (root._bokeh_is_loading > 0) {\n",
       "      console.debug(\"Bokeh: BokehJS is being loaded, scheduling callback at\", now());\n",
       "      return null;\n",
       "    }\n",
       "    if (js_urls == null || js_urls.length === 0) {\n",
       "      run_callbacks();\n",
       "      return null;\n",
       "    }\n",
       "    console.debug(\"Bokeh: BokehJS not loaded, scheduling load and callback at\", now());\n",
       "    root._bokeh_is_loading = css_urls.length + js_urls.length;\n",
       "\n",
       "    function on_load() {\n",
       "      root._bokeh_is_loading--;\n",
       "      if (root._bokeh_is_loading === 0) {\n",
       "        console.debug(\"Bokeh: all BokehJS libraries/stylesheets loaded\");\n",
       "        run_callbacks()\n",
       "      }\n",
       "    }\n",
       "\n",
       "    function on_error() {\n",
       "      console.error(\"failed to load \" + url);\n",
       "    }\n",
       "\n",
       "    for (var i = 0; i < css_urls.length; i++) {\n",
       "      var url = css_urls[i];\n",
       "      const element = document.createElement(\"link\");\n",
       "      element.onload = on_load;\n",
       "      element.onerror = on_error;\n",
       "      element.rel = \"stylesheet\";\n",
       "      element.type = \"text/css\";\n",
       "      element.href = url;\n",
       "      console.debug(\"Bokeh: injecting link tag for BokehJS stylesheet: \", url);\n",
       "      document.body.appendChild(element);\n",
       "    }\n",
       "\n",
       "    const hashes = {\"https://cdn.bokeh.org/bokeh/release/bokeh-2.2.3.min.js\": \"T2yuo9Oe71Cz/I4X9Ac5+gpEa5a8PpJCDlqKYO0CfAuEszu1JrXLl8YugMqYe3sM\", \"https://cdn.bokeh.org/bokeh/release/bokeh-widgets-2.2.3.min.js\": \"98GDGJ0kOMCUMUePhksaQ/GYgB3+NH9h996V88sh3aOiUNX3N+fLXAtry6xctSZ6\", \"https://cdn.bokeh.org/bokeh/release/bokeh-tables-2.2.3.min.js\": \"89bArO+nlbP3sgakeHjCo1JYxYR5wufVgA3IbUvDY+K7w4zyxJqssu7wVnfeKCq8\"};\n",
       "\n",
       "    for (var i = 0; i < js_urls.length; i++) {\n",
       "      var url = js_urls[i];\n",
       "      var element = document.createElement('script');\n",
       "      element.onload = on_load;\n",
       "      element.onerror = on_error;\n",
       "      element.async = false;\n",
       "      element.src = url;\n",
       "      if (url in hashes) {\n",
       "        element.crossOrigin = \"anonymous\";\n",
       "        element.integrity = \"sha384-\" + hashes[url];\n",
       "      }\n",
       "      console.debug(\"Bokeh: injecting script tag for BokehJS library: \", url);\n",
       "      document.head.appendChild(element);\n",
       "    }\n",
       "  };\n",
       "\n",
       "  function inject_raw_css(css) {\n",
       "    const element = document.createElement(\"style\");\n",
       "    element.appendChild(document.createTextNode(css));\n",
       "    document.body.appendChild(element);\n",
       "  }\n",
       "\n",
       "  \n",
       "  var js_urls = [\"https://cdn.bokeh.org/bokeh/release/bokeh-2.2.3.min.js\", \"https://cdn.bokeh.org/bokeh/release/bokeh-widgets-2.2.3.min.js\", \"https://cdn.bokeh.org/bokeh/release/bokeh-tables-2.2.3.min.js\"];\n",
       "  var css_urls = [];\n",
       "  \n",
       "\n",
       "  var inline_js = [\n",
       "    function(Bokeh) {\n",
       "      Bokeh.set_log_level(\"info\");\n",
       "    },\n",
       "    function(Bokeh) {\n",
       "    \n",
       "    \n",
       "    }\n",
       "  ];\n",
       "\n",
       "  function run_inline_js() {\n",
       "    \n",
       "    if (root.Bokeh !== undefined || force === true) {\n",
       "      \n",
       "    for (var i = 0; i < inline_js.length; i++) {\n",
       "      inline_js[i].call(root, root.Bokeh);\n",
       "    }\n",
       "    if (force === true) {\n",
       "        display_loaded();\n",
       "      }} else if (Date.now() < root._bokeh_timeout) {\n",
       "      setTimeout(run_inline_js, 100);\n",
       "    } else if (!root._bokeh_failed_load) {\n",
       "      console.log(\"Bokeh: BokehJS failed to load within specified timeout.\");\n",
       "      root._bokeh_failed_load = true;\n",
       "    } else if (force !== true) {\n",
       "      var cell = $(document.getElementById(\"1177\")).parents('.cell').data().cell;\n",
       "      cell.output_area.append_execute_result(NB_LOAD_WARNING)\n",
       "    }\n",
       "\n",
       "  }\n",
       "\n",
       "  if (root._bokeh_is_loading === 0) {\n",
       "    console.debug(\"Bokeh: BokehJS loaded, going straight to plotting\");\n",
       "    run_inline_js();\n",
       "  } else {\n",
       "    load_libs(css_urls, js_urls, function() {\n",
       "      console.debug(\"Bokeh: BokehJS plotting callback run at\", now());\n",
       "      run_inline_js();\n",
       "    });\n",
       "  }\n",
       "}(window));"
      ],
      "application/vnd.bokehjs_load.v0+json": "\n(function(root) {\n  function now() {\n    return new Date();\n  }\n\n  var force = true;\n\n  if (typeof root._bokeh_onload_callbacks === \"undefined\" || force === true) {\n    root._bokeh_onload_callbacks = [];\n    root._bokeh_is_loading = undefined;\n  }\n\n  \n\n  \n  if (typeof (root._bokeh_timeout) === \"undefined\" || force === true) {\n    root._bokeh_timeout = Date.now() + 5000;\n    root._bokeh_failed_load = false;\n  }\n\n  var NB_LOAD_WARNING = {'data': {'text/html':\n     \"<div style='background-color: #fdd'>\\n\"+\n     \"<p>\\n\"+\n     \"BokehJS does not appear to have successfully loaded. If loading BokehJS from CDN, this \\n\"+\n     \"may be due to a slow or bad network connection. Possible fixes:\\n\"+\n     \"</p>\\n\"+\n     \"<ul>\\n\"+\n     \"<li>re-rerun `output_notebook()` to attempt to load from CDN again, or</li>\\n\"+\n     \"<li>use INLINE resources instead, as so:</li>\\n\"+\n     \"</ul>\\n\"+\n     \"<code>\\n\"+\n     \"from bokeh.resources import INLINE\\n\"+\n     \"output_notebook(resources=INLINE)\\n\"+\n     \"</code>\\n\"+\n     \"</div>\"}};\n\n  function display_loaded() {\n    var el = document.getElementById(\"1177\");\n    if (el != null) {\n      el.textContent = \"BokehJS is loading...\";\n    }\n    if (root.Bokeh !== undefined) {\n      if (el != null) {\n        el.textContent = \"BokehJS \" + root.Bokeh.version + \" successfully loaded.\";\n      }\n    } else if (Date.now() < root._bokeh_timeout) {\n      setTimeout(display_loaded, 100)\n    }\n  }\n\n\n  function run_callbacks() {\n    try {\n      root._bokeh_onload_callbacks.forEach(function(callback) {\n        if (callback != null)\n          callback();\n      });\n    } finally {\n      delete root._bokeh_onload_callbacks\n    }\n    console.debug(\"Bokeh: all callbacks have finished\");\n  }\n\n  function load_libs(css_urls, js_urls, callback) {\n    if (css_urls == null) css_urls = [];\n    if (js_urls == null) js_urls = [];\n\n    root._bokeh_onload_callbacks.push(callback);\n    if (root._bokeh_is_loading > 0) {\n      console.debug(\"Bokeh: BokehJS is being loaded, scheduling callback at\", now());\n      return null;\n    }\n    if (js_urls == null || js_urls.length === 0) {\n      run_callbacks();\n      return null;\n    }\n    console.debug(\"Bokeh: BokehJS not loaded, scheduling load and callback at\", now());\n    root._bokeh_is_loading = css_urls.length + js_urls.length;\n\n    function on_load() {\n      root._bokeh_is_loading--;\n      if (root._bokeh_is_loading === 0) {\n        console.debug(\"Bokeh: all BokehJS libraries/stylesheets loaded\");\n        run_callbacks()\n      }\n    }\n\n    function on_error() {\n      console.error(\"failed to load \" + url);\n    }\n\n    for (var i = 0; i < css_urls.length; i++) {\n      var url = css_urls[i];\n      const element = document.createElement(\"link\");\n      element.onload = on_load;\n      element.onerror = on_error;\n      element.rel = \"stylesheet\";\n      element.type = \"text/css\";\n      element.href = url;\n      console.debug(\"Bokeh: injecting link tag for BokehJS stylesheet: \", url);\n      document.body.appendChild(element);\n    }\n\n    const hashes = {\"https://cdn.bokeh.org/bokeh/release/bokeh-2.2.3.min.js\": \"T2yuo9Oe71Cz/I4X9Ac5+gpEa5a8PpJCDlqKYO0CfAuEszu1JrXLl8YugMqYe3sM\", \"https://cdn.bokeh.org/bokeh/release/bokeh-widgets-2.2.3.min.js\": \"98GDGJ0kOMCUMUePhksaQ/GYgB3+NH9h996V88sh3aOiUNX3N+fLXAtry6xctSZ6\", \"https://cdn.bokeh.org/bokeh/release/bokeh-tables-2.2.3.min.js\": \"89bArO+nlbP3sgakeHjCo1JYxYR5wufVgA3IbUvDY+K7w4zyxJqssu7wVnfeKCq8\"};\n\n    for (var i = 0; i < js_urls.length; i++) {\n      var url = js_urls[i];\n      var element = document.createElement('script');\n      element.onload = on_load;\n      element.onerror = on_error;\n      element.async = false;\n      element.src = url;\n      if (url in hashes) {\n        element.crossOrigin = \"anonymous\";\n        element.integrity = \"sha384-\" + hashes[url];\n      }\n      console.debug(\"Bokeh: injecting script tag for BokehJS library: \", url);\n      document.head.appendChild(element);\n    }\n  };\n\n  function inject_raw_css(css) {\n    const element = document.createElement(\"style\");\n    element.appendChild(document.createTextNode(css));\n    document.body.appendChild(element);\n  }\n\n  \n  var js_urls = [\"https://cdn.bokeh.org/bokeh/release/bokeh-2.2.3.min.js\", \"https://cdn.bokeh.org/bokeh/release/bokeh-widgets-2.2.3.min.js\", \"https://cdn.bokeh.org/bokeh/release/bokeh-tables-2.2.3.min.js\"];\n  var css_urls = [];\n  \n\n  var inline_js = [\n    function(Bokeh) {\n      Bokeh.set_log_level(\"info\");\n    },\n    function(Bokeh) {\n    \n    \n    }\n  ];\n\n  function run_inline_js() {\n    \n    if (root.Bokeh !== undefined || force === true) {\n      \n    for (var i = 0; i < inline_js.length; i++) {\n      inline_js[i].call(root, root.Bokeh);\n    }\n    if (force === true) {\n        display_loaded();\n      }} else if (Date.now() < root._bokeh_timeout) {\n      setTimeout(run_inline_js, 100);\n    } else if (!root._bokeh_failed_load) {\n      console.log(\"Bokeh: BokehJS failed to load within specified timeout.\");\n      root._bokeh_failed_load = true;\n    } else if (force !== true) {\n      var cell = $(document.getElementById(\"1177\")).parents('.cell').data().cell;\n      cell.output_area.append_execute_result(NB_LOAD_WARNING)\n    }\n\n  }\n\n  if (root._bokeh_is_loading === 0) {\n    console.debug(\"Bokeh: BokehJS loaded, going straight to plotting\");\n    run_inline_js();\n  } else {\n    load_libs(css_urls, js_urls, function() {\n      console.debug(\"Bokeh: BokehJS plotting callback run at\", now());\n      run_inline_js();\n    });\n  }\n}(window));"
     },
     "metadata": {},
     "output_type": "display_data"
    },
    {
     "data": {
      "text/html": [
       "\n",
       "    <div class=\"bk-root\">\n",
       "        <a href=\"https://bokeh.org\" target=\"_blank\" class=\"bk-logo bk-logo-small bk-logo-notebook\"></a>\n",
       "        <span id=\"1189\">Loading BokehJS ...</span>\n",
       "    </div>"
      ]
     },
     "metadata": {},
     "output_type": "display_data"
    },
    {
     "data": {
      "application/javascript": [
       "\n",
       "(function(root) {\n",
       "  function now() {\n",
       "    return new Date();\n",
       "  }\n",
       "\n",
       "  var force = true;\n",
       "\n",
       "  if (typeof root._bokeh_onload_callbacks === \"undefined\" || force === true) {\n",
       "    root._bokeh_onload_callbacks = [];\n",
       "    root._bokeh_is_loading = undefined;\n",
       "  }\n",
       "\n",
       "  var JS_MIME_TYPE = 'application/javascript';\n",
       "  var HTML_MIME_TYPE = 'text/html';\n",
       "  var EXEC_MIME_TYPE = 'application/vnd.bokehjs_exec.v0+json';\n",
       "  var CLASS_NAME = 'output_bokeh rendered_html';\n",
       "\n",
       "  /**\n",
       "   * Render data to the DOM node\n",
       "   */\n",
       "  function render(props, node) {\n",
       "    var script = document.createElement(\"script\");\n",
       "    node.appendChild(script);\n",
       "  }\n",
       "\n",
       "  /**\n",
       "   * Handle when an output is cleared or removed\n",
       "   */\n",
       "  function handleClearOutput(event, handle) {\n",
       "    var cell = handle.cell;\n",
       "\n",
       "    var id = cell.output_area._bokeh_element_id;\n",
       "    var server_id = cell.output_area._bokeh_server_id;\n",
       "    // Clean up Bokeh references\n",
       "    if (id != null && id in Bokeh.index) {\n",
       "      Bokeh.index[id].model.document.clear();\n",
       "      delete Bokeh.index[id];\n",
       "    }\n",
       "\n",
       "    if (server_id !== undefined) {\n",
       "      // Clean up Bokeh references\n",
       "      var cmd = \"from bokeh.io.state import curstate; print(curstate().uuid_to_server['\" + server_id + \"'].get_sessions()[0].document.roots[0]._id)\";\n",
       "      cell.notebook.kernel.execute(cmd, {\n",
       "        iopub: {\n",
       "          output: function(msg) {\n",
       "            var id = msg.content.text.trim();\n",
       "            if (id in Bokeh.index) {\n",
       "              Bokeh.index[id].model.document.clear();\n",
       "              delete Bokeh.index[id];\n",
       "            }\n",
       "          }\n",
       "        }\n",
       "      });\n",
       "      // Destroy server and session\n",
       "      var cmd = \"import bokeh.io.notebook as ion; ion.destroy_server('\" + server_id + \"')\";\n",
       "      cell.notebook.kernel.execute(cmd);\n",
       "    }\n",
       "  }\n",
       "\n",
       "  /**\n",
       "   * Handle when a new output is added\n",
       "   */\n",
       "  function handleAddOutput(event, handle) {\n",
       "    var output_area = handle.output_area;\n",
       "    var output = handle.output;\n",
       "\n",
       "    // limit handleAddOutput to display_data with EXEC_MIME_TYPE content only\n",
       "    if ((output.output_type != \"display_data\") || (!output.data.hasOwnProperty(EXEC_MIME_TYPE))) {\n",
       "      return\n",
       "    }\n",
       "\n",
       "    var toinsert = output_area.element.find(\".\" + CLASS_NAME.split(' ')[0]);\n",
       "\n",
       "    if (output.metadata[EXEC_MIME_TYPE][\"id\"] !== undefined) {\n",
       "      toinsert[toinsert.length - 1].firstChild.textContent = output.data[JS_MIME_TYPE];\n",
       "      // store reference to embed id on output_area\n",
       "      output_area._bokeh_element_id = output.metadata[EXEC_MIME_TYPE][\"id\"];\n",
       "    }\n",
       "    if (output.metadata[EXEC_MIME_TYPE][\"server_id\"] !== undefined) {\n",
       "      var bk_div = document.createElement(\"div\");\n",
       "      bk_div.innerHTML = output.data[HTML_MIME_TYPE];\n",
       "      var script_attrs = bk_div.children[0].attributes;\n",
       "      for (var i = 0; i < script_attrs.length; i++) {\n",
       "        toinsert[toinsert.length - 1].firstChild.setAttribute(script_attrs[i].name, script_attrs[i].value);\n",
       "        toinsert[toinsert.length - 1].firstChild.textContent = bk_div.children[0].textContent\n",
       "      }\n",
       "      // store reference to server id on output_area\n",
       "      output_area._bokeh_server_id = output.metadata[EXEC_MIME_TYPE][\"server_id\"];\n",
       "    }\n",
       "  }\n",
       "\n",
       "  function register_renderer(events, OutputArea) {\n",
       "\n",
       "    function append_mime(data, metadata, element) {\n",
       "      // create a DOM node to render to\n",
       "      var toinsert = this.create_output_subarea(\n",
       "        metadata,\n",
       "        CLASS_NAME,\n",
       "        EXEC_MIME_TYPE\n",
       "      );\n",
       "      this.keyboard_manager.register_events(toinsert);\n",
       "      // Render to node\n",
       "      var props = {data: data, metadata: metadata[EXEC_MIME_TYPE]};\n",
       "      render(props, toinsert[toinsert.length - 1]);\n",
       "      element.append(toinsert);\n",
       "      return toinsert\n",
       "    }\n",
       "\n",
       "    /* Handle when an output is cleared or removed */\n",
       "    events.on('clear_output.CodeCell', handleClearOutput);\n",
       "    events.on('delete.Cell', handleClearOutput);\n",
       "\n",
       "    /* Handle when a new output is added */\n",
       "    events.on('output_added.OutputArea', handleAddOutput);\n",
       "\n",
       "    /**\n",
       "     * Register the mime type and append_mime function with output_area\n",
       "     */\n",
       "    OutputArea.prototype.register_mime_type(EXEC_MIME_TYPE, append_mime, {\n",
       "      /* Is output safe? */\n",
       "      safe: true,\n",
       "      /* Index of renderer in `output_area.display_order` */\n",
       "      index: 0\n",
       "    });\n",
       "  }\n",
       "\n",
       "  // register the mime type if in Jupyter Notebook environment and previously unregistered\n",
       "  if (root.Jupyter !== undefined) {\n",
       "    var events = require('base/js/events');\n",
       "    var OutputArea = require('notebook/js/outputarea').OutputArea;\n",
       "\n",
       "    if (OutputArea.prototype.mime_types().indexOf(EXEC_MIME_TYPE) == -1) {\n",
       "      register_renderer(events, OutputArea);\n",
       "    }\n",
       "  }\n",
       "\n",
       "  \n",
       "  if (typeof (root._bokeh_timeout) === \"undefined\" || force === true) {\n",
       "    root._bokeh_timeout = Date.now() + 5000;\n",
       "    root._bokeh_failed_load = false;\n",
       "  }\n",
       "\n",
       "  var NB_LOAD_WARNING = {'data': {'text/html':\n",
       "     \"<div style='background-color: #fdd'>\\n\"+\n",
       "     \"<p>\\n\"+\n",
       "     \"BokehJS does not appear to have successfully loaded. If loading BokehJS from CDN, this \\n\"+\n",
       "     \"may be due to a slow or bad network connection. Possible fixes:\\n\"+\n",
       "     \"</p>\\n\"+\n",
       "     \"<ul>\\n\"+\n",
       "     \"<li>re-rerun `output_notebook()` to attempt to load from CDN again, or</li>\\n\"+\n",
       "     \"<li>use INLINE resources instead, as so:</li>\\n\"+\n",
       "     \"</ul>\\n\"+\n",
       "     \"<code>\\n\"+\n",
       "     \"from bokeh.resources import INLINE\\n\"+\n",
       "     \"output_notebook(resources=INLINE)\\n\"+\n",
       "     \"</code>\\n\"+\n",
       "     \"</div>\"}};\n",
       "\n",
       "  function display_loaded() {\n",
       "    var el = document.getElementById(\"1189\");\n",
       "    if (el != null) {\n",
       "      el.textContent = \"BokehJS is loading...\";\n",
       "    }\n",
       "    if (root.Bokeh !== undefined) {\n",
       "      if (el != null) {\n",
       "        el.textContent = \"BokehJS \" + root.Bokeh.version + \" successfully loaded.\";\n",
       "      }\n",
       "    } else if (Date.now() < root._bokeh_timeout) {\n",
       "      setTimeout(display_loaded, 100)\n",
       "    }\n",
       "  }\n",
       "\n",
       "\n",
       "  function run_callbacks() {\n",
       "    try {\n",
       "      root._bokeh_onload_callbacks.forEach(function(callback) {\n",
       "        if (callback != null)\n",
       "          callback();\n",
       "      });\n",
       "    } finally {\n",
       "      delete root._bokeh_onload_callbacks\n",
       "    }\n",
       "    console.debug(\"Bokeh: all callbacks have finished\");\n",
       "  }\n",
       "\n",
       "  function load_libs(css_urls, js_urls, callback) {\n",
       "    if (css_urls == null) css_urls = [];\n",
       "    if (js_urls == null) js_urls = [];\n",
       "\n",
       "    root._bokeh_onload_callbacks.push(callback);\n",
       "    if (root._bokeh_is_loading > 0) {\n",
       "      console.debug(\"Bokeh: BokehJS is being loaded, scheduling callback at\", now());\n",
       "      return null;\n",
       "    }\n",
       "    if (js_urls == null || js_urls.length === 0) {\n",
       "      run_callbacks();\n",
       "      return null;\n",
       "    }\n",
       "    console.debug(\"Bokeh: BokehJS not loaded, scheduling load and callback at\", now());\n",
       "    root._bokeh_is_loading = css_urls.length + js_urls.length;\n",
       "\n",
       "    function on_load() {\n",
       "      root._bokeh_is_loading--;\n",
       "      if (root._bokeh_is_loading === 0) {\n",
       "        console.debug(\"Bokeh: all BokehJS libraries/stylesheets loaded\");\n",
       "        run_callbacks()\n",
       "      }\n",
       "    }\n",
       "\n",
       "    function on_error() {\n",
       "      console.error(\"failed to load \" + url);\n",
       "    }\n",
       "\n",
       "    for (var i = 0; i < css_urls.length; i++) {\n",
       "      var url = css_urls[i];\n",
       "      const element = document.createElement(\"link\");\n",
       "      element.onload = on_load;\n",
       "      element.onerror = on_error;\n",
       "      element.rel = \"stylesheet\";\n",
       "      element.type = \"text/css\";\n",
       "      element.href = url;\n",
       "      console.debug(\"Bokeh: injecting link tag for BokehJS stylesheet: \", url);\n",
       "      document.body.appendChild(element);\n",
       "    }\n",
       "\n",
       "    const hashes = {\"https://cdn.bokeh.org/bokeh/release/bokeh-2.2.3.min.js\": \"T2yuo9Oe71Cz/I4X9Ac5+gpEa5a8PpJCDlqKYO0CfAuEszu1JrXLl8YugMqYe3sM\", \"https://cdn.bokeh.org/bokeh/release/bokeh-widgets-2.2.3.min.js\": \"98GDGJ0kOMCUMUePhksaQ/GYgB3+NH9h996V88sh3aOiUNX3N+fLXAtry6xctSZ6\", \"https://cdn.bokeh.org/bokeh/release/bokeh-tables-2.2.3.min.js\": \"89bArO+nlbP3sgakeHjCo1JYxYR5wufVgA3IbUvDY+K7w4zyxJqssu7wVnfeKCq8\"};\n",
       "\n",
       "    for (var i = 0; i < js_urls.length; i++) {\n",
       "      var url = js_urls[i];\n",
       "      var element = document.createElement('script');\n",
       "      element.onload = on_load;\n",
       "      element.onerror = on_error;\n",
       "      element.async = false;\n",
       "      element.src = url;\n",
       "      if (url in hashes) {\n",
       "        element.crossOrigin = \"anonymous\";\n",
       "        element.integrity = \"sha384-\" + hashes[url];\n",
       "      }\n",
       "      console.debug(\"Bokeh: injecting script tag for BokehJS library: \", url);\n",
       "      document.head.appendChild(element);\n",
       "    }\n",
       "  };\n",
       "\n",
       "  function inject_raw_css(css) {\n",
       "    const element = document.createElement(\"style\");\n",
       "    element.appendChild(document.createTextNode(css));\n",
       "    document.body.appendChild(element);\n",
       "  }\n",
       "\n",
       "  \n",
       "  var js_urls = [\"https://cdn.bokeh.org/bokeh/release/bokeh-2.2.3.min.js\", \"https://cdn.bokeh.org/bokeh/release/bokeh-widgets-2.2.3.min.js\", \"https://cdn.bokeh.org/bokeh/release/bokeh-tables-2.2.3.min.js\"];\n",
       "  var css_urls = [];\n",
       "  \n",
       "\n",
       "  var inline_js = [\n",
       "    function(Bokeh) {\n",
       "      Bokeh.set_log_level(\"info\");\n",
       "    },\n",
       "    function(Bokeh) {\n",
       "    \n",
       "    \n",
       "    }\n",
       "  ];\n",
       "\n",
       "  function run_inline_js() {\n",
       "    \n",
       "    if (root.Bokeh !== undefined || force === true) {\n",
       "      \n",
       "    for (var i = 0; i < inline_js.length; i++) {\n",
       "      inline_js[i].call(root, root.Bokeh);\n",
       "    }\n",
       "    if (force === true) {\n",
       "        display_loaded();\n",
       "      }} else if (Date.now() < root._bokeh_timeout) {\n",
       "      setTimeout(run_inline_js, 100);\n",
       "    } else if (!root._bokeh_failed_load) {\n",
       "      console.log(\"Bokeh: BokehJS failed to load within specified timeout.\");\n",
       "      root._bokeh_failed_load = true;\n",
       "    } else if (force !== true) {\n",
       "      var cell = $(document.getElementById(\"1189\")).parents('.cell').data().cell;\n",
       "      cell.output_area.append_execute_result(NB_LOAD_WARNING)\n",
       "    }\n",
       "\n",
       "  }\n",
       "\n",
       "  if (root._bokeh_is_loading === 0) {\n",
       "    console.debug(\"Bokeh: BokehJS loaded, going straight to plotting\");\n",
       "    run_inline_js();\n",
       "  } else {\n",
       "    load_libs(css_urls, js_urls, function() {\n",
       "      console.debug(\"Bokeh: BokehJS plotting callback run at\", now());\n",
       "      run_inline_js();\n",
       "    });\n",
       "  }\n",
       "}(window));"
      ],
      "application/vnd.bokehjs_load.v0+json": "\n(function(root) {\n  function now() {\n    return new Date();\n  }\n\n  var force = true;\n\n  if (typeof root._bokeh_onload_callbacks === \"undefined\" || force === true) {\n    root._bokeh_onload_callbacks = [];\n    root._bokeh_is_loading = undefined;\n  }\n\n  \n\n  \n  if (typeof (root._bokeh_timeout) === \"undefined\" || force === true) {\n    root._bokeh_timeout = Date.now() + 5000;\n    root._bokeh_failed_load = false;\n  }\n\n  var NB_LOAD_WARNING = {'data': {'text/html':\n     \"<div style='background-color: #fdd'>\\n\"+\n     \"<p>\\n\"+\n     \"BokehJS does not appear to have successfully loaded. If loading BokehJS from CDN, this \\n\"+\n     \"may be due to a slow or bad network connection. Possible fixes:\\n\"+\n     \"</p>\\n\"+\n     \"<ul>\\n\"+\n     \"<li>re-rerun `output_notebook()` to attempt to load from CDN again, or</li>\\n\"+\n     \"<li>use INLINE resources instead, as so:</li>\\n\"+\n     \"</ul>\\n\"+\n     \"<code>\\n\"+\n     \"from bokeh.resources import INLINE\\n\"+\n     \"output_notebook(resources=INLINE)\\n\"+\n     \"</code>\\n\"+\n     \"</div>\"}};\n\n  function display_loaded() {\n    var el = document.getElementById(\"1189\");\n    if (el != null) {\n      el.textContent = \"BokehJS is loading...\";\n    }\n    if (root.Bokeh !== undefined) {\n      if (el != null) {\n        el.textContent = \"BokehJS \" + root.Bokeh.version + \" successfully loaded.\";\n      }\n    } else if (Date.now() < root._bokeh_timeout) {\n      setTimeout(display_loaded, 100)\n    }\n  }\n\n\n  function run_callbacks() {\n    try {\n      root._bokeh_onload_callbacks.forEach(function(callback) {\n        if (callback != null)\n          callback();\n      });\n    } finally {\n      delete root._bokeh_onload_callbacks\n    }\n    console.debug(\"Bokeh: all callbacks have finished\");\n  }\n\n  function load_libs(css_urls, js_urls, callback) {\n    if (css_urls == null) css_urls = [];\n    if (js_urls == null) js_urls = [];\n\n    root._bokeh_onload_callbacks.push(callback);\n    if (root._bokeh_is_loading > 0) {\n      console.debug(\"Bokeh: BokehJS is being loaded, scheduling callback at\", now());\n      return null;\n    }\n    if (js_urls == null || js_urls.length === 0) {\n      run_callbacks();\n      return null;\n    }\n    console.debug(\"Bokeh: BokehJS not loaded, scheduling load and callback at\", now());\n    root._bokeh_is_loading = css_urls.length + js_urls.length;\n\n    function on_load() {\n      root._bokeh_is_loading--;\n      if (root._bokeh_is_loading === 0) {\n        console.debug(\"Bokeh: all BokehJS libraries/stylesheets loaded\");\n        run_callbacks()\n      }\n    }\n\n    function on_error() {\n      console.error(\"failed to load \" + url);\n    }\n\n    for (var i = 0; i < css_urls.length; i++) {\n      var url = css_urls[i];\n      const element = document.createElement(\"link\");\n      element.onload = on_load;\n      element.onerror = on_error;\n      element.rel = \"stylesheet\";\n      element.type = \"text/css\";\n      element.href = url;\n      console.debug(\"Bokeh: injecting link tag for BokehJS stylesheet: \", url);\n      document.body.appendChild(element);\n    }\n\n    const hashes = {\"https://cdn.bokeh.org/bokeh/release/bokeh-2.2.3.min.js\": \"T2yuo9Oe71Cz/I4X9Ac5+gpEa5a8PpJCDlqKYO0CfAuEszu1JrXLl8YugMqYe3sM\", \"https://cdn.bokeh.org/bokeh/release/bokeh-widgets-2.2.3.min.js\": \"98GDGJ0kOMCUMUePhksaQ/GYgB3+NH9h996V88sh3aOiUNX3N+fLXAtry6xctSZ6\", \"https://cdn.bokeh.org/bokeh/release/bokeh-tables-2.2.3.min.js\": \"89bArO+nlbP3sgakeHjCo1JYxYR5wufVgA3IbUvDY+K7w4zyxJqssu7wVnfeKCq8\"};\n\n    for (var i = 0; i < js_urls.length; i++) {\n      var url = js_urls[i];\n      var element = document.createElement('script');\n      element.onload = on_load;\n      element.onerror = on_error;\n      element.async = false;\n      element.src = url;\n      if (url in hashes) {\n        element.crossOrigin = \"anonymous\";\n        element.integrity = \"sha384-\" + hashes[url];\n      }\n      console.debug(\"Bokeh: injecting script tag for BokehJS library: \", url);\n      document.head.appendChild(element);\n    }\n  };\n\n  function inject_raw_css(css) {\n    const element = document.createElement(\"style\");\n    element.appendChild(document.createTextNode(css));\n    document.body.appendChild(element);\n  }\n\n  \n  var js_urls = [\"https://cdn.bokeh.org/bokeh/release/bokeh-2.2.3.min.js\", \"https://cdn.bokeh.org/bokeh/release/bokeh-widgets-2.2.3.min.js\", \"https://cdn.bokeh.org/bokeh/release/bokeh-tables-2.2.3.min.js\"];\n  var css_urls = [];\n  \n\n  var inline_js = [\n    function(Bokeh) {\n      Bokeh.set_log_level(\"info\");\n    },\n    function(Bokeh) {\n    \n    \n    }\n  ];\n\n  function run_inline_js() {\n    \n    if (root.Bokeh !== undefined || force === true) {\n      \n    for (var i = 0; i < inline_js.length; i++) {\n      inline_js[i].call(root, root.Bokeh);\n    }\n    if (force === true) {\n        display_loaded();\n      }} else if (Date.now() < root._bokeh_timeout) {\n      setTimeout(run_inline_js, 100);\n    } else if (!root._bokeh_failed_load) {\n      console.log(\"Bokeh: BokehJS failed to load within specified timeout.\");\n      root._bokeh_failed_load = true;\n    } else if (force !== true) {\n      var cell = $(document.getElementById(\"1189\")).parents('.cell').data().cell;\n      cell.output_area.append_execute_result(NB_LOAD_WARNING)\n    }\n\n  }\n\n  if (root._bokeh_is_loading === 0) {\n    console.debug(\"Bokeh: BokehJS loaded, going straight to plotting\");\n    run_inline_js();\n  } else {\n    load_libs(css_urls, js_urls, function() {\n      console.debug(\"Bokeh: BokehJS plotting callback run at\", now());\n      run_inline_js();\n    });\n  }\n}(window));"
     },
     "metadata": {},
     "output_type": "display_data"
    },
    {
     "data": {
      "text/html": [
       "\n",
       "\n",
       "\n",
       "\n",
       "\n",
       "\n",
       "  <div class=\"bk-root\" id=\"e05634ef-158a-4c4b-9851-7eda732aedfa\" data-root-id=\"1076\"></div>\n"
      ]
     },
     "metadata": {},
     "output_type": "display_data"
    },
    {
     "data": {
      "application/javascript": [
       "(function(root) {\n",
       "  function embed_document(root) {\n",
       "    \n",
       "  var docs_json = {\"5ebf19dd-6715-4168-a96b-25edcf4a9fbc\":{\"roots\":{\"references\":[{\"attributes\":{\"children\":[[{\"id\":\"1043\"},0,0],[{\"id\":\"1003\"},1,0],[{\"id\":\"1075\"},2,0]]},\"id\":\"1076\",\"type\":\"GridBox\"},{\"attributes\":{\"axis\":{\"id\":\"1014\"},\"ticker\":null,\"visible\":false},\"id\":\"1017\",\"type\":\"Grid\"},{\"attributes\":{\"factors\":[\"{'IEDBI_recommended'} HLA-A*01:01\",\"{'IEDBI_recommended'} HLA-A*02:01\",\"{'IEDBI_recommended'} HLA-A*02:03\",\"{'IEDBI_recommended'} HLA-A*02:06\",\"{'IEDBI_recommended'} HLA-A*03:01\",\"{'IEDBI_recommended'} HLA-A*11:01\",\"{'IEDBI_recommended'} HLA-A*23:01\",\"{'IEDBI_recommended'} HLA-A*24:02\",\"{'IEDBI_recommended'} HLA-A*26:01\",\"{'IEDBI_recommended'} HLA-A*30:01\",\"{'IEDBI_recommended'} HLA-A*30:02\",\"{'IEDBI_recommended'} HLA-A*31:01\",\"{'IEDBI_recommended'} HLA-A*32:01\",\"{'IEDBI_recommended'} HLA-A*33:01\",\"{'IEDBI_recommended'} HLA-A*68:01\",\"{'IEDBI_recommended'} HLA-A*68:02\",\"{'IEDBI_recommended'} HLA-B*07:02\",\"{'IEDBI_recommended'} HLA-B*08:01\",\"{'IEDBI_recommended'} HLA-B*15:01\",\"{'IEDBI_recommended'} HLA-B*35:01\",\"{'IEDBI_recommended'} HLA-B*40:01\",\"{'IEDBI_recommended'} HLA-B*44:02\",\"{'IEDBI_recommended'} HLA-B*44:03\",\"{'IEDBI_recommended'} HLA-B*51:01\",\"{'IEDBI_recommended'} HLA-B*53:01\",\"{'IEDBI_recommended'} HLA-B*57:01\",\"{'IEDBI_recommended'} HLA-B*58:01\"]},\"id\":\"1008\",\"type\":\"FactorRange\"},{\"attributes\":{\"axis\":{\"id\":\"1018\"},\"dimension\":1,\"ticker\":null,\"visible\":false},\"id\":\"1020\",\"type\":\"Grid\"},{\"attributes\":{},\"id\":\"1064\",\"type\":\"SaveTool\"},{\"attributes\":{\"axis\":{\"id\":\"1056\"},\"dimension\":1,\"ticker\":null,\"visible\":false},\"id\":\"1059\",\"type\":\"Grid\"},{\"attributes\":{\"axis\":{\"id\":\"1052\"},\"ticker\":null,\"visible\":false},\"id\":\"1055\",\"type\":\"Grid\"},{\"attributes\":{},\"id\":\"1084\",\"type\":\"CategoricalTickFormatter\"},{\"attributes\":{},\"id\":\"1057\",\"type\":\"BasicTicker\"},{\"attributes\":{},\"id\":\"1022\",\"type\":\"PanTool\"},{\"attributes\":{},\"id\":\"1085\",\"type\":\"BasicTickFormatter\"},{\"attributes\":{\"data\":{\"colors\":[\"white\",\"white\",\"#e6ab02\",\"#e6ab02\",\"#e6ab02\",\"#e6ab02\",\"#e6ab02\",\"#e6ab02\",\"#e6ab02\",\"#e6ab02\",\"#e6ab02\",\"white\",\"white\",\"white\",\"#e6ab02\",\"#e6ab02\",\"#e6ab02\",\"#e6ab02\",\"#e6ab02\",\"#e6ab02\",\"#e6ab02\",\"#e6ab02\",\"#e6ab02\",\"white\",\"white\",\"white\",\"white\",\"white\",\"white\",\"white\",\"white\",\"white\",\"white\",\"white\",\"white\",\"white\",\"white\",\"white\",\"white\",\"white\",\"white\",\"white\",\"white\",\"#e6ab02\",\"#e6ab02\",\"#e6ab02\",\"#e6ab02\",\"#e6ab02\",\"#e6ab02\",\"#e6ab02\",\"#e6ab02\",\"#e6ab02\",\"white\",\"white\",\"white\",\"white\",\"white\",\"white\",\"white\",\"white\",\"white\",\"white\",\"white\",\"white\",\"white\",\"white\",\"white\",\"white\",\"white\",\"white\",\"white\",\"white\",\"white\",\"white\",\"white\",\"white\",\"white\",\"white\",\"white\",\"white\",\"white\",\"white\",\"white\",\"white\",\"white\",\"white\",\"white\",\"white\",\"white\",\"white\",\"white\",\"white\",\"white\",\"white\",\"white\",\"white\",\"white\",\"white\",\"white\",\"white\",\"white\",\"white\",\"white\",\"white\",\"#e6ab02\",\"#e6ab02\",\"#e6ab02\",\"#e6ab02\",\"#e6ab02\",\"#e6ab02\",\"#e6ab02\",\"#e6ab02\",\"#e6ab02\",\"#e6ab02\",\"#e6ab02\",\"#e6ab02\",\"#e6ab02\",\"white\",\"white\",\"white\",\"white\",\"white\",\"white\",\"white\",\"white\",\"white\",\"white\",\"white\",\"white\",\"white\",\"white\",\"white\",\"white\",\"white\",\"white\",\"white\",\"white\",\"white\",\"white\",\"white\",\"white\",\"white\",\"white\",\"white\",\"white\",\"white\",\"white\",\"white\",\"white\",\"white\",\"white\",\"white\",\"white\",\"white\",\"white\",\"white\",\"white\",\"white\",\"white\",\"white\",\"white\",\"white\",\"white\",\"#e6ab02\",\"#e6ab02\",\"#e6ab02\",\"#e6ab02\",\"#e6ab02\",\"#e6ab02\",\"#e6ab02\",\"#e6ab02\",\"#e6ab02\",\"white\",\"white\",\"white\",\"white\",\"white\",\"white\",\"white\",\"#e6ab02\",\"#e6ab02\",\"#e6ab02\",\"#e6ab02\",\"#e6ab02\",\"#e6ab02\",\"#e6ab02\",\"#e6ab02\",\"#e6ab02\",\"white\",\"white\",\"white\",\"white\",\"white\",\"white\",\"white\",\"white\",\"white\",\"white\",\"white\",\"white\",\"white\",\"white\",\"#e6ab02\",\"#e6ab02\",\"#e6ab02\",\"#e6ab02\",\"#e6ab02\",\"#e6ab02\",\"#e6ab02\",\"#e6ab02\",\"#e6ab02\",\"#e6ab02\",\"#e6ab02\",\"#e6ab02\",\"#e6ab02\",\"white\",\"white\",\"white\",\"white\",\"white\",\"white\",\"white\",\"white\",\"white\",\"white\",\"white\",\"white\",\"white\",\"white\",\"white\",\"white\",\"white\",\"white\",\"white\",\"white\",\"white\",\"white\",\"white\",\"white\",\"white\",\"white\",\"white\",\"white\",\"white\",\"white\",\"white\",\"white\",\"white\",\"white\",\"white\",\"white\",\"white\",\"white\",\"white\",\"white\",\"white\",\"white\",\"white\",\"white\",\"white\",\"white\",\"#e6ab02\",\"#e6ab02\",\"#e6ab02\",\"#e6ab02\",\"#e6ab02\",\"#e6ab02\",\"#e6ab02\",\"#e6ab02\",\"#e6ab02\",\"white\",\"white\",\"white\",\"white\",\"white\",\"white\",\"white\",\"#e6ab02\",\"#e6ab02\",\"#e6ab02\",\"#e6ab02\",\"#e6ab02\",\"#e6ab02\",\"#e6ab02\",\"#e6ab02\",\"#e6ab02\",\"white\",\"white\",\"white\",\"white\",\"white\",\"white\",\"white\",\"white\",\"white\",\"white\",\"white\",\"white\",\"white\",\"white\",\"#e6ab02\",\"#e6ab02\",\"#e6ab02\",\"#e6ab02\",\"#e6ab02\",\"#e6ab02\",\"#e6ab02\",\"#e6ab02\",\"#e6ab02\",\"#e6ab02\",\"#e6ab02\",\"#e6ab02\",\"#e6ab02\",\"white\",\"white\",\"white\",\"white\",\"white\",\"white\",\"white\",\"white\",\"white\",\"white\",\"white\",\"white\",\"white\",\"white\",\"white\",\"white\",\"white\",\"white\",\"white\",\"white\",\"white\",\"white\",\"white\",\"white\",\"white\",\"white\",\"white\",\"white\",\"white\",\"white\",\"white\",\"white\",\"white\",\"white\",\"white\",\"white\",\"white\",\"white\",\"white\",\"white\",\"white\",\"white\",\"white\",\"white\",\"white\",\"white\",\"white\",\"white\",\"white\",\"white\",\"white\",\"white\",\"white\",\"white\",\"white\",\"white\",\"white\",\"white\",\"white\",\"white\",\"white\",\"white\",\"#e6ab02\",\"#e6ab02\",\"#e6ab02\",\"#e6ab02\",\"#e6ab02\",\"#e6ab02\",\"#e6ab02\",\"#e6ab02\",\"#e6ab02\",\"#e6ab02\",\"#e6ab02\",\"#e6ab02\",\"white\",\"white\",\"white\",\"white\",\"white\",\"white\",\"white\",\"white\",\"white\",\"white\",\"white\",\"white\",\"white\",\"white\",\"white\",\"white\",\"white\",\"white\",\"white\",\"white\",\"white\",\"white\",\"white\",\"white\",\"white\",\"white\",\"white\",\"white\",\"white\",\"white\",\"white\",\"white\",\"white\",\"white\",\"white\",\"white\",\"white\",\"white\",\"white\",\"white\",\"white\",\"white\",\"white\",\"white\",\"white\",\"white\",\"white\",\"white\",\"white\",\"white\",\"white\",\"white\",\"white\",\"white\",\"white\",\"white\",\"white\",\"white\",\"white\",\"white\",\"white\",\"white\",\"white\",\"white\",\"white\",\"white\",\"white\",\"white\",\"white\",\"white\",\"white\",\"white\",\"white\",\"white\",\"white\",\"white\",\"white\",\"white\",\"white\",\"white\",\"white\",\"white\",\"white\",\"white\",\"white\",\"white\",\"white\",\"white\",\"white\",\"white\",\"white\",\"white\",\"white\",\"#e6ab02\",\"#e6ab02\",\"#e6ab02\",\"#e6ab02\",\"#e6ab02\",\"#e6ab02\",\"#e6ab02\",\"#e6ab02\",\"#e6ab02\",\"white\",\"white\",\"white\",\"white\",\"white\",\"white\",\"white\",\"white\",\"white\",\"white\",\"white\",\"white\",\"white\",\"white\",\"white\",\"white\",\"white\",\"white\",\"white\",\"white\",\"white\",\"white\",\"white\",\"white\",\"white\",\"white\",\"white\",\"white\",\"white\",\"white\",\"white\",\"white\",\"white\",\"white\",\"white\",\"white\",\"white\",\"white\",\"white\",\"white\",\"white\",\"white\",\"white\",\"white\",\"white\",\"white\",\"white\",\"white\",\"white\",\"white\",\"white\",\"white\",\"white\",\"white\",\"white\",\"white\",\"white\",\"white\",\"white\",\"white\",\"white\",\"white\",\"white\",\"white\",\"white\",\"white\",\"white\",\"white\",\"white\",\"white\",\"white\",\"white\",\"white\",\"white\",\"white\",\"white\",\"white\",\"white\",\"white\",\"white\",\"white\",\"white\",\"white\",\"white\",\"white\",\"white\",\"white\",\"white\",\"white\",\"#e6ab02\",\"#e6ab02\",\"#e6ab02\",\"#e6ab02\",\"#e6ab02\",\"#e6ab02\",\"#e6ab02\",\"#e6ab02\",\"#e6ab02\",\"white\",\"white\",\"white\",\"white\",\"white\",\"white\",\"white\",\"white\",\"white\",\"white\",\"white\",\"white\",\"white\",\"white\",\"white\",\"white\",\"white\",\"white\",\"white\",\"white\",\"white\",\"white\",\"white\",\"white\",\"white\",\"white\",\"white\",\"white\",\"white\",\"white\",\"white\",\"white\",\"white\",\"white\",\"white\",\"white\",\"white\",\"white\",\"white\",\"white\",\"white\",\"white\",\"white\",\"white\",\"white\",\"white\",\"white\",\"white\",\"white\",\"#e6ab02\",\"#e6ab02\",\"#e6ab02\",\"#e6ab02\",\"#e6ab02\",\"#e6ab02\",\"#e6ab02\",\"#e6ab02\",\"#e6ab02\",\"white\",\"white\",\"white\",\"white\",\"white\",\"white\",\"white\",\"white\",\"white\",\"white\",\"white\",\"white\",\"white\",\"white\",\"white\",\"white\",\"white\",\"white\",\"white\",\"white\",\"white\",\"white\",\"white\",\"white\",\"white\",\"white\",\"white\",\"white\",\"white\",\"white\",\"white\",\"white\",\"white\",\"white\",\"white\",\"white\",\"white\",\"white\",\"white\",\"white\",\"white\",\"white\",\"white\",\"white\",\"white\",\"white\",\"white\",\"white\",\"white\",\"white\",\"white\",\"white\",\"white\",\"white\",\"white\",\"white\",\"white\",\"white\",\"white\",\"white\",\"white\",\"white\",\"white\",\"white\",\"white\",\"white\",\"white\",\"white\",\"white\",\"white\",\"white\",\"white\",\"white\",\"white\",\"white\",\"white\",\"white\",\"white\",\"white\",\"white\",\"white\",\"white\",\"white\",\"white\",\"white\",\"white\",\"white\",\"white\",\"white\",\"#e6ab02\",\"#e6ab02\",\"#e6ab02\",\"#e6ab02\",\"#e6ab02\",\"#e6ab02\",\"#e6ab02\",\"#e6ab02\",\"#e6ab02\",\"white\",\"white\",\"white\",\"white\",\"white\",\"white\",\"white\",\"white\",\"white\",\"white\",\"white\",\"white\",\"white\",\"white\",\"white\",\"white\",\"white\",\"white\",\"white\",\"white\",\"white\",\"white\",\"white\",\"white\",\"white\",\"white\",\"white\",\"white\",\"white\",\"white\",\"white\",\"white\",\"white\",\"white\",\"white\",\"white\",\"white\",\"white\",\"white\",\"white\",\"white\",\"white\",\"white\",\"#e6ab02\",\"#e6ab02\",\"#e6ab02\",\"#e6ab02\",\"#e6ab02\",\"#e6ab02\",\"#e6ab02\",\"#e6ab02\",\"#e6ab02\",\"#e6ab02\",\"white\",\"white\",\"#e6ab02\",\"#e6ab02\",\"#e6ab02\",\"#e6ab02\",\"#e6ab02\",\"#e6ab02\",\"#e6ab02\",\"#e6ab02\",\"#e6ab02\",\"white\",\"white\",\"white\",\"white\",\"white\",\"white\",\"white\",\"white\",\"white\",\"white\",\"white\",\"white\",\"white\",\"white\",\"white\",\"white\",\"white\",\"white\",\"white\",\"white\",\"#e6ab02\",\"#e6ab02\",\"#e6ab02\",\"#e6ab02\",\"#e6ab02\",\"#e6ab02\",\"#e6ab02\",\"#e6ab02\",\"#e6ab02\",\"#e6ab02\",\"#e6ab02\",\"#e6ab02\",\"#e6ab02\",\"#e6ab02\",\"white\",\"white\",\"white\",\"white\",\"white\",\"white\",\"white\",\"white\",\"white\",\"white\",\"white\",\"white\",\"white\",\"#e6ab02\",\"#e6ab02\",\"#e6ab02\",\"#e6ab02\",\"#e6ab02\",\"#e6ab02\",\"#e6ab02\",\"#e6ab02\",\"#e6ab02\",\"white\",\"white\",\"white\",\"white\",\"white\",\"white\",\"white\",\"white\",\"white\",\"white\",\"white\",\"white\",\"white\",\"white\",\"white\",\"white\",\"white\",\"white\",\"white\",\"white\",\"white\",\"white\",\"white\",\"white\",\"white\",\"white\",\"white\",\"white\",\"white\",\"white\",\"white\",\"white\",\"white\",\"white\",\"white\",\"white\",\"white\",\"white\",\"white\",\"white\",\"white\",\"white\",\"white\",\"white\",\"white\",\"white\",\"white\",\"white\",\"white\",\"white\",\"white\",\"white\",\"white\",\"white\",\"white\",\"white\",\"white\",\"white\",\"white\",\"white\",\"white\",\"white\",\"white\",\"white\",\"white\",\"white\",\"white\",\"#e6ab02\",\"#e6ab02\",\"#e6ab02\",\"#e6ab02\",\"#e6ab02\",\"#e6ab02\",\"#e6ab02\",\"#e6ab02\",\"#e6ab02\",\"white\",\"white\",\"white\",\"white\",\"white\",\"white\",\"white\",\"white\",\"white\",\"white\",\"white\",\"white\",\"white\",\"#e6ab02\",\"#e6ab02\",\"#e6ab02\",\"#e6ab02\",\"#e6ab02\",\"#e6ab02\",\"#e6ab02\",\"#e6ab02\",\"#e6ab02\",\"white\",\"white\",\"white\",\"white\",\"white\",\"white\",\"white\",\"white\",\"white\",\"#e6ab02\",\"#e6ab02\",\"#e6ab02\",\"#e6ab02\",\"#e6ab02\",\"#e6ab02\",\"#e6ab02\",\"#e6ab02\",\"#e6ab02\",\"white\",\"white\",\"white\",\"#e6ab02\",\"#e6ab02\",\"#e6ab02\",\"#e6ab02\",\"#e6ab02\",\"#e6ab02\",\"#e6ab02\",\"#e6ab02\",\"#e6ab02\",\"white\",\"white\",\"white\",\"#e6ab02\",\"#e6ab02\",\"#e6ab02\",\"#e6ab02\",\"#e6ab02\",\"#e6ab02\",\"#e6ab02\",\"#e6ab02\",\"#e6ab02\",\"white\",\"white\",\"white\",\"white\",\"white\",\"white\",\"white\",\"white\",\"white\",\"white\",\"white\",\"white\",\"white\",\"white\",\"white\",\"white\",\"white\",\"white\",\"white\",\"white\",\"#e6ab02\",\"#e6ab02\",\"#e6ab02\",\"#e6ab02\",\"#e6ab02\",\"#e6ab02\",\"#e6ab02\",\"#e6ab02\",\"#e6ab02\",\"#e6ab02\",\"#e6ab02\",\"#e6ab02\",\"#e6ab02\",\"#e6ab02\",\"white\",\"white\",\"white\",\"white\",\"white\",\"white\",\"white\",\"white\",\"white\",\"white\",\"white\",\"white\",\"white\",\"white\",\"white\",\"white\",\"white\",\"white\",\"white\",\"white\",\"white\",\"white\",\"white\",\"white\",\"white\",\"white\",\"white\",\"white\",\"white\",\"white\",\"white\",\"white\",\"white\",\"white\",\"white\",\"white\",\"white\",\"white\",\"white\",\"white\",\"white\",\"white\",\"white\",\"white\",\"white\",\"white\",\"white\",\"white\",\"white\",\"white\",\"white\",\"white\",\"white\",\"white\",\"white\",\"white\",\"white\",\"white\",\"white\",\"white\",\"white\",\"white\",\"white\",\"white\",\"white\",\"white\",\"white\",\"white\",\"white\",\"white\",\"white\",\"white\",\"white\",\"white\",\"white\",\"white\",\"white\",\"white\",\"white\",\"white\",\"white\",\"white\",\"white\",\"white\",\"white\",\"white\",\"white\",\"white\",\"white\",\"white\",\"white\",\"white\",\"white\",\"white\",\"white\",\"white\",\"white\",\"white\",\"white\",\"white\",\"white\",\"white\",\"white\",\"white\",\"white\",\"white\",\"white\",\"white\",\"white\",\"white\",\"white\",\"white\",\"white\",\"white\",\"white\",\"white\",\"white\",\"white\",\"white\",\"white\",\"white\",\"white\",\"white\",\"white\",\"white\",\"white\",\"white\",\"white\",\"white\",\"#e6ab02\",\"#e6ab02\",\"#e6ab02\",\"#e6ab02\",\"#e6ab02\",\"#e6ab02\",\"#e6ab02\",\"#e6ab02\",\"#e6ab02\",\"white\",\"white\",\"white\",\"white\",\"white\",\"white\",\"white\",\"white\",\"white\",\"white\",\"white\",\"white\",\"white\",\"white\",\"white\",\"white\",\"white\",\"white\",\"white\",\"white\",\"white\",\"white\",\"white\",\"white\",\"white\",\"white\",\"white\",\"white\",\"white\",\"white\",\"white\",\"white\",\"white\",\"white\",\"white\",\"white\",\"white\",\"white\",\"white\",\"white\",\"white\",\"white\",\"white\",\"white\",\"white\",\"white\",\"white\",\"white\",\"white\",\"#e6ab02\",\"#e6ab02\",\"#e6ab02\",\"#e6ab02\",\"#e6ab02\",\"#e6ab02\",\"#e6ab02\",\"#e6ab02\",\"#e6ab02\",\"white\",\"white\",\"white\",\"white\",\"white\",\"white\",\"white\",\"white\",\"#e6ab02\",\"#e6ab02\",\"#e6ab02\",\"#e6ab02\",\"#e6ab02\",\"#e6ab02\",\"#e6ab02\",\"#e6ab02\",\"#e6ab02\",\"#e6ab02\",\"#e6ab02\",\"#e6ab02\",\"#e6ab02\",\"#e6ab02\",\"white\",\"white\",\"white\",\"white\",\"white\",\"#e6ab02\",\"#e6ab02\",\"#e6ab02\",\"#e6ab02\",\"#e6ab02\",\"#e6ab02\",\"#e6ab02\",\"#e6ab02\",\"#e6ab02\",\"white\",\"white\",\"white\",\"white\",\"white\",\"white\",\"white\",\"white\",\"white\",\"white\",\"white\",\"white\",\"white\",\"white\",\"white\",\"white\",\"white\",\"white\",\"white\",\"white\",\"white\",\"white\",\"white\",\"white\",\"white\",\"white\",\"white\",\"white\",\"white\",\"white\",\"white\",\"white\",\"white\",\"white\",\"white\",\"white\",\"white\",\"white\",\"white\",\"white\",\"white\",\"white\",\"white\",\"white\",\"white\",\"white\",\"white\",\"white\",\"white\",\"white\",\"white\",\"white\",\"white\",\"white\",\"white\",\"white\",\"white\",\"white\",\"white\",\"white\",\"white\",\"white\",\"white\",\"white\",\"white\",\"white\",\"white\",\"white\",\"white\",\"white\",\"white\",\"white\",\"white\",\"white\",\"white\",\"white\",\"white\",\"white\",\"white\",\"white\",\"white\",\"white\",\"white\",\"white\",\"white\",\"white\",\"white\",\"white\",\"white\",\"white\",\"white\",\"white\",\"white\",\"#e6ab02\",\"#e6ab02\",\"#e6ab02\",\"#e6ab02\",\"#e6ab02\",\"#e6ab02\",\"#e6ab02\",\"#e6ab02\",\"#e6ab02\",\"white\",\"white\",\"white\",\"white\",\"white\",\"white\",\"white\",\"white\",\"white\",\"white\",\"white\",\"white\",\"white\",\"white\",\"white\",\"white\",\"white\",\"white\",\"white\",\"white\",\"white\",\"white\",\"white\",\"white\",\"white\",\"white\",\"white\",\"white\",\"white\",\"white\",\"white\",\"white\",\"white\",\"white\",\"white\",\"white\",\"white\",\"white\",\"white\",\"white\",\"white\",\"white\",\"white\",\"white\",\"white\",\"white\",\"white\",\"white\",\"white\",\"white\",\"white\",\"white\",\"white\",\"white\",\"white\",\"white\",\"white\",\"white\",\"white\",\"white\",\"white\",\"white\",\"white\",\"white\",\"white\",\"white\",\"white\",\"white\",\"white\",\"white\",\"white\",\"white\",\"white\",\"white\",\"white\",\"white\",\"white\",\"white\",\"white\",\"white\",\"white\",\"white\",\"white\",\"white\",\"white\",\"white\",\"white\",\"white\",\"white\",\"#e6ab02\",\"#e6ab02\",\"#e6ab02\",\"#e6ab02\",\"#e6ab02\",\"#e6ab02\",\"#e6ab02\",\"#e6ab02\",\"#e6ab02\",\"white\",\"white\",\"white\",\"white\",\"#e6ab02\",\"#e6ab02\",\"#e6ab02\",\"#e6ab02\",\"#e6ab02\",\"#e6ab02\",\"#e6ab02\",\"#e6ab02\",\"#e6ab02\",\"white\",\"white\",\"white\",\"white\",\"white\",\"white\",\"white\",\"white\",\"white\",\"white\",\"white\",\"white\",\"white\",\"white\",\"white\",\"white\",\"white\",\"white\",\"white\",\"white\",\"white\",\"white\",\"white\",\"white\",\"white\",\"white\",\"white\",\"white\",\"white\",\"white\",\"white\",\"white\",\"white\",\"white\",\"white\",\"white\",\"white\",\"white\",\"white\",\"white\",\"white\",\"white\",\"white\",\"white\",\"white\",\"white\",\"white\",\"white\",\"white\",\"white\",\"white\",\"white\",\"white\",\"white\",\"white\",\"white\",\"white\",\"white\",\"#e6ab02\",\"#e6ab02\",\"#e6ab02\",\"#e6ab02\",\"#e6ab02\",\"#e6ab02\",\"#e6ab02\",\"#e6ab02\",\"#e6ab02\",\"white\",\"white\",\"white\",\"white\",\"white\",\"#e6ab02\",\"#e6ab02\",\"#e6ab02\",\"#e6ab02\",\"#e6ab02\",\"#e6ab02\",\"#e6ab02\",\"#e6ab02\",\"#e6ab02\",\"white\",\"white\",\"white\",\"white\",\"white\",\"white\",\"white\",\"white\",\"white\",\"#e6ab02\",\"#e6ab02\",\"#e6ab02\",\"#e6ab02\",\"#e6ab02\",\"#e6ab02\",\"#e6ab02\",\"#e6ab02\",\"#e6ab02\",\"white\",\"white\",\"white\",\"white\",\"white\",\"white\",\"white\",\"white\",\"white\",\"white\",\"white\",\"white\",\"white\",\"white\",\"white\",\"white\",\"white\",\"white\",\"white\",\"white\",\"white\",\"white\",\"white\",\"white\",\"white\",\"white\",\"white\",\"white\",\"white\",\"white\",\"white\",\"white\",\"#e6ab02\",\"#e6ab02\",\"#e6ab02\",\"#e6ab02\",\"#e6ab02\",\"#e6ab02\",\"#e6ab02\",\"#e6ab02\",\"#e6ab02\",\"#e6ab02\",\"#e6ab02\",\"#e6ab02\",\"white\",\"white\",\"white\",\"white\",\"white\",\"white\",\"white\",\"white\",\"white\",\"white\",\"white\",\"white\",\"white\",\"white\",\"white\",\"white\",\"white\",\"white\",\"white\",\"white\",\"white\",\"white\",\"white\",\"white\",\"white\",\"white\",\"white\",\"white\",\"white\",\"white\",\"white\",\"white\",\"white\",\"white\",\"white\",\"white\",\"white\",\"white\",\"white\",\"white\",\"white\",\"white\",\"white\",\"white\",\"white\",\"#e6ab02\",\"#e6ab02\",\"#e6ab02\",\"#e6ab02\",\"#e6ab02\",\"#e6ab02\",\"#e6ab02\",\"#e6ab02\",\"#e6ab02\",\"#e6ab02\",\"#e6ab02\",\"white\",\"white\",\"white\",\"white\",\"white\",\"white\",\"white\",\"white\",\"white\",\"white\",\"white\",\"white\",\"white\",\"white\",\"white\",\"white\",\"white\",\"white\",\"white\",\"white\",\"white\",\"white\",\"white\",\"white\",\"white\",\"white\",\"white\",\"white\",\"white\",\"white\",\"#e6ab02\",\"#e6ab02\",\"#e6ab02\",\"#e6ab02\",\"#e6ab02\",\"#e6ab02\",\"#e6ab02\",\"#e6ab02\",\"#e6ab02\",\"#e6ab02\",\"#e6ab02\",\"#e6ab02\",\"white\",\"white\",\"white\",\"white\",\"white\",\"white\",\"white\",\"white\",\"white\",\"white\",\"white\",\"white\",\"white\",\"white\",\"white\",\"white\",\"white\",\"white\",\"white\",\"white\",\"white\",\"white\",\"white\",\"white\",\"white\",\"white\",\"white\",\"white\",\"white\",\"white\",\"white\",\"white\",\"white\",\"white\",\"white\",\"white\",\"white\",\"white\",\"white\",\"white\",\"white\",\"white\",\"white\",\"white\",\"white\",\"white\",\"white\",\"white\",\"white\",\"white\",\"white\",\"white\",\"white\",\"white\",\"white\",\"#e6ab02\",\"#e6ab02\",\"#e6ab02\",\"#e6ab02\",\"#e6ab02\",\"#e6ab02\",\"#e6ab02\",\"#e6ab02\",\"#e6ab02\",\"white\",\"white\",\"white\",\"white\",\"white\",\"white\",\"white\",\"white\",\"white\",\"white\",\"white\",\"white\",\"white\",\"white\",\"white\",\"white\",\"white\",\"white\",\"white\",\"white\",\"#e6ab02\",\"#e6ab02\",\"#e6ab02\",\"#e6ab02\",\"#e6ab02\",\"#e6ab02\",\"#e6ab02\",\"#e6ab02\",\"#e6ab02\",\"#e6ab02\",\"#e6ab02\",\"#e6ab02\",\"#e6ab02\",\"#e6ab02\",\"white\",\"white\",\"white\",\"white\",\"white\",\"white\",\"white\",\"white\",\"white\",\"white\",\"white\",\"white\",\"white\",\"white\",\"white\",\"white\",\"white\",\"white\",\"white\",\"white\",\"white\",\"white\",\"white\",\"white\",\"white\",\"white\",\"white\",\"white\",\"white\",\"white\",\"white\",\"white\",\"white\",\"white\",\"white\",\"white\",\"white\",\"white\",\"white\",\"white\",\"white\",\"white\",\"white\",\"white\",\"#e6ab02\",\"#e6ab02\",\"#e6ab02\",\"#e6ab02\",\"#e6ab02\",\"#e6ab02\",\"#e6ab02\",\"#e6ab02\",\"#e6ab02\",\"#e6ab02\",\"white\",\"#e6ab02\",\"#e6ab02\",\"#e6ab02\",\"#e6ab02\",\"#e6ab02\",\"#e6ab02\",\"#e6ab02\",\"#e6ab02\",\"#e6ab02\",\"white\",\"white\",\"white\",\"white\",\"white\",\"white\",\"white\",\"white\",\"white\",\"white\",\"white\",\"white\",\"white\",\"white\",\"white\",\"white\",\"white\",\"white\",\"white\",\"white\",\"#e6ab02\",\"#e6ab02\",\"#e6ab02\",\"#e6ab02\",\"#e6ab02\",\"#e6ab02\",\"#e6ab02\",\"#e6ab02\",\"#e6ab02\",\"#e6ab02\",\"#e6ab02\",\"#e6ab02\",\"#e6ab02\",\"#e6ab02\",\"white\",\"white\",\"white\",\"white\",\"white\",\"white\",\"white\",\"white\",\"white\",\"white\",\"white\",\"white\",\"white\",\"white\",\"white\",\"white\",\"white\",\"white\",\"white\",\"white\",\"white\",\"white\",\"white\",\"white\",\"white\",\"white\",\"white\",\"white\",\"white\",\"white\",\"white\",\"white\",\"white\",\"white\",\"white\",\"white\",\"white\",\"white\",\"white\",\"white\",\"white\",\"white\",\"white\",\"white\",\"white\",\"white\",\"white\",\"white\",\"white\",\"white\",\"white\",\"white\",\"white\",\"white\",\"white\",\"white\",\"white\",\"white\",\"white\",\"white\",\"white\",\"white\",\"white\",\"white\",\"white\",\"white\",\"white\",\"white\",\"white\",\"white\",\"white\",\"white\",\"white\",\"white\",\"white\",\"white\",\"white\",\"white\",\"white\",\"white\",\"white\",\"white\",\"white\",\"white\",\"white\",\"white\",\"white\",\"white\",\"white\",\"white\",\"white\",\"white\",\"white\",\"white\",\"white\",\"white\",\"white\",\"white\",\"white\",\"white\",\"white\",\"white\",\"white\",\"white\",\"white\",\"white\",\"white\",\"white\",\"white\",\"white\",\"white\",\"white\",\"white\",\"white\",\"white\",\"white\",\"white\",\"white\",\"white\",\"#e6ab02\",\"#e6ab02\",\"#e6ab02\",\"#e6ab02\",\"#e6ab02\",\"#e6ab02\",\"#e6ab02\",\"#e6ab02\",\"#e6ab02\",\"white\",\"white\",\"white\",\"white\",\"white\",\"white\",\"white\",\"white\",\"white\",\"white\",\"white\",\"white\",\"white\",\"#e6ab02\",\"#e6ab02\",\"#e6ab02\",\"#e6ab02\",\"#e6ab02\",\"#e6ab02\",\"#e6ab02\",\"#e6ab02\",\"#e6ab02\",\"white\",\"white\",\"white\",\"white\",\"white\",\"white\",\"white\",\"white\",\"white\",\"white\",\"white\",\"white\",\"white\",\"white\",\"white\",\"white\",\"white\",\"white\",\"white\",\"white\",\"white\",\"white\",\"white\",\"white\",\"white\",\"white\",\"white\",\"white\",\"white\",\"white\",\"white\",\"white\",\"#e6ab02\",\"#e6ab02\",\"#e6ab02\",\"#e6ab02\",\"#e6ab02\",\"#e6ab02\",\"#e6ab02\",\"#e6ab02\",\"#e6ab02\",\"white\",\"white\",\"white\",\"white\",\"white\",\"white\",\"white\",\"white\",\"white\",\"white\",\"white\",\"white\",\"white\",\"white\",\"white\",\"white\",\"white\",\"white\",\"white\",\"white\",\"white\",\"white\",\"white\",\"white\",\"white\",\"white\",\"#e6ab02\",\"#e6ab02\",\"#e6ab02\",\"#e6ab02\",\"#e6ab02\",\"#e6ab02\",\"#e6ab02\",\"#e6ab02\",\"#e6ab02\",\"white\",\"white\",\"white\",\"white\",\"white\",\"white\",\"white\",\"white\",\"white\",\"white\",\"white\",\"white\",\"white\",\"#e6ab02\",\"#e6ab02\",\"#e6ab02\",\"#e6ab02\",\"#e6ab02\",\"#e6ab02\",\"#e6ab02\",\"#e6ab02\",\"#e6ab02\",\"white\",\"white\",\"white\",\"white\",\"white\",\"white\",\"white\",\"white\",\"white\",\"white\",\"white\",\"white\",\"white\",\"white\",\"white\",\"white\",\"white\",\"white\",\"white\",\"white\",\"white\",\"white\",\"white\",\"white\",\"white\",\"white\",\"white\",\"white\",\"white\",\"white\",\"white\",\"white\",\"white\",\"white\",\"white\",\"white\",\"white\",\"white\",\"white\",\"white\",\"white\",\"white\",\"white\",\"white\",\"white\",\"white\",\"white\",\"white\",\"white\",\"white\",\"white\",\"white\",\"white\",\"white\",\"white\",\"white\",\"white\",\"white\",\"white\",\"white\",\"white\",\"white\",\"white\",\"white\",\"white\",\"white\",\"white\",\"#e6ab02\",\"#e6ab02\",\"#e6ab02\",\"#e6ab02\",\"#e6ab02\",\"#e6ab02\",\"#e6ab02\",\"#e6ab02\",\"#e6ab02\",\"white\",\"white\",\"white\",\"white\",\"white\",\"white\",\"white\",\"white\",\"white\",\"white\",\"white\",\"white\",\"white\",\"white\",\"#e6ab02\",\"#e6ab02\",\"#e6ab02\",\"#e6ab02\",\"#e6ab02\",\"#e6ab02\",\"#e6ab02\",\"#e6ab02\",\"#e6ab02\",\"#e6ab02\",\"white\",\"white\",\"white\",\"white\",\"white\",\"white\",\"white\",\"white\",\"white\",\"white\",\"white\",\"white\",\"white\",\"white\",\"white\",\"white\",\"white\",\"white\",\"white\",\"white\",\"white\",\"white\",\"white\",\"white\",\"white\",\"white\",\"white\",\"white\",\"white\",\"white\",\"white\",\"white\",\"#e6ab02\",\"#e6ab02\",\"#e6ab02\",\"#e6ab02\",\"#e6ab02\",\"#e6ab02\",\"#e6ab02\",\"#e6ab02\",\"#e6ab02\",\"#e6ab02\",\"#e6ab02\",\"#e6ab02\",\"white\",\"white\",\"white\",\"white\",\"white\",\"white\",\"white\",\"white\",\"white\",\"white\",\"white\",\"white\",\"white\",\"white\",\"white\",\"white\",\"white\",\"white\",\"white\",\"white\",\"white\",\"white\",\"white\",\"white\",\"white\",\"white\",\"white\",\"white\",\"white\",\"white\",\"white\",\"white\",\"white\",\"white\",\"white\",\"white\",\"white\",\"white\",\"white\",\"white\",\"white\",\"white\",\"white\",\"white\",\"white\",\"#e6ab02\",\"#e6ab02\",\"#e6ab02\",\"#e6ab02\",\"#e6ab02\",\"#e6ab02\",\"#e6ab02\",\"#e6ab02\",\"#e6ab02\",\"white\",\"white\",\"white\",\"white\",\"white\",\"white\",\"white\",\"white\",\"white\",\"white\",\"white\",\"white\",\"white\",\"white\",\"white\",\"white\",\"white\",\"white\",\"white\",\"white\",\"white\",\"white\",\"white\",\"white\",\"white\",\"white\",\"white\",\"white\",\"white\",\"white\",\"#e6ab02\",\"#e6ab02\",\"#e6ab02\",\"#e6ab02\",\"#e6ab02\",\"#e6ab02\",\"#e6ab02\",\"#e6ab02\",\"#e6ab02\",\"#e6ab02\",\"#e6ab02\",\"#e6ab02\",\"#e6ab02\",\"#e6ab02\",\"white\",\"white\",\"white\",\"white\",\"white\",\"white\",\"white\",\"white\",\"white\",\"white\",\"white\",\"white\",\"white\",\"white\",\"white\",\"white\",\"white\",\"white\",\"white\",\"white\",\"white\",\"white\",\"white\",\"white\",\"white\",\"white\",\"white\",\"white\",\"white\",\"white\",\"white\",\"white\",\"white\",\"white\",\"white\",\"white\",\"white\",\"white\",\"white\",\"white\",\"white\",\"white\",\"white\",\"white\",\"white\",\"white\",\"white\",\"white\",\"white\",\"white\",\"white\",\"white\",\"white\",\"white\",\"white\",\"white\",\"white\",\"white\",\"white\",\"white\",\"white\",\"white\",\"white\",\"white\",\"white\",\"white\",\"white\",\"white\",\"white\",\"white\",\"white\",\"white\",\"white\",\"white\",\"white\",\"white\",\"white\",\"white\",\"white\",\"white\",\"white\",\"white\",\"white\",\"white\",\"#e6ab02\",\"#e6ab02\",\"#e6ab02\",\"#e6ab02\",\"#e6ab02\",\"#e6ab02\",\"#e6ab02\",\"#e6ab02\",\"#e6ab02\",\"#e6ab02\",\"#e6ab02\",\"#e6ab02\",\"#e6ab02\",\"#e6ab02\",\"white\",\"white\",\"white\",\"white\",\"white\",\"white\",\"white\",\"white\",\"white\",\"white\",\"white\",\"white\",\"white\",\"#e6ab02\",\"#e6ab02\",\"#e6ab02\",\"#e6ab02\",\"#e6ab02\",\"#e6ab02\",\"#e6ab02\",\"#e6ab02\",\"#e6ab02\",\"white\",\"white\",\"white\",\"white\",\"white\",\"white\",\"white\",\"white\",\"white\",\"white\",\"white\",\"white\",\"white\",\"white\",\"white\",\"white\",\"white\",\"white\",\"white\",\"white\",\"white\",\"white\",\"white\",\"white\",\"white\",\"white\",\"white\",\"white\",\"white\",\"white\",\"white\",\"white\",\"white\",\"white\",\"white\",\"white\",\"white\",\"white\",\"white\",\"white\",\"white\",\"white\",\"white\",\"white\",\"white\",\"white\",\"white\",\"white\",\"white\",\"white\",\"white\",\"white\",\"white\",\"white\",\"white\",\"white\",\"white\",\"white\",\"white\",\"white\",\"white\",\"white\",\"#e6ab02\",\"#e6ab02\",\"#e6ab02\",\"#e6ab02\",\"#e6ab02\",\"#e6ab02\",\"#e6ab02\",\"#e6ab02\",\"#e6ab02\",\"#e6ab02\",\"#e6ab02\",\"#e6ab02\",\"#e6ab02\",\"#e6ab02\",\"white\",\"white\",\"white\",\"white\",\"white\",\"white\",\"white\",\"white\",\"white\",\"white\",\"white\",\"white\",\"white\",\"#e6ab02\",\"#e6ab02\",\"#e6ab02\",\"#e6ab02\",\"#e6ab02\",\"#e6ab02\",\"#e6ab02\",\"#e6ab02\",\"#e6ab02\",\"white\",\"white\",\"white\",\"white\",\"white\",\"white\",\"white\",\"white\",\"white\",\"white\",\"white\",\"white\",\"white\",\"white\",\"white\",\"white\",\"white\",\"white\",\"white\"],\"recty\":{\"__ndarray__\":\"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\",\"dtype\":\"float64\",\"order\":\"little\",\"shape\":[2646]},\"text\":[\"M\",\"H\",\"G\",\"D\",\"T\",\"P\",\"T\",\"L\",\"H\",\"E\",\"Y\",\"M\",\"L\",\"D\",\"L\",\"Q\",\"P\",\"E\",\"T\",\"T\",\"D\",\"L\",\"Y\",\"C\",\"Y\",\"E\",\"Q\",\"L\",\"N\",\"D\",\"S\",\"S\",\"E\",\"E\",\"E\",\"D\",\"E\",\"I\",\"D\",\"G\",\"P\",\"A\",\"G\",\"Q\",\"A\",\"E\",\"P\",\"D\",\"R\",\"A\",\"H\",\"Y\",\"N\",\"I\",\"V\",\"T\",\"F\",\"C\",\"C\",\"K\",\"C\",\"D\",\"S\",\"T\",\"L\",\"R\",\"L\",\"C\",\"V\",\"Q\",\"S\",\"T\",\"H\",\"V\",\"D\",\"I\",\"R\",\"T\",\"L\",\"E\",\"D\",\"L\",\"L\",\"M\",\"G\",\"T\",\"L\",\"G\",\"I\",\"V\",\"C\",\"P\",\"I\",\"C\",\"S\",\"Q\",\"K\",\"P\",\"M\",\"H\",\"G\",\"D\",\"T\",\"P\",\"T\",\"L\",\"H\",\"E\",\"Y\",\"M\",\"L\",\"D\",\"L\",\"Q\",\"P\",\"E\",\"T\",\"T\",\"D\",\"L\",\"Y\",\"C\",\"Y\",\"E\",\"Q\",\"L\",\"N\",\"D\",\"S\",\"S\",\"E\",\"E\",\"E\",\"D\",\"E\",\"I\",\"D\",\"G\",\"P\",\"A\",\"G\",\"Q\",\"A\",\"E\",\"P\",\"D\",\"R\",\"A\",\"H\",\"Y\",\"N\",\"I\",\"V\",\"T\",\"F\",\"C\",\"C\",\"K\",\"C\",\"D\",\"S\",\"T\",\"L\",\"R\",\"L\",\"C\",\"V\",\"Q\",\"S\",\"T\",\"H\",\"V\",\"D\",\"I\",\"R\",\"T\",\"L\",\"E\",\"D\",\"L\",\"L\",\"M\",\"G\",\"T\",\"L\",\"G\",\"I\",\"V\",\"C\",\"P\",\"I\",\"C\",\"S\",\"Q\",\"K\",\"P\",\"M\",\"H\",\"G\",\"D\",\"T\",\"P\",\"T\",\"L\",\"H\",\"E\",\"Y\",\"M\",\"L\",\"D\",\"L\",\"Q\",\"P\",\"E\",\"T\",\"T\",\"D\",\"L\",\"Y\",\"C\",\"Y\",\"E\",\"Q\",\"L\",\"N\",\"D\",\"S\",\"S\",\"E\",\"E\",\"E\",\"D\",\"E\",\"I\",\"D\",\"G\",\"P\",\"A\",\"G\",\"Q\",\"A\",\"E\",\"P\",\"D\",\"R\",\"A\",\"H\",\"Y\",\"N\",\"I\",\"V\",\"T\",\"F\",\"C\",\"C\",\"K\",\"C\",\"D\",\"S\",\"T\",\"L\",\"R\",\"L\",\"C\",\"V\",\"Q\",\"S\",\"T\",\"H\",\"V\",\"D\",\"I\",\"R\",\"T\",\"L\",\"E\",\"D\",\"L\",\"L\",\"M\",\"G\",\"T\",\"L\",\"G\",\"I\",\"V\",\"C\",\"P\",\"I\",\"C\",\"S\",\"Q\",\"K\",\"P\",\"M\",\"H\",\"G\",\"D\",\"T\",\"P\",\"T\",\"L\",\"H\",\"E\",\"Y\",\"M\",\"L\",\"D\",\"L\",\"Q\",\"P\",\"E\",\"T\",\"T\",\"D\",\"L\",\"Y\",\"C\",\"Y\",\"E\",\"Q\",\"L\",\"N\",\"D\",\"S\",\"S\",\"E\",\"E\",\"E\",\"D\",\"E\",\"I\",\"D\",\"G\",\"P\",\"A\",\"G\",\"Q\",\"A\",\"E\",\"P\",\"D\",\"R\",\"A\",\"H\",\"Y\",\"N\",\"I\",\"V\",\"T\",\"F\",\"C\",\"C\",\"K\",\"C\",\"D\",\"S\",\"T\",\"L\",\"R\",\"L\",\"C\",\"V\",\"Q\",\"S\",\"T\",\"H\",\"V\",\"D\",\"I\",\"R\",\"T\",\"L\",\"E\",\"D\",\"L\",\"L\",\"M\",\"G\",\"T\",\"L\",\"G\",\"I\",\"V\",\"C\",\"P\",\"I\",\"C\",\"S\",\"Q\",\"K\",\"P\",\"M\",\"H\",\"G\",\"D\",\"T\",\"P\",\"T\",\"L\",\"H\",\"E\",\"Y\",\"M\",\"L\",\"D\",\"L\",\"Q\",\"P\",\"E\",\"T\",\"T\",\"D\",\"L\",\"Y\",\"C\",\"Y\",\"E\",\"Q\",\"L\",\"N\",\"D\",\"S\",\"S\",\"E\",\"E\",\"E\",\"D\",\"E\",\"I\",\"D\",\"G\",\"P\",\"A\",\"G\",\"Q\",\"A\",\"E\",\"P\",\"D\",\"R\",\"A\",\"H\",\"Y\",\"N\",\"I\",\"V\",\"T\",\"F\",\"C\",\"C\",\"K\",\"C\",\"D\",\"S\",\"T\",\"L\",\"R\",\"L\",\"C\",\"V\",\"Q\",\"S\",\"T\",\"H\",\"V\",\"D\",\"I\",\"R\",\"T\",\"L\",\"E\",\"D\",\"L\",\"L\",\"M\",\"G\",\"T\",\"L\",\"G\",\"I\",\"V\",\"C\",\"P\",\"I\",\"C\",\"S\",\"Q\",\"K\",\"P\",\"M\",\"H\",\"G\",\"D\",\"T\",\"P\",\"T\",\"L\",\"H\",\"E\",\"Y\",\"M\",\"L\",\"D\",\"L\",\"Q\",\"P\",\"E\",\"T\",\"T\",\"D\",\"L\",\"Y\",\"C\",\"Y\",\"E\",\"Q\",\"L\",\"N\",\"D\",\"S\",\"S\",\"E\",\"E\",\"E\",\"D\",\"E\",\"I\",\"D\",\"G\",\"P\",\"A\",\"G\",\"Q\",\"A\",\"E\",\"P\",\"D\",\"R\",\"A\",\"H\",\"Y\",\"N\",\"I\",\"V\",\"T\",\"F\",\"C\",\"C\",\"K\",\"C\",\"D\",\"S\",\"T\",\"L\",\"R\",\"L\",\"C\",\"V\",\"Q\",\"S\",\"T\",\"H\",\"V\",\"D\",\"I\",\"R\",\"T\",\"L\",\"E\",\"D\",\"L\",\"L\",\"M\",\"G\",\"T\",\"L\",\"G\",\"I\",\"V\",\"C\",\"P\",\"I\",\"C\",\"S\",\"Q\",\"K\",\"P\",\"M\",\"H\",\"G\",\"D\",\"T\",\"P\",\"T\",\"L\",\"H\",\"E\",\"Y\",\"M\",\"L\",\"D\",\"L\",\"Q\",\"P\",\"E\",\"T\",\"T\",\"D\",\"L\",\"Y\",\"C\",\"Y\",\"E\",\"Q\",\"L\",\"N\",\"D\",\"S\",\"S\",\"E\",\"E\",\"E\",\"D\",\"E\",\"I\",\"D\",\"G\",\"P\",\"A\",\"G\",\"Q\",\"A\",\"E\",\"P\",\"D\",\"R\",\"A\",\"H\",\"Y\",\"N\",\"I\",\"V\",\"T\",\"F\",\"C\",\"C\",\"K\",\"C\",\"D\",\"S\",\"T\",\"L\",\"R\",\"L\",\"C\",\"V\",\"Q\",\"S\",\"T\",\"H\",\"V\",\"D\",\"I\",\"R\",\"T\",\"L\",\"E\",\"D\",\"L\",\"L\",\"M\",\"G\",\"T\",\"L\",\"G\",\"I\",\"V\",\"C\",\"P\",\"I\",\"C\",\"S\",\"Q\",\"K\",\"P\",\"M\",\"H\",\"G\",\"D\",\"T\",\"P\",\"T\",\"L\",\"H\",\"E\",\"Y\",\"M\",\"L\",\"D\",\"L\",\"Q\",\"P\",\"E\",\"T\",\"T\",\"D\",\"L\",\"Y\",\"C\",\"Y\",\"E\",\"Q\",\"L\",\"N\",\"D\",\"S\",\"S\",\"E\",\"E\",\"E\",\"D\",\"E\",\"I\",\"D\",\"G\",\"P\",\"A\",\"G\",\"Q\",\"A\",\"E\",\"P\",\"D\",\"R\",\"A\",\"H\",\"Y\",\"N\",\"I\",\"V\",\"T\",\"F\",\"C\",\"C\",\"K\",\"C\",\"D\",\"S\",\"T\",\"L\",\"R\",\"L\",\"C\",\"V\",\"Q\",\"S\",\"T\",\"H\",\"V\",\"D\",\"I\",\"R\",\"T\",\"L\",\"E\",\"D\",\"L\",\"L\",\"M\",\"G\",\"T\",\"L\",\"G\",\"I\",\"V\",\"C\",\"P\",\"I\",\"C\",\"S\",\"Q\",\"K\",\"P\",\"M\",\"H\",\"G\",\"D\",\"T\",\"P\",\"T\",\"L\",\"H\",\"E\",\"Y\",\"M\",\"L\",\"D\",\"L\",\"Q\",\"P\",\"E\",\"T\",\"T\",\"D\",\"L\",\"Y\",\"C\",\"Y\",\"E\",\"Q\",\"L\",\"N\",\"D\",\"S\",\"S\",\"E\",\"E\",\"E\",\"D\",\"E\",\"I\",\"D\",\"G\",\"P\",\"A\",\"G\",\"Q\",\"A\",\"E\",\"P\",\"D\",\"R\",\"A\",\"H\",\"Y\",\"N\",\"I\",\"V\",\"T\",\"F\",\"C\",\"C\",\"K\",\"C\",\"D\",\"S\",\"T\",\"L\",\"R\",\"L\",\"C\",\"V\",\"Q\",\"S\",\"T\",\"H\",\"V\",\"D\",\"I\",\"R\",\"T\",\"L\",\"E\",\"D\",\"L\",\"L\",\"M\",\"G\",\"T\",\"L\",\"G\",\"I\",\"V\",\"C\",\"P\",\"I\",\"C\",\"S\",\"Q\",\"K\",\"P\",\"M\",\"H\",\"G\",\"D\",\"T\",\"P\",\"T\",\"L\",\"H\",\"E\",\"Y\",\"M\",\"L\",\"D\",\"L\",\"Q\",\"P\",\"E\",\"T\",\"T\",\"D\",\"L\",\"Y\",\"C\",\"Y\",\"E\",\"Q\",\"L\",\"N\",\"D\",\"S\",\"S\",\"E\",\"E\",\"E\",\"D\",\"E\",\"I\",\"D\",\"G\",\"P\",\"A\",\"G\",\"Q\",\"A\",\"E\",\"P\",\"D\",\"R\",\"A\",\"H\",\"Y\",\"N\",\"I\",\"V\",\"T\",\"F\",\"C\",\"C\",\"K\",\"C\",\"D\",\"S\",\"T\",\"L\",\"R\",\"L\",\"C\",\"V\",\"Q\",\"S\",\"T\",\"H\",\"V\",\"D\",\"I\",\"R\",\"T\",\"L\",\"E\",\"D\",\"L\",\"L\",\"M\",\"G\",\"T\",\"L\",\"G\",\"I\",\"V\",\"C\",\"P\",\"I\",\"C\",\"S\",\"Q\",\"K\",\"P\",\"M\",\"H\",\"G\",\"D\",\"T\",\"P\",\"T\",\"L\",\"H\",\"E\",\"Y\",\"M\",\"L\",\"D\",\"L\",\"Q\",\"P\",\"E\",\"T\",\"T\",\"D\",\"L\",\"Y\",\"C\",\"Y\",\"E\",\"Q\",\"L\",\"N\",\"D\",\"S\",\"S\",\"E\",\"E\",\"E\",\"D\",\"E\",\"I\",\"D\",\"G\",\"P\",\"A\",\"G\",\"Q\",\"A\",\"E\",\"P\",\"D\",\"R\",\"A\",\"H\",\"Y\",\"N\",\"I\",\"V\",\"T\",\"F\",\"C\",\"C\",\"K\",\"C\",\"D\",\"S\",\"T\",\"L\",\"R\",\"L\",\"C\",\"V\",\"Q\",\"S\",\"T\",\"H\",\"V\",\"D\",\"I\",\"R\",\"T\",\"L\",\"E\",\"D\",\"L\",\"L\",\"M\",\"G\",\"T\",\"L\",\"G\",\"I\",\"V\",\"C\",\"P\",\"I\",\"C\",\"S\",\"Q\",\"K\",\"P\",\"M\",\"H\",\"G\",\"D\",\"T\",\"P\",\"T\",\"L\",\"H\",\"E\",\"Y\",\"M\",\"L\",\"D\",\"L\",\"Q\",\"P\",\"E\",\"T\",\"T\",\"D\",\"L\",\"Y\",\"C\",\"Y\",\"E\",\"Q\",\"L\",\"N\",\"D\",\"S\",\"S\",\"E\",\"E\",\"E\",\"D\",\"E\",\"I\",\"D\",\"G\",\"P\",\"A\",\"G\",\"Q\",\"A\",\"E\",\"P\",\"D\",\"R\",\"A\",\"H\",\"Y\",\"N\",\"I\",\"V\",\"T\",\"F\",\"C\",\"C\",\"K\",\"C\",\"D\",\"S\",\"T\",\"L\",\"R\",\"L\",\"C\",\"V\",\"Q\",\"S\",\"T\",\"H\",\"V\",\"D\",\"I\",\"R\",\"T\",\"L\",\"E\",\"D\",\"L\",\"L\",\"M\",\"G\",\"T\",\"L\",\"G\",\"I\",\"V\",\"C\",\"P\",\"I\",\"C\",\"S\",\"Q\",\"K\",\"P\",\"M\",\"H\",\"G\",\"D\",\"T\",\"P\",\"T\",\"L\",\"H\",\"E\",\"Y\",\"M\",\"L\",\"D\",\"L\",\"Q\",\"P\",\"E\",\"T\",\"T\",\"D\",\"L\",\"Y\",\"C\",\"Y\",\"E\",\"Q\",\"L\",\"N\",\"D\",\"S\",\"S\",\"E\",\"E\",\"E\",\"D\",\"E\",\"I\",\"D\",\"G\",\"P\",\"A\",\"G\",\"Q\",\"A\",\"E\",\"P\",\"D\",\"R\",\"A\",\"H\",\"Y\",\"N\",\"I\",\"V\",\"T\",\"F\",\"C\",\"C\",\"K\",\"C\",\"D\",\"S\",\"T\",\"L\",\"R\",\"L\",\"C\",\"V\",\"Q\",\"S\",\"T\",\"H\",\"V\",\"D\",\"I\",\"R\",\"T\",\"L\",\"E\",\"D\",\"L\",\"L\",\"M\",\"G\",\"T\",\"L\",\"G\",\"I\",\"V\",\"C\",\"P\",\"I\",\"C\",\"S\",\"Q\",\"K\",\"P\",\"M\",\"H\",\"G\",\"D\",\"T\",\"P\",\"T\",\"L\",\"H\",\"E\",\"Y\",\"M\",\"L\",\"D\",\"L\",\"Q\",\"P\",\"E\",\"T\",\"T\",\"D\",\"L\",\"Y\",\"C\",\"Y\",\"E\",\"Q\",\"L\",\"N\",\"D\",\"S\",\"S\",\"E\",\"E\",\"E\",\"D\",\"E\",\"I\",\"D\",\"G\",\"P\",\"A\",\"G\",\"Q\",\"A\",\"E\",\"P\",\"D\",\"R\",\"A\",\"H\",\"Y\",\"N\",\"I\",\"V\",\"T\",\"F\",\"C\",\"C\",\"K\",\"C\",\"D\",\"S\",\"T\",\"L\",\"R\",\"L\",\"C\",\"V\",\"Q\",\"S\",\"T\",\"H\",\"V\",\"D\",\"I\",\"R\",\"T\",\"L\",\"E\",\"D\",\"L\",\"L\",\"M\",\"G\",\"T\",\"L\",\"G\",\"I\",\"V\",\"C\",\"P\",\"I\",\"C\",\"S\",\"Q\",\"K\",\"P\",\"M\",\"H\",\"G\",\"D\",\"T\",\"P\",\"T\",\"L\",\"H\",\"E\",\"Y\",\"M\",\"L\",\"D\",\"L\",\"Q\",\"P\",\"E\",\"T\",\"T\",\"D\",\"L\",\"Y\",\"C\",\"Y\",\"E\",\"Q\",\"L\",\"N\",\"D\",\"S\",\"S\",\"E\",\"E\",\"E\",\"D\",\"E\",\"I\",\"D\",\"G\",\"P\",\"A\",\"G\",\"Q\",\"A\",\"E\",\"P\",\"D\",\"R\",\"A\",\"H\",\"Y\",\"N\",\"I\",\"V\",\"T\",\"F\",\"C\",\"C\",\"K\",\"C\",\"D\",\"S\",\"T\",\"L\",\"R\",\"L\",\"C\",\"V\",\"Q\",\"S\",\"T\",\"H\",\"V\",\"D\",\"I\",\"R\",\"T\",\"L\",\"E\",\"D\",\"L\",\"L\",\"M\",\"G\",\"T\",\"L\",\"G\",\"I\",\"V\",\"C\",\"P\",\"I\",\"C\",\"S\",\"Q\",\"K\",\"P\",\"M\",\"H\",\"G\",\"D\",\"T\",\"P\",\"T\",\"L\",\"H\",\"E\",\"Y\",\"M\",\"L\",\"D\",\"L\",\"Q\",\"P\",\"E\",\"T\",\"T\",\"D\",\"L\",\"Y\",\"C\",\"Y\",\"E\",\"Q\",\"L\",\"N\",\"D\",\"S\",\"S\",\"E\",\"E\",\"E\",\"D\",\"E\",\"I\",\"D\",\"G\",\"P\",\"A\",\"G\",\"Q\",\"A\",\"E\",\"P\",\"D\",\"R\",\"A\",\"H\",\"Y\",\"N\",\"I\",\"V\",\"T\",\"F\",\"C\",\"C\",\"K\",\"C\",\"D\",\"S\",\"T\",\"L\",\"R\",\"L\",\"C\",\"V\",\"Q\",\"S\",\"T\",\"H\",\"V\",\"D\",\"I\",\"R\",\"T\",\"L\",\"E\",\"D\",\"L\",\"L\",\"M\",\"G\",\"T\",\"L\",\"G\",\"I\",\"V\",\"C\",\"P\",\"I\",\"C\",\"S\",\"Q\",\"K\",\"P\",\"M\",\"H\",\"G\",\"D\",\"T\",\"P\",\"T\",\"L\",\"H\",\"E\",\"Y\",\"M\",\"L\",\"D\",\"L\",\"Q\",\"P\",\"E\",\"T\",\"T\",\"D\",\"L\",\"Y\",\"C\",\"Y\",\"E\",\"Q\",\"L\",\"N\",\"D\",\"S\",\"S\",\"E\",\"E\",\"E\",\"D\",\"E\",\"I\",\"D\",\"G\",\"P\",\"A\",\"G\",\"Q\",\"A\",\"E\",\"P\",\"D\",\"R\",\"A\",\"H\",\"Y\",\"N\",\"I\",\"V\",\"T\",\"F\",\"C\",\"C\",\"K\",\"C\",\"D\",\"S\",\"T\",\"L\",\"R\",\"L\",\"C\",\"V\",\"Q\",\"S\",\"T\",\"H\",\"V\",\"D\",\"I\",\"R\",\"T\",\"L\",\"E\",\"D\",\"L\",\"L\",\"M\",\"G\",\"T\",\"L\",\"G\",\"I\",\"V\",\"C\",\"P\",\"I\",\"C\",\"S\",\"Q\",\"K\",\"P\",\"M\",\"H\",\"G\",\"D\",\"T\",\"P\",\"T\",\"L\",\"H\",\"E\",\"Y\",\"M\",\"L\",\"D\",\"L\",\"Q\",\"P\",\"E\",\"T\",\"T\",\"D\",\"L\",\"Y\",\"C\",\"Y\",\"E\",\"Q\",\"L\",\"N\",\"D\",\"S\",\"S\",\"E\",\"E\",\"E\",\"D\",\"E\",\"I\",\"D\",\"G\",\"P\",\"A\",\"G\",\"Q\",\"A\",\"E\",\"P\",\"D\",\"R\",\"A\",\"H\",\"Y\",\"N\",\"I\",\"V\",\"T\",\"F\",\"C\",\"C\",\"K\",\"C\",\"D\",\"S\",\"T\",\"L\",\"R\",\"L\",\"C\",\"V\",\"Q\",\"S\",\"T\",\"H\",\"V\",\"D\",\"I\",\"R\",\"T\",\"L\",\"E\",\"D\",\"L\",\"L\",\"M\",\"G\",\"T\",\"L\",\"G\",\"I\",\"V\",\"C\",\"P\",\"I\",\"C\",\"S\",\"Q\",\"K\",\"P\",\"M\",\"H\",\"G\",\"D\",\"T\",\"P\",\"T\",\"L\",\"H\",\"E\",\"Y\",\"M\",\"L\",\"D\",\"L\",\"Q\",\"P\",\"E\",\"T\",\"T\",\"D\",\"L\",\"Y\",\"C\",\"Y\",\"E\",\"Q\",\"L\",\"N\",\"D\",\"S\",\"S\",\"E\",\"E\",\"E\",\"D\",\"E\",\"I\",\"D\",\"G\",\"P\",\"A\",\"G\",\"Q\",\"A\",\"E\",\"P\",\"D\",\"R\",\"A\",\"H\",\"Y\",\"N\",\"I\",\"V\",\"T\",\"F\",\"C\",\"C\",\"K\",\"C\",\"D\",\"S\",\"T\",\"L\",\"R\",\"L\",\"C\",\"V\",\"Q\",\"S\",\"T\",\"H\",\"V\",\"D\",\"I\",\"R\",\"T\",\"L\",\"E\",\"D\",\"L\",\"L\",\"M\",\"G\",\"T\",\"L\",\"G\",\"I\",\"V\",\"C\",\"P\",\"I\",\"C\",\"S\",\"Q\",\"K\",\"P\",\"M\",\"H\",\"G\",\"D\",\"T\",\"P\",\"T\",\"L\",\"H\",\"E\",\"Y\",\"M\",\"L\",\"D\",\"L\",\"Q\",\"P\",\"E\",\"T\",\"T\",\"D\",\"L\",\"Y\",\"C\",\"Y\",\"E\",\"Q\",\"L\",\"N\",\"D\",\"S\",\"S\",\"E\",\"E\",\"E\",\"D\",\"E\",\"I\",\"D\",\"G\",\"P\",\"A\",\"G\",\"Q\",\"A\",\"E\",\"P\",\"D\",\"R\",\"A\",\"H\",\"Y\",\"N\",\"I\",\"V\",\"T\",\"F\",\"C\",\"C\",\"K\",\"C\",\"D\",\"S\",\"T\",\"L\",\"R\",\"L\",\"C\",\"V\",\"Q\",\"S\",\"T\",\"H\",\"V\",\"D\",\"I\",\"R\",\"T\",\"L\",\"E\",\"D\",\"L\",\"L\",\"M\",\"G\",\"T\",\"L\",\"G\",\"I\",\"V\",\"C\",\"P\",\"I\",\"C\",\"S\",\"Q\",\"K\",\"P\",\"M\",\"H\",\"G\",\"D\",\"T\",\"P\",\"T\",\"L\",\"H\",\"E\",\"Y\",\"M\",\"L\",\"D\",\"L\",\"Q\",\"P\",\"E\",\"T\",\"T\",\"D\",\"L\",\"Y\",\"C\",\"Y\",\"E\",\"Q\",\"L\",\"N\",\"D\",\"S\",\"S\",\"E\",\"E\",\"E\",\"D\",\"E\",\"I\",\"D\",\"G\",\"P\",\"A\",\"G\",\"Q\",\"A\",\"E\",\"P\",\"D\",\"R\",\"A\",\"H\",\"Y\",\"N\",\"I\",\"V\",\"T\",\"F\",\"C\",\"C\",\"K\",\"C\",\"D\",\"S\",\"T\",\"L\",\"R\",\"L\",\"C\",\"V\",\"Q\",\"S\",\"T\",\"H\",\"V\",\"D\",\"I\",\"R\",\"T\",\"L\",\"E\",\"D\",\"L\",\"L\",\"M\",\"G\",\"T\",\"L\",\"G\",\"I\",\"V\",\"C\",\"P\",\"I\",\"C\",\"S\",\"Q\",\"K\",\"P\",\"M\",\"H\",\"G\",\"D\",\"T\",\"P\",\"T\",\"L\",\"H\",\"E\",\"Y\",\"M\",\"L\",\"D\",\"L\",\"Q\",\"P\",\"E\",\"T\",\"T\",\"D\",\"L\",\"Y\",\"C\",\"Y\",\"E\",\"Q\",\"L\",\"N\",\"D\",\"S\",\"S\",\"E\",\"E\",\"E\",\"D\",\"E\",\"I\",\"D\",\"G\",\"P\",\"A\",\"G\",\"Q\",\"A\",\"E\",\"P\",\"D\",\"R\",\"A\",\"H\",\"Y\",\"N\",\"I\",\"V\",\"T\",\"F\",\"C\",\"C\",\"K\",\"C\",\"D\",\"S\",\"T\",\"L\",\"R\",\"L\",\"C\",\"V\",\"Q\",\"S\",\"T\",\"H\",\"V\",\"D\",\"I\",\"R\",\"T\",\"L\",\"E\",\"D\",\"L\",\"L\",\"M\",\"G\",\"T\",\"L\",\"G\",\"I\",\"V\",\"C\",\"P\",\"I\",\"C\",\"S\",\"Q\",\"K\",\"P\",\"M\",\"H\",\"G\",\"D\",\"T\",\"P\",\"T\",\"L\",\"H\",\"E\",\"Y\",\"M\",\"L\",\"D\",\"L\",\"Q\",\"P\",\"E\",\"T\",\"T\",\"D\",\"L\",\"Y\",\"C\",\"Y\",\"E\",\"Q\",\"L\",\"N\",\"D\",\"S\",\"S\",\"E\",\"E\",\"E\",\"D\",\"E\",\"I\",\"D\",\"G\",\"P\",\"A\",\"G\",\"Q\",\"A\",\"E\",\"P\",\"D\",\"R\",\"A\",\"H\",\"Y\",\"N\",\"I\",\"V\",\"T\",\"F\",\"C\",\"C\",\"K\",\"C\",\"D\",\"S\",\"T\",\"L\",\"R\",\"L\",\"C\",\"V\",\"Q\",\"S\",\"T\",\"H\",\"V\",\"D\",\"I\",\"R\",\"T\",\"L\",\"E\",\"D\",\"L\",\"L\",\"M\",\"G\",\"T\",\"L\",\"G\",\"I\",\"V\",\"C\",\"P\",\"I\",\"C\",\"S\",\"Q\",\"K\",\"P\",\"M\",\"H\",\"G\",\"D\",\"T\",\"P\",\"T\",\"L\",\"H\",\"E\",\"Y\",\"M\",\"L\",\"D\",\"L\",\"Q\",\"P\",\"E\",\"T\",\"T\",\"D\",\"L\",\"Y\",\"C\",\"Y\",\"E\",\"Q\",\"L\",\"N\",\"D\",\"S\",\"S\",\"E\",\"E\",\"E\",\"D\",\"E\",\"I\",\"D\",\"G\",\"P\",\"A\",\"G\",\"Q\",\"A\",\"E\",\"P\",\"D\",\"R\",\"A\",\"H\",\"Y\",\"N\",\"I\",\"V\",\"T\",\"F\",\"C\",\"C\",\"K\",\"C\",\"D\",\"S\",\"T\",\"L\",\"R\",\"L\",\"C\",\"V\",\"Q\",\"S\",\"T\",\"H\",\"V\",\"D\",\"I\",\"R\",\"T\",\"L\",\"E\",\"D\",\"L\",\"L\",\"M\",\"G\",\"T\",\"L\",\"G\",\"I\",\"V\",\"C\",\"P\",\"I\",\"C\",\"S\",\"Q\",\"K\",\"P\",\"M\",\"H\",\"G\",\"D\",\"T\",\"P\",\"T\",\"L\",\"H\",\"E\",\"Y\",\"M\",\"L\",\"D\",\"L\",\"Q\",\"P\",\"E\",\"T\",\"T\",\"D\",\"L\",\"Y\",\"C\",\"Y\",\"E\",\"Q\",\"L\",\"N\",\"D\",\"S\",\"S\",\"E\",\"E\",\"E\",\"D\",\"E\",\"I\",\"D\",\"G\",\"P\",\"A\",\"G\",\"Q\",\"A\",\"E\",\"P\",\"D\",\"R\",\"A\",\"H\",\"Y\",\"N\",\"I\",\"V\",\"T\",\"F\",\"C\",\"C\",\"K\",\"C\",\"D\",\"S\",\"T\",\"L\",\"R\",\"L\",\"C\",\"V\",\"Q\",\"S\",\"T\",\"H\",\"V\",\"D\",\"I\",\"R\",\"T\",\"L\",\"E\",\"D\",\"L\",\"L\",\"M\",\"G\",\"T\",\"L\",\"G\",\"I\",\"V\",\"C\",\"P\",\"I\",\"C\",\"S\",\"Q\",\"K\",\"P\",\"M\",\"H\",\"G\",\"D\",\"T\",\"P\",\"T\",\"L\",\"H\",\"E\",\"Y\",\"M\",\"L\",\"D\",\"L\",\"Q\",\"P\",\"E\",\"T\",\"T\",\"D\",\"L\",\"Y\",\"C\",\"Y\",\"E\",\"Q\",\"L\",\"N\",\"D\",\"S\",\"S\",\"E\",\"E\",\"E\",\"D\",\"E\",\"I\",\"D\",\"G\",\"P\",\"A\",\"G\",\"Q\",\"A\",\"E\",\"P\",\"D\",\"R\",\"A\",\"H\",\"Y\",\"N\",\"I\",\"V\",\"T\",\"F\",\"C\",\"C\",\"K\",\"C\",\"D\",\"S\",\"T\",\"L\",\"R\",\"L\",\"C\",\"V\",\"Q\",\"S\",\"T\",\"H\",\"V\",\"D\",\"I\",\"R\",\"T\",\"L\",\"E\",\"D\",\"L\",\"L\",\"M\",\"G\",\"T\",\"L\",\"G\",\"I\",\"V\",\"C\",\"P\",\"I\",\"C\",\"S\",\"Q\",\"K\",\"P\",\"M\",\"H\",\"G\",\"D\",\"T\",\"P\",\"T\",\"L\",\"H\",\"E\",\"Y\",\"M\",\"L\",\"D\",\"L\",\"Q\",\"P\",\"E\",\"T\",\"T\",\"D\",\"L\",\"Y\",\"C\",\"Y\",\"E\",\"Q\",\"L\",\"N\",\"D\",\"S\",\"S\",\"E\",\"E\",\"E\",\"D\",\"E\",\"I\",\"D\",\"G\",\"P\",\"A\",\"G\",\"Q\",\"A\",\"E\",\"P\",\"D\",\"R\",\"A\",\"H\",\"Y\",\"N\",\"I\",\"V\",\"T\",\"F\",\"C\",\"C\",\"K\",\"C\",\"D\",\"S\",\"T\",\"L\",\"R\",\"L\",\"C\",\"V\",\"Q\",\"S\",\"T\",\"H\",\"V\",\"D\",\"I\",\"R\",\"T\",\"L\",\"E\",\"D\",\"L\",\"L\",\"M\",\"G\",\"T\",\"L\",\"G\",\"I\",\"V\",\"C\",\"P\",\"I\",\"C\",\"S\",\"Q\",\"K\",\"P\"],\"x\":[1,2,3,4,5,6,7,8,9,10,11,12,13,14,15,16,17,18,19,20,21,22,23,24,25,26,27,28,29,30,31,32,33,34,35,36,37,38,39,40,41,42,43,44,45,46,47,48,49,50,51,52,53,54,55,56,57,58,59,60,61,62,63,64,65,66,67,68,69,70,71,72,73,74,75,76,77,78,79,80,81,82,83,84,85,86,87,88,89,90,91,92,93,94,95,96,97,98,1,2,3,4,5,6,7,8,9,10,11,12,13,14,15,16,17,18,19,20,21,22,23,24,25,26,27,28,29,30,31,32,33,34,35,36,37,38,39,40,41,42,43,44,45,46,47,48,49,50,51,52,53,54,55,56,57,58,59,60,61,62,63,64,65,66,67,68,69,70,71,72,73,74,75,76,77,78,79,80,81,82,83,84,85,86,87,88,89,90,91,92,93,94,95,96,97,98,1,2,3,4,5,6,7,8,9,10,11,12,13,14,15,16,17,18,19,20,21,22,23,24,25,26,27,28,29,30,31,32,33,34,35,36,37,38,39,40,41,42,43,44,45,46,47,48,49,50,51,52,53,54,55,56,57,58,59,60,61,62,63,64,65,66,67,68,69,70,71,72,73,74,75,76,77,78,79,80,81,82,83,84,85,86,87,88,89,90,91,92,93,94,95,96,97,98,1,2,3,4,5,6,7,8,9,10,11,12,13,14,15,16,17,18,19,20,21,22,23,24,25,26,27,28,29,30,31,32,33,34,35,36,37,38,39,40,41,42,43,44,45,46,47,48,49,50,51,52,53,54,55,56,57,58,59,60,61,62,63,64,65,66,67,68,69,70,71,72,73,74,75,76,77,78,79,80,81,82,83,84,85,86,87,88,89,90,91,92,93,94,95,96,97,98,1,2,3,4,5,6,7,8,9,10,11,12,13,14,15,16,17,18,19,20,21,22,23,24,25,26,27,28,29,30,31,32,33,34,35,36,37,38,39,40,41,42,43,44,45,46,47,48,49,50,51,52,53,54,55,56,57,58,59,60,61,62,63,64,65,66,67,68,69,70,71,72,73,74,75,76,77,78,79,80,81,82,83,84,85,86,87,88,89,90,91,92,93,94,95,96,97,98,1,2,3,4,5,6,7,8,9,10,11,12,13,14,15,16,17,18,19,20,21,22,23,24,25,26,27,28,29,30,31,32,33,34,35,36,37,38,39,40,41,42,43,44,45,46,47,48,49,50,51,52,53,54,55,56,57,58,59,60,61,62,63,64,65,66,67,68,69,70,71,72,73,74,75,76,77,78,79,80,81,82,83,84,85,86,87,88,89,90,91,92,93,94,95,96,97,98,1,2,3,4,5,6,7,8,9,10,11,12,13,14,15,16,17,18,19,20,21,22,23,24,25,26,27,28,29,30,31,32,33,34,35,36,37,38,39,40,41,42,43,44,45,46,47,48,49,50,51,52,53,54,55,56,57,58,59,60,61,62,63,64,65,66,67,68,69,70,71,72,73,74,75,76,77,78,79,80,81,82,83,84,85,86,87,88,89,90,91,92,93,94,95,96,97,98,1,2,3,4,5,6,7,8,9,10,11,12,13,14,15,16,17,18,19,20,21,22,23,24,25,26,27,28,29,30,31,32,33,34,35,36,37,38,39,40,41,42,43,44,45,46,47,48,49,50,51,52,53,54,55,56,57,58,59,60,61,62,63,64,65,66,67,68,69,70,71,72,73,74,75,76,77,78,79,80,81,82,83,84,85,86,87,88,89,90,91,92,93,94,95,96,97,98,1,2,3,4,5,6,7,8,9,10,11,12,13,14,15,16,17,18,19,20,21,22,23,24,25,26,27,28,29,30,31,32,33,34,35,36,37,38,39,40,41,42,43,44,45,46,47,48,49,50,51,52,53,54,55,56,57,58,59,60,61,62,63,64,65,66,67,68,69,70,71,72,73,74,75,76,77,78,79,80,81,82,83,84,85,86,87,88,89,90,91,92,93,94,95,96,97,98,1,2,3,4,5,6,7,8,9,10,11,12,13,14,15,16,17,18,19,20,21,22,23,24,25,26,27,28,29,30,31,32,33,34,35,36,37,38,39,40,41,42,43,44,45,46,47,48,49,50,51,52,53,54,55,56,57,58,59,60,61,62,63,64,65,66,67,68,69,70,71,72,73,74,75,76,77,78,79,80,81,82,83,84,85,86,87,88,89,90,91,92,93,94,95,96,97,98,1,2,3,4,5,6,7,8,9,10,11,12,13,14,15,16,17,18,19,20,21,22,23,24,25,26,27,28,29,30,31,32,33,34,35,36,37,38,39,40,41,42,43,44,45,46,47,48,49,50,51,52,53,54,55,56,57,58,59,60,61,62,63,64,65,66,67,68,69,70,71,72,73,74,75,76,77,78,79,80,81,82,83,84,85,86,87,88,89,90,91,92,93,94,95,96,97,98,1,2,3,4,5,6,7,8,9,10,11,12,13,14,15,16,17,18,19,20,21,22,23,24,25,26,27,28,29,30,31,32,33,34,35,36,37,38,39,40,41,42,43,44,45,46,47,48,49,50,51,52,53,54,55,56,57,58,59,60,61,62,63,64,65,66,67,68,69,70,71,72,73,74,75,76,77,78,79,80,81,82,83,84,85,86,87,88,89,90,91,92,93,94,95,96,97,98,1,2,3,4,5,6,7,8,9,10,11,12,13,14,15,16,17,18,19,20,21,22,23,24,25,26,27,28,29,30,31,32,33,34,35,36,37,38,39,40,41,42,43,44,45,46,47,48,49,50,51,52,53,54,55,56,57,58,59,60,61,62,63,64,65,66,67,68,69,70,71,72,73,74,75,76,77,78,79,80,81,82,83,84,85,86,87,88,89,90,91,92,93,94,95,96,97,98,1,2,3,4,5,6,7,8,9,10,11,12,13,14,15,16,17,18,19,20,21,22,23,24,25,26,27,28,29,30,31,32,33,34,35,36,37,38,39,40,41,42,43,44,45,46,47,48,49,50,51,52,53,54,55,56,57,58,59,60,61,62,63,64,65,66,67,68,69,70,71,72,73,74,75,76,77,78,79,80,81,82,83,84,85,86,87,88,89,90,91,92,93,94,95,96,97,98,1,2,3,4,5,6,7,8,9,10,11,12,13,14,15,16,17,18,19,20,21,22,23,24,25,26,27,28,29,30,31,32,33,34,35,36,37,38,39,40,41,42,43,44,45,46,47,48,49,50,51,52,53,54,55,56,57,58,59,60,61,62,63,64,65,66,67,68,69,70,71,72,73,74,75,76,77,78,79,80,81,82,83,84,85,86,87,88,89,90,91,92,93,94,95,96,97,98,1,2,3,4,5,6,7,8,9,10,11,12,13,14,15,16,17,18,19,20,21,22,23,24,25,26,27,28,29,30,31,32,33,34,35,36,37,38,39,40,41,42,43,44,45,46,47,48,49,50,51,52,53,54,55,56,57,58,59,60,61,62,63,64,65,66,67,68,69,70,71,72,73,74,75,76,77,78,79,80,81,82,83,84,85,86,87,88,89,90,91,92,93,94,95,96,97,98,1,2,3,4,5,6,7,8,9,10,11,12,13,14,15,16,17,18,19,20,21,22,23,24,25,26,27,28,29,30,31,32,33,34,35,36,37,38,39,40,41,42,43,44,45,46,47,48,49,50,51,52,53,54,55,56,57,58,59,60,61,62,63,64,65,66,67,68,69,70,71,72,73,74,75,76,77,78,79,80,81,82,83,84,85,86,87,88,89,90,91,92,93,94,95,96,97,98,1,2,3,4,5,6,7,8,9,10,11,12,13,14,15,16,17,18,19,20,21,22,23,24,25,26,27,28,29,30,31,32,33,34,35,36,37,38,39,40,41,42,43,44,45,46,47,48,49,50,51,52,53,54,55,56,57,58,59,60,61,62,63,64,65,66,67,68,69,70,71,72,73,74,75,76,77,78,79,80,81,82,83,84,85,86,87,88,89,90,91,92,93,94,95,96,97,98,1,2,3,4,5,6,7,8,9,10,11,12,13,14,15,16,17,18,19,20,21,22,23,24,25,26,27,28,29,30,31,32,33,34,35,36,37,38,39,40,41,42,43,44,45,46,47,48,49,50,51,52,53,54,55,56,57,58,59,60,61,62,63,64,65,66,67,68,69,70,71,72,73,74,75,76,77,78,79,80,81,82,83,84,85,86,87,88,89,90,91,92,93,94,95,96,97,98,1,2,3,4,5,6,7,8,9,10,11,12,13,14,15,16,17,18,19,20,21,22,23,24,25,26,27,28,29,30,31,32,33,34,35,36,37,38,39,40,41,42,43,44,45,46,47,48,49,50,51,52,53,54,55,56,57,58,59,60,61,62,63,64,65,66,67,68,69,70,71,72,73,74,75,76,77,78,79,80,81,82,83,84,85,86,87,88,89,90,91,92,93,94,95,96,97,98,1,2,3,4,5,6,7,8,9,10,11,12,13,14,15,16,17,18,19,20,21,22,23,24,25,26,27,28,29,30,31,32,33,34,35,36,37,38,39,40,41,42,43,44,45,46,47,48,49,50,51,52,53,54,55,56,57,58,59,60,61,62,63,64,65,66,67,68,69,70,71,72,73,74,75,76,77,78,79,80,81,82,83,84,85,86,87,88,89,90,91,92,93,94,95,96,97,98,1,2,3,4,5,6,7,8,9,10,11,12,13,14,15,16,17,18,19,20,21,22,23,24,25,26,27,28,29,30,31,32,33,34,35,36,37,38,39,40,41,42,43,44,45,46,47,48,49,50,51,52,53,54,55,56,57,58,59,60,61,62,63,64,65,66,67,68,69,70,71,72,73,74,75,76,77,78,79,80,81,82,83,84,85,86,87,88,89,90,91,92,93,94,95,96,97,98,1,2,3,4,5,6,7,8,9,10,11,12,13,14,15,16,17,18,19,20,21,22,23,24,25,26,27,28,29,30,31,32,33,34,35,36,37,38,39,40,41,42,43,44,45,46,47,48,49,50,51,52,53,54,55,56,57,58,59,60,61,62,63,64,65,66,67,68,69,70,71,72,73,74,75,76,77,78,79,80,81,82,83,84,85,86,87,88,89,90,91,92,93,94,95,96,97,98,1,2,3,4,5,6,7,8,9,10,11,12,13,14,15,16,17,18,19,20,21,22,23,24,25,26,27,28,29,30,31,32,33,34,35,36,37,38,39,40,41,42,43,44,45,46,47,48,49,50,51,52,53,54,55,56,57,58,59,60,61,62,63,64,65,66,67,68,69,70,71,72,73,74,75,76,77,78,79,80,81,82,83,84,85,86,87,88,89,90,91,92,93,94,95,96,97,98,1,2,3,4,5,6,7,8,9,10,11,12,13,14,15,16,17,18,19,20,21,22,23,24,25,26,27,28,29,30,31,32,33,34,35,36,37,38,39,40,41,42,43,44,45,46,47,48,49,50,51,52,53,54,55,56,57,58,59,60,61,62,63,64,65,66,67,68,69,70,71,72,73,74,75,76,77,78,79,80,81,82,83,84,85,86,87,88,89,90,91,92,93,94,95,96,97,98,1,2,3,4,5,6,7,8,9,10,11,12,13,14,15,16,17,18,19,20,21,22,23,24,25,26,27,28,29,30,31,32,33,34,35,36,37,38,39,40,41,42,43,44,45,46,47,48,49,50,51,52,53,54,55,56,57,58,59,60,61,62,63,64,65,66,67,68,69,70,71,72,73,74,75,76,77,78,79,80,81,82,83,84,85,86,87,88,89,90,91,92,93,94,95,96,97,98,1,2,3,4,5,6,7,8,9,10,11,12,13,14,15,16,17,18,19,20,21,22,23,24,25,26,27,28,29,30,31,32,33,34,35,36,37,38,39,40,41,42,43,44,45,46,47,48,49,50,51,52,53,54,55,56,57,58,59,60,61,62,63,64,65,66,67,68,69,70,71,72,73,74,75,76,77,78,79,80,81,82,83,84,85,86,87,88,89,90,91,92,93,94,95,96,97,98],\"y\":[0,0,0,0,0,0,0,0,0,0,0,0,0,0,0,0,0,0,0,0,0,0,0,0,0,0,0,0,0,0,0,0,0,0,0,0,0,0,0,0,0,0,0,0,0,0,0,0,0,0,0,0,0,0,0,0,0,0,0,0,0,0,0,0,0,0,0,0,0,0,0,0,0,0,0,0,0,0,0,0,0,0,0,0,0,0,0,0,0,0,0,0,0,0,0,0,0,0,1,1,1,1,1,1,1,1,1,1,1,1,1,1,1,1,1,1,1,1,1,1,1,1,1,1,1,1,1,1,1,1,1,1,1,1,1,1,1,1,1,1,1,1,1,1,1,1,1,1,1,1,1,1,1,1,1,1,1,1,1,1,1,1,1,1,1,1,1,1,1,1,1,1,1,1,1,1,1,1,1,1,1,1,1,1,1,1,1,1,1,1,1,1,1,1,1,1,2,2,2,2,2,2,2,2,2,2,2,2,2,2,2,2,2,2,2,2,2,2,2,2,2,2,2,2,2,2,2,2,2,2,2,2,2,2,2,2,2,2,2,2,2,2,2,2,2,2,2,2,2,2,2,2,2,2,2,2,2,2,2,2,2,2,2,2,2,2,2,2,2,2,2,2,2,2,2,2,2,2,2,2,2,2,2,2,2,2,2,2,2,2,2,2,2,2,3,3,3,3,3,3,3,3,3,3,3,3,3,3,3,3,3,3,3,3,3,3,3,3,3,3,3,3,3,3,3,3,3,3,3,3,3,3,3,3,3,3,3,3,3,3,3,3,3,3,3,3,3,3,3,3,3,3,3,3,3,3,3,3,3,3,3,3,3,3,3,3,3,3,3,3,3,3,3,3,3,3,3,3,3,3,3,3,3,3,3,3,3,3,3,3,3,3,4,4,4,4,4,4,4,4,4,4,4,4,4,4,4,4,4,4,4,4,4,4,4,4,4,4,4,4,4,4,4,4,4,4,4,4,4,4,4,4,4,4,4,4,4,4,4,4,4,4,4,4,4,4,4,4,4,4,4,4,4,4,4,4,4,4,4,4,4,4,4,4,4,4,4,4,4,4,4,4,4,4,4,4,4,4,4,4,4,4,4,4,4,4,4,4,4,4,5,5,5,5,5,5,5,5,5,5,5,5,5,5,5,5,5,5,5,5,5,5,5,5,5,5,5,5,5,5,5,5,5,5,5,5,5,5,5,5,5,5,5,5,5,5,5,5,5,5,5,5,5,5,5,5,5,5,5,5,5,5,5,5,5,5,5,5,5,5,5,5,5,5,5,5,5,5,5,5,5,5,5,5,5,5,5,5,5,5,5,5,5,5,5,5,5,5,6,6,6,6,6,6,6,6,6,6,6,6,6,6,6,6,6,6,6,6,6,6,6,6,6,6,6,6,6,6,6,6,6,6,6,6,6,6,6,6,6,6,6,6,6,6,6,6,6,6,6,6,6,6,6,6,6,6,6,6,6,6,6,6,6,6,6,6,6,6,6,6,6,6,6,6,6,6,6,6,6,6,6,6,6,6,6,6,6,6,6,6,6,6,6,6,6,6,7,7,7,7,7,7,7,7,7,7,7,7,7,7,7,7,7,7,7,7,7,7,7,7,7,7,7,7,7,7,7,7,7,7,7,7,7,7,7,7,7,7,7,7,7,7,7,7,7,7,7,7,7,7,7,7,7,7,7,7,7,7,7,7,7,7,7,7,7,7,7,7,7,7,7,7,7,7,7,7,7,7,7,7,7,7,7,7,7,7,7,7,7,7,7,7,7,7,8,8,8,8,8,8,8,8,8,8,8,8,8,8,8,8,8,8,8,8,8,8,8,8,8,8,8,8,8,8,8,8,8,8,8,8,8,8,8,8,8,8,8,8,8,8,8,8,8,8,8,8,8,8,8,8,8,8,8,8,8,8,8,8,8,8,8,8,8,8,8,8,8,8,8,8,8,8,8,8,8,8,8,8,8,8,8,8,8,8,8,8,8,8,8,8,8,8,9,9,9,9,9,9,9,9,9,9,9,9,9,9,9,9,9,9,9,9,9,9,9,9,9,9,9,9,9,9,9,9,9,9,9,9,9,9,9,9,9,9,9,9,9,9,9,9,9,9,9,9,9,9,9,9,9,9,9,9,9,9,9,9,9,9,9,9,9,9,9,9,9,9,9,9,9,9,9,9,9,9,9,9,9,9,9,9,9,9,9,9,9,9,9,9,9,9,10,10,10,10,10,10,10,10,10,10,10,10,10,10,10,10,10,10,10,10,10,10,10,10,10,10,10,10,10,10,10,10,10,10,10,10,10,10,10,10,10,10,10,10,10,10,10,10,10,10,10,10,10,10,10,10,10,10,10,10,10,10,10,10,10,10,10,10,10,10,10,10,10,10,10,10,10,10,10,10,10,10,10,10,10,10,10,10,10,10,10,10,10,10,10,10,10,10,11,11,11,11,11,11,11,11,11,11,11,11,11,11,11,11,11,11,11,11,11,11,11,11,11,11,11,11,11,11,11,11,11,11,11,11,11,11,11,11,11,11,11,11,11,11,11,11,11,11,11,11,11,11,11,11,11,11,11,11,11,11,11,11,11,11,11,11,11,11,11,11,11,11,11,11,11,11,11,11,11,11,11,11,11,11,11,11,11,11,11,11,11,11,11,11,11,11,12,12,12,12,12,12,12,12,12,12,12,12,12,12,12,12,12,12,12,12,12,12,12,12,12,12,12,12,12,12,12,12,12,12,12,12,12,12,12,12,12,12,12,12,12,12,12,12,12,12,12,12,12,12,12,12,12,12,12,12,12,12,12,12,12,12,12,12,12,12,12,12,12,12,12,12,12,12,12,12,12,12,12,12,12,12,12,12,12,12,12,12,12,12,12,12,12,12,13,13,13,13,13,13,13,13,13,13,13,13,13,13,13,13,13,13,13,13,13,13,13,13,13,13,13,13,13,13,13,13,13,13,13,13,13,13,13,13,13,13,13,13,13,13,13,13,13,13,13,13,13,13,13,13,13,13,13,13,13,13,13,13,13,13,13,13,13,13,13,13,13,13,13,13,13,13,13,13,13,13,13,13,13,13,13,13,13,13,13,13,13,13,13,13,13,13,14,14,14,14,14,14,14,14,14,14,14,14,14,14,14,14,14,14,14,14,14,14,14,14,14,14,14,14,14,14,14,14,14,14,14,14,14,14,14,14,14,14,14,14,14,14,14,14,14,14,14,14,14,14,14,14,14,14,14,14,14,14,14,14,14,14,14,14,14,14,14,14,14,14,14,14,14,14,14,14,14,14,14,14,14,14,14,14,14,14,14,14,14,14,14,14,14,14,15,15,15,15,15,15,15,15,15,15,15,15,15,15,15,15,15,15,15,15,15,15,15,15,15,15,15,15,15,15,15,15,15,15,15,15,15,15,15,15,15,15,15,15,15,15,15,15,15,15,15,15,15,15,15,15,15,15,15,15,15,15,15,15,15,15,15,15,15,15,15,15,15,15,15,15,15,15,15,15,15,15,15,15,15,15,15,15,15,15,15,15,15,15,15,15,15,15,16,16,16,16,16,16,16,16,16,16,16,16,16,16,16,16,16,16,16,16,16,16,16,16,16,16,16,16,16,16,16,16,16,16,16,16,16,16,16,16,16,16,16,16,16,16,16,16,16,16,16,16,16,16,16,16,16,16,16,16,16,16,16,16,16,16,16,16,16,16,16,16,16,16,16,16,16,16,16,16,16,16,16,16,16,16,16,16,16,16,16,16,16,16,16,16,16,16,17,17,17,17,17,17,17,17,17,17,17,17,17,17,17,17,17,17,17,17,17,17,17,17,17,17,17,17,17,17,17,17,17,17,17,17,17,17,17,17,17,17,17,17,17,17,17,17,17,17,17,17,17,17,17,17,17,17,17,17,17,17,17,17,17,17,17,17,17,17,17,17,17,17,17,17,17,17,17,17,17,17,17,17,17,17,17,17,17,17,17,17,17,17,17,17,17,17,18,18,18,18,18,18,18,18,18,18,18,18,18,18,18,18,18,18,18,18,18,18,18,18,18,18,18,18,18,18,18,18,18,18,18,18,18,18,18,18,18,18,18,18,18,18,18,18,18,18,18,18,18,18,18,18,18,18,18,18,18,18,18,18,18,18,18,18,18,18,18,18,18,18,18,18,18,18,18,18,18,18,18,18,18,18,18,18,18,18,18,18,18,18,18,18,18,18,19,19,19,19,19,19,19,19,19,19,19,19,19,19,19,19,19,19,19,19,19,19,19,19,19,19,19,19,19,19,19,19,19,19,19,19,19,19,19,19,19,19,19,19,19,19,19,19,19,19,19,19,19,19,19,19,19,19,19,19,19,19,19,19,19,19,19,19,19,19,19,19,19,19,19,19,19,19,19,19,19,19,19,19,19,19,19,19,19,19,19,19,19,19,19,19,19,19,20,20,20,20,20,20,20,20,20,20,20,20,20,20,20,20,20,20,20,20,20,20,20,20,20,20,20,20,20,20,20,20,20,20,20,20,20,20,20,20,20,20,20,20,20,20,20,20,20,20,20,20,20,20,20,20,20,20,20,20,20,20,20,20,20,20,20,20,20,20,20,20,20,20,20,20,20,20,20,20,20,20,20,20,20,20,20,20,20,20,20,20,20,20,20,20,20,20,21,21,21,21,21,21,21,21,21,21,21,21,21,21,21,21,21,21,21,21,21,21,21,21,21,21,21,21,21,21,21,21,21,21,21,21,21,21,21,21,21,21,21,21,21,21,21,21,21,21,21,21,21,21,21,21,21,21,21,21,21,21,21,21,21,21,21,21,21,21,21,21,21,21,21,21,21,21,21,21,21,21,21,21,21,21,21,21,21,21,21,21,21,21,21,21,21,21,22,22,22,22,22,22,22,22,22,22,22,22,22,22,22,22,22,22,22,22,22,22,22,22,22,22,22,22,22,22,22,22,22,22,22,22,22,22,22,22,22,22,22,22,22,22,22,22,22,22,22,22,22,22,22,22,22,22,22,22,22,22,22,22,22,22,22,22,22,22,22,22,22,22,22,22,22,22,22,22,22,22,22,22,22,22,22,22,22,22,22,22,22,22,22,22,22,22,23,23,23,23,23,23,23,23,23,23,23,23,23,23,23,23,23,23,23,23,23,23,23,23,23,23,23,23,23,23,23,23,23,23,23,23,23,23,23,23,23,23,23,23,23,23,23,23,23,23,23,23,23,23,23,23,23,23,23,23,23,23,23,23,23,23,23,23,23,23,23,23,23,23,23,23,23,23,23,23,23,23,23,23,23,23,23,23,23,23,23,23,23,23,23,23,23,23,24,24,24,24,24,24,24,24,24,24,24,24,24,24,24,24,24,24,24,24,24,24,24,24,24,24,24,24,24,24,24,24,24,24,24,24,24,24,24,24,24,24,24,24,24,24,24,24,24,24,24,24,24,24,24,24,24,24,24,24,24,24,24,24,24,24,24,24,24,24,24,24,24,24,24,24,24,24,24,24,24,24,24,24,24,24,24,24,24,24,24,24,24,24,24,24,24,24,25,25,25,25,25,25,25,25,25,25,25,25,25,25,25,25,25,25,25,25,25,25,25,25,25,25,25,25,25,25,25,25,25,25,25,25,25,25,25,25,25,25,25,25,25,25,25,25,25,25,25,25,25,25,25,25,25,25,25,25,25,25,25,25,25,25,25,25,25,25,25,25,25,25,25,25,25,25,25,25,25,25,25,25,25,25,25,25,25,25,25,25,25,25,25,25,25,25,26,26,26,26,26,26,26,26,26,26,26,26,26,26,26,26,26,26,26,26,26,26,26,26,26,26,26,26,26,26,26,26,26,26,26,26,26,26,26,26,26,26,26,26,26,26,26,26,26,26,26,26,26,26,26,26,26,26,26,26,26,26,26,26,26,26,26,26,26,26,26,26,26,26,26,26,26,26,26,26,26,26,26,26,26,26,26,26,26,26,26,26,26,26,26,26,26,26]},\"selected\":{\"id\":\"1087\"},\"selection_policy\":{\"id\":\"1086\"}},\"id\":\"1001\",\"type\":\"ColumnDataSource\"},{\"attributes\":{},\"id\":\"1063\",\"type\":\"ResetTool\"},{\"attributes\":{\"end\":99,\"format\":\"0[.]00\",\"js_property_callbacks\":{\"change:value_throttled\":[{\"id\":\"1074\"}]},\"start\":0,\"step\":10,\"value\":[0,99]},\"id\":\"1075\",\"type\":\"RangeSlider\"},{\"attributes\":{\"end\":100},\"id\":\"1006\",\"type\":\"Range1d\"},{\"attributes\":{},\"id\":\"1061\",\"type\":\"PanTool\"},{\"attributes\":{\"dimensions\":\"width\"},\"id\":\"1060\",\"type\":\"PanTool\"},{\"attributes\":{\"dimensions\":\"width\"},\"id\":\"1062\",\"type\":\"WheelZoomTool\"},{\"attributes\":{\"source\":{\"id\":\"1001\"}},\"id\":\"1073\",\"type\":\"CDSView\"},{\"attributes\":{\"args\":{\"text\":{\"id\":\"1032\"},\"width\":5000,\"x_range\":{\"id\":\"1006\"}},\"code\":\"\\n        var start = cb_obj.value[0];\\n        var end = cb_obj.value[1];\\n        x_range.setv({\\\"start\\\": start, \\\"end\\\": end})\\n        rect.width = end-start;\\n        rect.x = start+rect.width/2;\\n        var fac = rect.width/width;\\n        console.log(fac);\\n        if (fac>=.14) { fontsize = 0;}\\n        else { fontsize = 8.5; }\\n        text.text_font_size=fontsize+\\\"pt\\\";\\n    \"},\"id\":\"1074\",\"type\":\"CustomJS\"},{\"attributes\":{\"text\":\"NP_041326.1_E7_HPV16, n = (3, None, None, None, None, None), cutoff = {2.0, None}, cutoff_method = {'rank', None}\"},\"id\":\"1004\",\"type\":\"Title\"},{\"attributes\":{\"active_drag\":\"auto\",\"active_inspect\":\"auto\",\"active_multi\":null,\"active_scroll\":\"auto\",\"active_tap\":\"auto\",\"tools\":[{\"id\":\"1060\"},{\"id\":\"1061\"},{\"id\":\"1062\"},{\"id\":\"1063\"},{\"id\":\"1064\"}]},\"id\":\"1065\",\"type\":\"Toolbar\"},{\"attributes\":{\"formatter\":{\"id\":\"1080\"},\"ticker\":{\"id\":\"1057\"},\"visible\":false},\"id\":\"1056\",\"type\":\"LinearAxis\"},{\"attributes\":{},\"id\":\"1086\",\"type\":\"UnionRenderers\"},{\"attributes\":{},\"id\":\"1050\",\"type\":\"LinearScale\"},{\"attributes\":{\"active_drag\":\"auto\",\"active_inspect\":\"auto\",\"active_multi\":null,\"active_scroll\":\"auto\",\"active_tap\":\"auto\",\"logo\":null,\"tools\":[{\"id\":\"1021\"},{\"id\":\"1022\"},{\"id\":\"1023\"},{\"id\":\"1024\"},{\"id\":\"1025\"}]},\"id\":\"1026\",\"type\":\"Toolbar\"},{\"attributes\":{\"below\":[{\"id\":\"1052\"}],\"center\":[{\"id\":\"1055\"},{\"id\":\"1059\"}],\"left\":[{\"id\":\"1056\"}],\"lod_threshold\":10,\"min_border\":0,\"output_backend\":\"webgl\",\"plot_height\":86,\"plot_width\":5000,\"renderers\":[{\"id\":\"1072\"}],\"sizing_mode\":\"stretch_width\",\"title\":null,\"toolbar\":{\"id\":\"1065\"},\"toolbar_location\":null,\"x_range\":{\"id\":\"1002\"},\"x_scale\":{\"id\":\"1048\"},\"y_range\":{\"id\":\"1046\"},\"y_scale\":{\"id\":\"1050\"}},\"id\":\"1043\",\"subtype\":\"Figure\",\"type\":\"Plot\"},{\"attributes\":{},\"id\":\"1010\",\"type\":\"LinearScale\"},{\"attributes\":{\"fill_alpha\":{\"value\":0.6},\"fill_color\":{\"field\":\"colors\"},\"height\":{\"units\":\"data\",\"value\":1},\"line_color\":{\"value\":\"gray\"},\"width\":{\"units\":\"data\",\"value\":1},\"x\":{\"field\":\"x\"},\"y\":{\"field\":\"recty\"}},\"id\":\"1033\",\"type\":\"Rect\"},{\"attributes\":{},\"id\":\"1087\",\"type\":\"Selection\"},{\"attributes\":{},\"id\":\"1080\",\"type\":\"BasicTickFormatter\"},{\"attributes\":{},\"id\":\"1024\",\"type\":\"ResetTool\"},{\"attributes\":{\"data_source\":{\"id\":\"1001\"},\"glyph\":{\"id\":\"1032\"},\"hover_glyph\":null,\"muted_glyph\":null,\"view\":{\"id\":\"1037\"}},\"id\":\"1036\",\"type\":\"GlyphRenderer\"},{\"attributes\":{},\"id\":\"1082\",\"type\":\"BasicTickFormatter\"},{\"attributes\":{\"data_source\":{\"id\":\"1001\"},\"glyph\":{\"id\":\"1033\"},\"hover_glyph\":null,\"muted_glyph\":null,\"view\":{\"id\":\"1035\"}},\"id\":\"1034\",\"type\":\"GlyphRenderer\"},{\"attributes\":{},\"id\":\"1025\",\"type\":\"SaveTool\"},{\"attributes\":{\"text_align\":\"center\",\"text_color\":{\"value\":\"black\"},\"text_font\":\"monospace\",\"text_font_size\":{\"value\":\"8.5pt\"},\"x\":{\"field\":\"x\"},\"y\":{\"field\":\"y\"}},\"id\":\"1032\",\"type\":\"Text\"},{\"attributes\":{\"dimensions\":\"width\"},\"id\":\"1023\",\"type\":\"WheelZoomTool\"},{\"attributes\":{\"fill_alpha\":{\"value\":0.6},\"fill_color\":{\"field\":\"colors\"},\"height\":{\"units\":\"data\",\"value\":1},\"line_color\":{\"value\":null},\"width\":{\"units\":\"data\",\"value\":1},\"x\":{\"field\":\"x\"},\"y\":{\"field\":\"recty\"}},\"id\":\"1071\",\"type\":\"Rect\"},{\"attributes\":{\"bounds\":\"auto\",\"end\":99},\"id\":\"1002\",\"type\":\"Range1d\"},{\"attributes\":{\"text\":\"IEDBI_recommended\"},\"id\":\"1038\",\"type\":\"Title\"},{\"attributes\":{},\"id\":\"1048\",\"type\":\"LinearScale\"},{\"attributes\":{\"axis_label\":\"Sequ\\u00eancia\",\"axis_label_text_font_style\":\"bold\",\"formatter\":{\"id\":\"1085\"},\"major_label_text_font_style\":\"bold\",\"ticker\":{\"id\":\"1040\"}},\"id\":\"1014\",\"type\":\"LinearAxis\"},{\"attributes\":{},\"id\":\"1012\",\"type\":\"CategoricalScale\"},{\"attributes\":{\"end\":27},\"id\":\"1046\",\"type\":\"Range1d\"},{\"attributes\":{\"dimensions\":\"width\"},\"id\":\"1021\",\"type\":\"PanTool\"},{\"attributes\":{\"axis_label\":\"Sequ\\u00eancia\",\"axis_label_text_font_size\":\"14pt\",\"formatter\":{\"id\":\"1082\"},\"major_label_text_font_size\":\"14pt\",\"ticker\":{\"id\":\"1053\"}},\"id\":\"1052\",\"type\":\"LinearAxis\"},{\"attributes\":{\"source\":{\"id\":\"1001\"}},\"id\":\"1035\",\"type\":\"CDSView\"},{\"attributes\":{},\"id\":\"1053\",\"type\":\"BasicTicker\"},{\"attributes\":{\"formatter\":{\"id\":\"1084\"},\"ticker\":{\"id\":\"1019\"}},\"id\":\"1018\",\"type\":\"CategoricalAxis\"},{\"attributes\":{\"above\":[{\"id\":\"1038\"}],\"below\":[{\"id\":\"1014\"}],\"center\":[{\"id\":\"1017\"},{\"id\":\"1020\"}],\"left\":[{\"id\":\"1018\"}],\"lod_threshold\":1000,\"min_border\":0,\"output_backend\":\"webgl\",\"plot_height\":465,\"plot_width\":5000,\"renderers\":[{\"id\":\"1034\"},{\"id\":\"1036\"}],\"sizing_mode\":\"stretch_width\",\"title\":{\"id\":\"1004\"},\"toolbar\":{\"id\":\"1026\"},\"toolbar_location\":\"below\",\"x_range\":{\"id\":\"1006\"},\"x_scale\":{\"id\":\"1010\"},\"y_range\":{\"id\":\"1008\"},\"y_scale\":{\"id\":\"1012\"}},\"id\":\"1003\",\"subtype\":\"Figure\",\"type\":\"Plot\"},{\"attributes\":{\"source\":{\"id\":\"1001\"}},\"id\":\"1037\",\"type\":\"CDSView\"},{\"attributes\":{},\"id\":\"1019\",\"type\":\"CategoricalTicker\"},{\"attributes\":{\"ticks\":[0,5,10,15,20,25,30,35,40,45,50,55,60,65,70,75,80,85,90,95]},\"id\":\"1040\",\"type\":\"FixedTicker\"},{\"attributes\":{\"data_source\":{\"id\":\"1001\"},\"glyph\":{\"id\":\"1071\"},\"hover_glyph\":null,\"muted_glyph\":null,\"view\":{\"id\":\"1073\"}},\"id\":\"1072\",\"type\":\"GlyphRenderer\"}],\"root_ids\":[\"1076\"]},\"title\":\"Bokeh Application\",\"version\":\"2.2.3\"}};\n",
       "  var render_items = [{\"docid\":\"5ebf19dd-6715-4168-a96b-25edcf4a9fbc\",\"root_ids\":[\"1076\"],\"roots\":{\"1076\":\"e05634ef-158a-4c4b-9851-7eda732aedfa\"}}];\n",
       "  root.Bokeh.embed.embed_items_notebook(docs_json, render_items);\n",
       "\n",
       "  }\n",
       "  if (root.Bokeh !== undefined) {\n",
       "    embed_document(root);\n",
       "  } else {\n",
       "    var attempts = 0;\n",
       "    var timer = setInterval(function(root) {\n",
       "      if (root.Bokeh !== undefined) {\n",
       "        clearInterval(timer);\n",
       "        embed_document(root);\n",
       "      } else {\n",
       "        attempts++;\n",
       "        if (attempts > 100) {\n",
       "          clearInterval(timer);\n",
       "          console.log(\"Bokeh: ERROR: Unable to run BokehJS code because BokehJS library is missing\");\n",
       "        }\n",
       "      }\n",
       "    }, 10, root)\n",
       "  }\n",
       "})(window);"
      ],
      "application/vnd.bokehjs_exec.v0+json": ""
     },
     "metadata": {
      "application/vnd.bokehjs_exec.v0+json": {
       "id": "1076"
      }
     },
     "output_type": "display_data"
    }
   ],
   "source": [
    "reload(plotting)\n",
    "from bokeh.io import show, output_notebook, reset_output\n",
    "from bokeh.plotting import figure, output_file, save\n",
    "from bokeh.resources import CDN\n",
    "from bokeh.embed import file_html\n",
    "\n",
    "pi = plotting.bokeh_plot_sequence([iedb], path=plot_path,name=locus_tag, niedbi=niedbi, cutoffiedbi=cutoff_mhci, cutoff_methodiedbi=cutoff_method,\n",
    "                        width=5000, title=locus_tag)\n",
    "try:\n",
    "    reset_output()\n",
    "    output_notebook()\n",
    "    show(pi)\n",
    "except:\n",
    "    output_notebook()\n",
    "    show(pi)"
   ]
  },
  {
   "cell_type": "code",
   "execution_count": 31,
   "metadata": {},
   "outputs": [
    {
     "name": "stdout",
     "output_type": "stream",
     "text": [
      "iedbmhc1\n",
      "MHGDTPTLHEYMLDLQPETTDLYCYEQLNDSSEEEDEIDGPAGQAEPDRAHYNIVTFCCKCDSTLRLCVQSTHVDIRTLEDLLMGTLGIVCPICSQKP\n",
      "IEDBI_recommended\n",
      "['MHGDTPTLHEYMLDLQPETTDLYCYEQLNDSSEEEDEIDGPAGQAEPDRAHYNIVTFCCKCDSTLRLCVQSTHVDIRTLEDLLMGTLGIVCPICSQKP', 'MHGDTPTLHEYMLDLQPETTDLYCYEQLNDSSEEEDEIDGPAGQAEPDRAHYNIVTFCCKCDSTLRLCVQSTHVDIRTLEDLLMGTLGIVCPICSQKP', 'MHGDTPTLHEYMLDLQPETTDLYCYEQLNDSSEEEDEIDGPAGQAEPDRAHYNIVTFCCKCDSTLRLCVQSTHVDIRTLEDLLMGTLGIVCPICSQKP', 'MHGDTPTLHEYMLDLQPETTDLYCYEQLNDSSEEEDEIDGPAGQAEPDRAHYNIVTFCCKCDSTLRLCVQSTHVDIRTLEDLLMGTLGIVCPICSQKP', 'MHGDTPTLHEYMLDLQPETTDLYCYEQLNDSSEEEDEIDGPAGQAEPDRAHYNIVTFCCKCDSTLRLCVQSTHVDIRTLEDLLMGTLGIVCPICSQKP', 'MHGDTPTLHEYMLDLQPETTDLYCYEQLNDSSEEEDEIDGPAGQAEPDRAHYNIVTFCCKCDSTLRLCVQSTHVDIRTLEDLLMGTLGIVCPICSQKP', 'MHGDTPTLHEYMLDLQPETTDLYCYEQLNDSSEEEDEIDGPAGQAEPDRAHYNIVTFCCKCDSTLRLCVQSTHVDIRTLEDLLMGTLGIVCPICSQKP', 'MHGDTPTLHEYMLDLQPETTDLYCYEQLNDSSEEEDEIDGPAGQAEPDRAHYNIVTFCCKCDSTLRLCVQSTHVDIRTLEDLLMGTLGIVCPICSQKP', 'MHGDTPTLHEYMLDLQPETTDLYCYEQLNDSSEEEDEIDGPAGQAEPDRAHYNIVTFCCKCDSTLRLCVQSTHVDIRTLEDLLMGTLGIVCPICSQKP', 'MHGDTPTLHEYMLDLQPETTDLYCYEQLNDSSEEEDEIDGPAGQAEPDRAHYNIVTFCCKCDSTLRLCVQSTHVDIRTLEDLLMGTLGIVCPICSQKP', 'MHGDTPTLHEYMLDLQPETTDLYCYEQLNDSSEEEDEIDGPAGQAEPDRAHYNIVTFCCKCDSTLRLCVQSTHVDIRTLEDLLMGTLGIVCPICSQKP', 'MHGDTPTLHEYMLDLQPETTDLYCYEQLNDSSEEEDEIDGPAGQAEPDRAHYNIVTFCCKCDSTLRLCVQSTHVDIRTLEDLLMGTLGIVCPICSQKP', 'MHGDTPTLHEYMLDLQPETTDLYCYEQLNDSSEEEDEIDGPAGQAEPDRAHYNIVTFCCKCDSTLRLCVQSTHVDIRTLEDLLMGTLGIVCPICSQKP', 'MHGDTPTLHEYMLDLQPETTDLYCYEQLNDSSEEEDEIDGPAGQAEPDRAHYNIVTFCCKCDSTLRLCVQSTHVDIRTLEDLLMGTLGIVCPICSQKP', 'MHGDTPTLHEYMLDLQPETTDLYCYEQLNDSSEEEDEIDGPAGQAEPDRAHYNIVTFCCKCDSTLRLCVQSTHVDIRTLEDLLMGTLGIVCPICSQKP', 'MHGDTPTLHEYMLDLQPETTDLYCYEQLNDSSEEEDEIDGPAGQAEPDRAHYNIVTFCCKCDSTLRLCVQSTHVDIRTLEDLLMGTLGIVCPICSQKP', 'MHGDTPTLHEYMLDLQPETTDLYCYEQLNDSSEEEDEIDGPAGQAEPDRAHYNIVTFCCKCDSTLRLCVQSTHVDIRTLEDLLMGTLGIVCPICSQKP', 'MHGDTPTLHEYMLDLQPETTDLYCYEQLNDSSEEEDEIDGPAGQAEPDRAHYNIVTFCCKCDSTLRLCVQSTHVDIRTLEDLLMGTLGIVCPICSQKP', 'MHGDTPTLHEYMLDLQPETTDLYCYEQLNDSSEEEDEIDGPAGQAEPDRAHYNIVTFCCKCDSTLRLCVQSTHVDIRTLEDLLMGTLGIVCPICSQKP', 'MHGDTPTLHEYMLDLQPETTDLYCYEQLNDSSEEEDEIDGPAGQAEPDRAHYNIVTFCCKCDSTLRLCVQSTHVDIRTLEDLLMGTLGIVCPICSQKP', 'MHGDTPTLHEYMLDLQPETTDLYCYEQLNDSSEEEDEIDGPAGQAEPDRAHYNIVTFCCKCDSTLRLCVQSTHVDIRTLEDLLMGTLGIVCPICSQKP', 'MHGDTPTLHEYMLDLQPETTDLYCYEQLNDSSEEEDEIDGPAGQAEPDRAHYNIVTFCCKCDSTLRLCVQSTHVDIRTLEDLLMGTLGIVCPICSQKP', 'MHGDTPTLHEYMLDLQPETTDLYCYEQLNDSSEEEDEIDGPAGQAEPDRAHYNIVTFCCKCDSTLRLCVQSTHVDIRTLEDLLMGTLGIVCPICSQKP', 'MHGDTPTLHEYMLDLQPETTDLYCYEQLNDSSEEEDEIDGPAGQAEPDRAHYNIVTFCCKCDSTLRLCVQSTHVDIRTLEDLLMGTLGIVCPICSQKP', 'MHGDTPTLHEYMLDLQPETTDLYCYEQLNDSSEEEDEIDGPAGQAEPDRAHYNIVTFCCKCDSTLRLCVQSTHVDIRTLEDLLMGTLGIVCPICSQKP', 'MHGDTPTLHEYMLDLQPETTDLYCYEQLNDSSEEEDEIDGPAGQAEPDRAHYNIVTFCCKCDSTLRLCVQSTHVDIRTLEDLLMGTLGIVCPICSQKP', 'MHGDTPTLHEYMLDLQPETTDLYCYEQLNDSSEEEDEIDGPAGQAEPDRAHYNIVTFCCKCDSTLRLCVQSTHVDIRTLEDLLMGTLGIVCPICSQKP']\n"
     ]
    }
   ],
   "source": [
    "import plotly.graph_objects as go\n",
    "import plotly.express as px\n",
    "import plotly.figure_factory as ff\n",
    "from bokeh.plotting import figure\n",
    "from bokeh.models import ColumnDataSource, LinearAxis, Grid, Range1d, Text, Rect, CustomJS, Slider, RangeSlider, FactorRange\n",
    "from bokeh.layouts import gridplot, column\n",
    "\n",
    "path=plot_path\n",
    "name=locus_tag\n",
    "niedbi=niedbi\n",
    "cutoffiedbi=cutoff_mhci\n",
    "cutoff_methodiedbi=cutoff_method\n",
    "width=5000\n",
    "title=locus_tag\n",
    "preds = [iedb]\n",
    "color_sequence=False\n",
    "\n",
    "\n",
    "# n=(niedbi,nnetmhc,nflu,niedbii,niedbiinet,nnetmhcii)\n",
    "# cutoff=(cutoffiedbi,cutoffnetmhc,cutoffflu,cutoffiedbii,cutoffiedbiinet,cutoffnetmhcii)\n",
    "# cutoff_method=(cutoff_methodiedbi,cutoff_methodnetmhc,cutoff_methodflu,cutoff_methodiedbii,cutoff_methodiedbiinet,cutoff_methodnetmhcii)\n",
    "colors = []\n",
    "seqs = []\n",
    "text = []\n",
    "alleles = []\n",
    "ylabels = []\n",
    "pcolors = plotting.get_bokeh_colors()\n",
    "pcolors2 = plotting.get_bokeh_colors_method() # Pedro - adição - 110621\n",
    "method=[] # Pedro - adição - 140621\n",
    "methods=['iedbmhc1','mhcflurry','netmhcpan','iedbmhc2','netmhciipan'] # Pedro - adição - 110621\n",
    "\n",
    "for P in preds:\n",
    "    print (P.name)\n",
    "    df = P.data\n",
    "    # print(df)\n",
    "    df = df.query('name == @name')\n",
    "    # print(df)\n",
    "    #get sequence from results dataframe\n",
    "    seq = base.sequence_from_peptides(df)\n",
    "    print(seq)\n",
    "    l = base.get_length(df)\n",
    "    method.extend(frozenset(df.method))\n",
    "    # Pedro - adição - if e elif - 110621\n",
    "    if P.name in ['iedbmhc1']:\n",
    "        b = P.get_binders(name=name, cutoff=cutoffiedbi, cutoff_method=cutoff_methodiedbi)\n",
    "        code = set(b.name)\n",
    "        pb = P.promiscuous_binders(name=name, cutoff=cutoffiedbi, n=niedbi, cutoff_method=cutoff_methodiedbi)\n",
    "        b = b[b.pos.isin(pb.pos)] #only promiscuous\n",
    "    elif P.name in ['netmhcpan']:\n",
    "        b = P.get_binders(name=name,cutoff=cutoffnetmhc, cutoff_method=cutoff_methodnetmhc)\n",
    "        code = set(b.name)\n",
    "        pb = P.promiscuous_binders(name=name, cutoff=cutoffnetmhc, n=nnetmhc, cutoff_method=cutoff_methodnetmhc)\n",
    "        b = b[b.pos.isin(pb.pos)] #only promiscuous\n",
    "    elif P.name in ['mhcflurry']:\n",
    "        b = P.get_binders(name=name, cutoff=cutoffflu, cutoff_method=cutoff_methodflu)\n",
    "        code = set(b.name)\n",
    "        pb = P.promiscuous_binders(name=name, cutoff=cutoffflu, n=nflu, cutoff_method=cutoff_methodflu)\n",
    "        b = b[b.pos.isin(pb.pos)] #only promiscuous\n",
    "    elif P.name in ['iedbmhc2']:\n",
    "        for g in method:\n",
    "            if g == 'IEDBII_recommended': \n",
    "                b = P.get_binders(name=name, cutoff=cutoffiedbii, cutoff_method=cutoff_methodiedbii)\n",
    "                code = set(b.name)\n",
    "                pb = P.promiscuous_binders(name=name, cutoff=cutoffiedbii, n=niedbii, cutoff_method=cutoff_methodiedbii)\n",
    "                b = b[b.pos.isin(pb.pos)] #only promiscuous\n",
    "            elif g == 'netmhciipan_el':\n",
    "                b = P.get_binders(name=name, cutoff=cutoffiedbiinet, cutoff_method=cutoff_methodiedbiinet)\n",
    "                code = set(b.name)\n",
    "                pb = P.promiscuous_binders(name=name, cutoff=cutoffiedbiinet, n=niedbiinet, cutoff_method=cutoff_methodiedbiinet)\n",
    "                b = b[b.pos.isin(pb.pos)] #only promiscuous\n",
    "    elif P.name in ['netmhciipan']:\n",
    "        b = P.get_binders(name=name, cutoff=cutoffnetmhcii, cutoff_method=cutoff_methodnetmhcii)\n",
    "        code = set(b.name)\n",
    "        pb = P.promiscuous_binders(name=name, cutoff=cutoffnetmhcii, n=nnetmhcii, cutoff_method=cutoff_methodnetmhcii)\n",
    "        b = b[b.pos.isin(pb.pos)] #only promiscuous\n",
    "\n",
    "    grps = b.groupby('allele')\n",
    "    al = list(grps.groups)\n",
    "    alleles.extend(al)\n",
    "    ylabels.extend([str(set(df['method']))+' '+i for i in al]) # Pedro - substituição - P.name - 080621\n",
    "    currseq=[seq for i in al]\n",
    "    seqs.extend(currseq)\n",
    "    t = [i for s in currseq for i in s]\n",
    "    text.extend(t)\n",
    "    # print (len(seqs),len(text))\n",
    "    for a in al:\n",
    "        pos=[]\n",
    "        f = list(b[b.allele==a].pos)\n",
    "        for i in f:\n",
    "            pos.extend(np.arange(i,i+l))\n",
    "        if color_sequence is True:\n",
    "            c = plotting.get_sequence_colors(seq)\n",
    "        else:\n",
    "            c = ['white' for i in seq]\n",
    "        # Pedro - adição - loop - 110621\n",
    "        for i in pos:\n",
    "            if P.name in ['iedbmhc2']:\n",
    "                for j in method:\n",
    "                    if j == 'netmhciipan_el':\n",
    "                        c[i-1] = pcolors2['netmhciipan_el']\n",
    "                    elif j == 'IEDBII_recommended':\n",
    "                        c[i-1] = pcolors2['IEDBII_recommended']\n",
    "            else:\n",
    "                c[i-1] = pcolors[P.name] # Pedro - adição - c[i] - 050521\n",
    "        colors.extend(c)\n",
    "names= \", \".join(str(e) for e in method) # Pedro - adição - 140621\n",
    "print(names) # Pedro - adição - 140621\n",
    "# print(colors)\n",
    "print(seqs)\n",
    "# print(text)"
   ]
  },
  {
   "cell_type": "code",
   "execution_count": 34,
   "metadata": {},
   "outputs": [
    {
     "data": {
      "text/plain": [
       "SequenceViewer(id='sequence-viewer-selection', selection=[10, 20, 'green'], sequence=['MHGDTPTLHEYMLDLQPETTDLYCYEQLNDSSEEEDEIDGPAGQAEPDRAHYNIVTFCCKCDSTLRLCVQSTHVDIRTLEDLLMGTLGIVCPICSQKP', 'MHGDTPTLHEYMLDLQPETTDLYCYEQLNDSSEEEDEIDGPAGQAEPDRAHYNIVTFCCKCDSTLRLCVQSTHVDIRTLEDLLMGTLGIVCPICSQKP', 'MHGDTPTLHEYMLDLQPETTDLYCYEQLNDSSEEEDEIDGPAGQAEPDRAHYNIVTFCCKCDSTLRLCVQSTHVDIRTLEDLLMGTLGIVCPICSQKP', 'MHGDTPTLHEYMLDLQPETTDLYCYEQLNDSSEEEDEIDGPAGQAEPDRAHYNIVTFCCKCDSTLRLCVQSTHVDIRTLEDLLMGTLGIVCPICSQKP', 'MHGDTPTLHEYMLDLQPETTDLYCYEQLNDSSEEEDEIDGPAGQAEPDRAHYNIVTFCCKCDSTLRLCVQSTHVDIRTLEDLLMGTLGIVCPICSQKP', 'MHGDTPTLHEYMLDLQPETTDLYCYEQLNDSSEEEDEIDGPAGQAEPDRAHYNIVTFCCKCDSTLRLCVQSTHVDIRTLEDLLMGTLGIVCPICSQKP', 'MHGDTPTLHEYMLDLQPETTDLYCYEQLNDSSEEEDEIDGPAGQAEPDRAHYNIVTFCCKCDSTLRLCVQSTHVDIRTLEDLLMGTLGIVCPICSQKP', 'MHGDTPTLHEYMLDLQPETTDLYCYEQLNDSSEEEDEIDGPAGQAEPDRAHYNIVTFCCKCDSTLRLCVQSTHVDIRTLEDLLMGTLGIVCPICSQKP', 'MHGDTPTLHEYMLDLQPETTDLYCYEQLNDSSEEEDEIDGPAGQAEPDRAHYNIVTFCCKCDSTLRLCVQSTHVDIRTLEDLLMGTLGIVCPICSQKP', 'MHGDTPTLHEYMLDLQPETTDLYCYEQLNDSSEEEDEIDGPAGQAEPDRAHYNIVTFCCKCDSTLRLCVQSTHVDIRTLEDLLMGTLGIVCPICSQKP', 'MHGDTPTLHEYMLDLQPETTDLYCYEQLNDSSEEEDEIDGPAGQAEPDRAHYNIVTFCCKCDSTLRLCVQSTHVDIRTLEDLLMGTLGIVCPICSQKP', 'MHGDTPTLHEYMLDLQPETTDLYCYEQLNDSSEEEDEIDGPAGQAEPDRAHYNIVTFCCKCDSTLRLCVQSTHVDIRTLEDLLMGTLGIVCPICSQKP', 'MHGDTPTLHEYMLDLQPETTDLYCYEQLNDSSEEEDEIDGPAGQAEPDRAHYNIVTFCCKCDSTLRLCVQSTHVDIRTLEDLLMGTLGIVCPICSQKP', 'MHGDTPTLHEYMLDLQPETTDLYCYEQLNDSSEEEDEIDGPAGQAEPDRAHYNIVTFCCKCDSTLRLCVQSTHVDIRTLEDLLMGTLGIVCPICSQKP', 'MHGDTPTLHEYMLDLQPETTDLYCYEQLNDSSEEEDEIDGPAGQAEPDRAHYNIVTFCCKCDSTLRLCVQSTHVDIRTLEDLLMGTLGIVCPICSQKP', 'MHGDTPTLHEYMLDLQPETTDLYCYEQLNDSSEEEDEIDGPAGQAEPDRAHYNIVTFCCKCDSTLRLCVQSTHVDIRTLEDLLMGTLGIVCPICSQKP', 'MHGDTPTLHEYMLDLQPETTDLYCYEQLNDSSEEEDEIDGPAGQAEPDRAHYNIVTFCCKCDSTLRLCVQSTHVDIRTLEDLLMGTLGIVCPICSQKP', 'MHGDTPTLHEYMLDLQPETTDLYCYEQLNDSSEEEDEIDGPAGQAEPDRAHYNIVTFCCKCDSTLRLCVQSTHVDIRTLEDLLMGTLGIVCPICSQKP', 'MHGDTPTLHEYMLDLQPETTDLYCYEQLNDSSEEEDEIDGPAGQAEPDRAHYNIVTFCCKCDSTLRLCVQSTHVDIRTLEDLLMGTLGIVCPICSQKP', 'MHGDTPTLHEYMLDLQPETTDLYCYEQLNDSSEEEDEIDGPAGQAEPDRAHYNIVTFCCKCDSTLRLCVQSTHVDIRTLEDLLMGTLGIVCPICSQKP', 'MHGDTPTLHEYMLDLQPETTDLYCYEQLNDSSEEEDEIDGPAGQAEPDRAHYNIVTFCCKCDSTLRLCVQSTHVDIRTLEDLLMGTLGIVCPICSQKP', 'MHGDTPTLHEYMLDLQPETTDLYCYEQLNDSSEEEDEIDGPAGQAEPDRAHYNIVTFCCKCDSTLRLCVQSTHVDIRTLEDLLMGTLGIVCPICSQKP', 'MHGDTPTLHEYMLDLQPETTDLYCYEQLNDSSEEEDEIDGPAGQAEPDRAHYNIVTFCCKCDSTLRLCVQSTHVDIRTLEDLLMGTLGIVCPICSQKP', 'MHGDTPTLHEYMLDLQPETTDLYCYEQLNDSSEEEDEIDGPAGQAEPDRAHYNIVTFCCKCDSTLRLCVQSTHVDIRTLEDLLMGTLGIVCPICSQKP', 'MHGDTPTLHEYMLDLQPETTDLYCYEQLNDSSEEEDEIDGPAGQAEPDRAHYNIVTFCCKCDSTLRLCVQSTHVDIRTLEDLLMGTLGIVCPICSQKP', 'MHGDTPTLHEYMLDLQPETTDLYCYEQLNDSSEEEDEIDGPAGQAEPDRAHYNIVTFCCKCDSTLRLCVQSTHVDIRTLEDLLMGTLGIVCPICSQKP', 'MHGDTPTLHEYMLDLQPETTDLYCYEQLNDSSEEEDEIDGPAGQAEPDRAHYNIVTFCCKCDSTLRLCVQSTHVDIRTLEDLLMGTLGIVCPICSQKP'])"
      ]
     },
     "execution_count": 34,
     "metadata": {},
     "output_type": "execute_result"
    }
   ],
   "source": [
    "import urllib.request as urlreq\n",
    "import dash_bio as dashbio\n",
    "from dash_bio_utils import protein_reader\n",
    "\n",
    "\n",
    "# fasta_str = urlreq.urlopen(\n",
    "#     'https://git.io/sequence_viewer_P01308.fasta'\n",
    "# ).read().decode('utf-8')\n",
    "\n",
    "# seq = protein_reader.read_fasta(datapath_or_datastring=fasta_str, is_datafile=False)[0]['sequence']\n",
    "\n",
    "dashbio.SequenceViewer(\n",
    "    id='sequence-viewer-selection',\n",
    "    sequence=seqs,selection=[10, 20, 'green']\n",
    ")"
   ]
  },
  {
   "cell_type": "code",
   "execution_count": null,
   "metadata": {},
   "outputs": [],
   "source": [
    "reload(plotting)\n",
    "from bokeh.io import show, output_notebook, reset_output\n",
    "from bokeh.plotting import figure, output_file, save\n",
    "from bokeh.resources import CDN\n",
    "from bokeh.embed import file_html\n",
    "\n",
    "pi = plotting.bokeh_plot_sequence([netmhcpan], path=plot_path,name=locus_tag, nnetmhc=nnetmhc, cutoffnetmhc=cutoff_mhci, cutoff_methodnetmhc=cutoff_method,\n",
    "                        width=5000, title=locus_tag)\n",
    "try:\n",
    "    reset_output()\n",
    "    output_notebook()\n",
    "    show(pi)\n",
    "except:\n",
    "    output_notebook()\n",
    "    show(pi)"
   ]
  },
  {
   "cell_type": "code",
   "execution_count": null,
   "metadata": {},
   "outputs": [],
   "source": [
    "reload(plotting)\n",
    "from bokeh.io import show, output_notebook, reset_output\n",
    "from bokeh.plotting import figure, output_file, save\n",
    "from bokeh.resources import CDN\n",
    "from bokeh.embed import file_html\n",
    "\n",
    "pi = plotting.bokeh_plot_sequence([mhcflurry], path=plot_path,name=locus_tag, nflu=nflu, cutoffflu=cutoff_mhci, cutoff_methodflu=cutoff_method,\n",
    "                        width=5000, title=locus_tag)\n",
    "try:\n",
    "    reset_output()\n",
    "    output_notebook()\n",
    "    show(pi)\n",
    "except:\n",
    "    output_notebook()\n",
    "    show(pi)"
   ]
  },
  {
   "cell_type": "code",
   "execution_count": null,
   "metadata": {},
   "outputs": [],
   "source": [
    "reload(plotting)\n",
    "from bokeh.io import show, output_notebook, reset_output\n",
    "from bokeh.plotting import figure, output_file, save\n",
    "from bokeh.resources import CDN\n",
    "from bokeh.embed import file_html\n",
    "\n",
    "pmhci = plotting.bokeh_plot_sequence([iedb,netmhcpan,mhcflurry], path=plot_path,name=locus_tag, \n",
    "                                  niedbi=niedbi,cutoffiedbi=cutoff_mhci, cutoff_methodiedbi=cutoff_method,\n",
    "                                  nnetmhc=nnetmhc,cutoffnetmhc=cutoff_mhci,cutoff_methodnetmhc=cutoff_method,\n",
    "                                  nflu=nflu, cutoffflu=cutoff_mhci,cutoff_methodflu=cutoff_method,\n",
    "                                  width=6000, title=locus_tag)\n",
    "try:\n",
    "    reset_output()\n",
    "    output_notebook()\n",
    "    show(pmhci)\n",
    "except:\n",
    "    output_notebook()\n",
    "    show(pmhci)"
   ]
  },
  {
   "cell_type": "markdown",
   "metadata": {},
   "source": [
    "### Plot Sequence MHCII"
   ]
  },
  {
   "cell_type": "code",
   "execution_count": null,
   "metadata": {},
   "outputs": [],
   "source": [
    "plotmhc2_path = os.path.join(os.getcwd(),folder,plot,'mhcii')\n",
    "print(clustermhc2_path)"
   ]
  },
  {
   "cell_type": "code",
   "execution_count": null,
   "metadata": {},
   "outputs": [],
   "source": [
    "locus_tag = prot.result.locus_tag[0]\n",
    "locus_tag"
   ]
  },
  {
   "cell_type": "code",
   "execution_count": null,
   "metadata": {
    "scrolled": true
   },
   "outputs": [],
   "source": [
    "reload(plotting)\n",
    "from bokeh.io import show, output_notebook, reset_output\n",
    "from bokeh.plotting import figure, output_file, save\n",
    "from bokeh.resources import CDN\n",
    "from bokeh.embed import file_html\n",
    "\n",
    "pi = plotting.bokeh_plot_sequence([iedb_recommended], path=plotmhc2_path,name='NP_041325.1_E6_HPV16',\n",
    "                        niedbii=niedbii, cutoffiedbii=cutoff_mhcii, cutoff_methodiedbii=cutoff_method, width=6000, title=locus_tag)\n",
    "try:\n",
    "    reset_output()\n",
    "    output_notebook()\n",
    "    show(pi)\n",
    "except:\n",
    "    output_notebook()\n",
    "    show(pi)"
   ]
  },
  {
   "cell_type": "code",
   "execution_count": null,
   "metadata": {},
   "outputs": [],
   "source": [
    "reload(plotting)\n",
    "from bokeh.io import show, output_notebook, reset_output\n",
    "from bokeh.plotting import figure, output_file, save\n",
    "from bokeh.resources import CDN\n",
    "from bokeh.embed import file_html\n",
    "\n",
    "pi = plotting.bokeh_plot_sequence([iedb_netmhciipan],path=plotmhc2_path,name=locus_tag, niedbiinet=niedbiinet, cutoffiedbiinet=cutoff_mhcii, cutoff_methodiedbiinet=cutoff_method,\n",
    "                        width=6000, title=locus_tag)\n",
    "try:\n",
    "    reset_output()\n",
    "    output_notebook()\n",
    "    show(pi)\n",
    "except:\n",
    "    output_notebook()\n",
    "    show(pi)"
   ]
  },
  {
   "cell_type": "code",
   "execution_count": null,
   "metadata": {},
   "outputs": [],
   "source": [
    "reload(plotting)\n",
    "from bokeh.io import show, output_notebook, reset_output\n",
    "from bokeh.plotting import figure, output_file, save\n",
    "from bokeh.resources import CDN\n",
    "from bokeh.embed import file_html\n",
    "\n",
    "pi = plotting.bokeh_plot_sequence([netmhciipan], path=plotmhc2_path,name=locus_tag, nnetmhcii=1, cutoffnetmhcii=cutoff_mhcii, cutoff_methodnetmhcii=cutoff_method,\n",
    "                        width=6000, title=locus_tag)\n",
    "try:\n",
    "    reset_output()\n",
    "    output_notebook()\n",
    "    show(pi)\n",
    "except:\n",
    "    output_notebook()\n",
    "    show(pi)"
   ]
  },
  {
   "cell_type": "code",
   "execution_count": null,
   "metadata": {},
   "outputs": [],
   "source": [
    "reload(plotting)\n",
    "from bokeh.io import show, output_notebook, reset_output\n",
    "from bokeh.plotting import figure, output_file, save\n",
    "from bokeh.resources import CDN\n",
    "from bokeh.embed import file_html\n",
    "\n",
    "pmhcii = plotting.bokeh_plot_sequence([iedb_netmhciipan,iedb_recommended,netmhciipan], path=plotmhc2_path,\n",
    "                                  name=prot.result.locus_tag[0], \n",
    "                                  niedbii=niedbii,cutoffiedbii=cutoff_mhcii,cutoff_methodiedbii=cutoff_method,\n",
    "                                  niedbiinet=niedbiinet,cutoffiedbiinet=cutoff_mhcii,cutoff_methodiedbiinet=cutoff_method,\n",
    "                                  nnetmhcii=nnetmhcii,cutoffnetmhcii=cutoff_mhcii,cutoff_methodnetmhcii=cutoff_method,\n",
    "                                  width=6000, title=prot.result.locus_tag[0])\n",
    "try:\n",
    "    reset_output()\n",
    "    output_notebook()\n",
    "    show(pmhcii)\n",
    "except:\n",
    "    output_notebook()\n",
    "    show(pmhcii)"
   ]
  },
  {
   "cell_type": "markdown",
   "metadata": {},
   "source": [
    "### Plot MHCs"
   ]
  },
  {
   "cell_type": "code",
   "execution_count": null,
   "metadata": {},
   "outputs": [],
   "source": [
    "plotmhc1e2_path = os.path.join(os.getcwd(),folder,plot,'mhci_and_mhcii')\n",
    "print(plotmhc1e2_path)"
   ]
  },
  {
   "cell_type": "code",
   "execution_count": null,
   "metadata": {},
   "outputs": [],
   "source": [
    "# niedbi=4\n",
    "# nnetmhc=4\n",
    "# nflu=6\n",
    "# niedbii=3\n",
    "# niedbiinet=6\n",
    "# nnetmhcii=6\n",
    "##############\n",
    "# niedbi=6\n",
    "# nnetmhc=6\n",
    "# nflu=8\n",
    "# niedbii=4\n",
    "# niedbiinet=9\n",
    "# nnetmhcii=9\n",
    "niedbi=3\n",
    "nnetmhc=3\n",
    "nflu=3\n",
    "niedbii=3\n",
    "niedbiinet=3\n",
    "nnetmhcii=3"
   ]
  },
  {
   "cell_type": "code",
   "execution_count": null,
   "metadata": {},
   "outputs": [],
   "source": [
    "reload(plotting)\n",
    "from bokeh.io import show, output_notebook, reset_output\n",
    "from bokeh.plotting import figure, output_file, save\n",
    "from bokeh.resources import CDN\n",
    "from bokeh.embed import file_html\n",
    "\n",
    "pmhc = plotting.bokeh_plot_sequence([iedb,netmhcpan,mhcflurry,iedb_recommended,iedb_netmhciipan,netmhciipan], path=plotmhc1e2_path,\n",
    "                                  name=locus_tag, \n",
    "                                  niedbi=niedbi,cutoffiedbi=cutoff_mhci, cutoff_methodiedbi=cutoff_method,\n",
    "                                  nnetmhc=nnetmhc,cutoffnetmhc=cutoff_mhci,cutoff_methodnetmhc=cutoff_method,\n",
    "                                  nflu=nflu, cutoffflu=cutoff_mhci,cutoff_methodflu=cutoff_method,\n",
    "                                  niedbii=niedbii,cutoffiedbii=cutoff_mhcii,cutoff_methodiedbii=cutoff_method,\n",
    "                                  niedbiinet=niedbiinet,cutoffiedbiinet=cutoff_mhcii,cutoff_methodiedbiinet=cutoff_method,\n",
    "                                  nnetmhcii=nnetmhcii,cutoffnetmhcii=cutoff_mhcii,cutoff_methodnetmhcii=cutoff_method,\n",
    "                                  width=6000, title=locus_tag)\n",
    "try:\n",
    "    reset_output()\n",
    "    output_notebook()\n",
    "    show(pmhc)\n",
    "except:\n",
    "    output_notebook()\n",
    "    show(pmhc)"
   ]
  },
  {
   "cell_type": "markdown",
   "metadata": {},
   "source": [
    "### Plot Bar"
   ]
  },
  {
   "cell_type": "markdown",
   "metadata": {},
   "source": [
    "#### MHCI"
   ]
  },
  {
   "cell_type": "code",
   "execution_count": null,
   "metadata": {},
   "outputs": [],
   "source": [
    "reload(plotting)\n",
    "import warnings\n",
    "warnings.filterwarnings('ignore')\n",
    "from bokeh.io import show, output_notebook, reset_output\n",
    "from bokeh.plotting import figure, output_file, save\n",
    "from bokeh.resources import CDN\n",
    "from bokeh.embed import file_html\n",
    "\n",
    "# cutoffiedbi=cutoff_mhci\n",
    "methods = [iedb,netmhcpan,mhcflurry,iedb_recommended,iedb_netmhciipan,netmhciipan]\n",
    "\n",
    "pi= plotting.bokeh_plot_bar(methods, name=None, cultoff=2.0,start=-11,end=11,path=plot_path,allele='HLA-A*01:01', title=locus_tag, width=None, height=200,palette='Set3', tools=True, x_range=None)\n",
    "\n",
    "try:\n",
    "    reset_output()\n",
    "    output_notebook()\n",
    "    show(pi)\n",
    "except:\n",
    "    output_notebook()\n",
    "    show(pi)"
   ]
  },
  {
   "cell_type": "code",
   "execution_count": null,
   "metadata": {},
   "outputs": [],
   "source": [
    "reload(plotting)\n",
    "import warnings\n",
    "warnings.filterwarnings('ignore')\n",
    "from bokeh.io import show, output_notebook, reset_output\n",
    "from bokeh.plotting import figure, output_file, save\n",
    "from bokeh.resources import CDN\n",
    "from bokeh.embed import file_html\n",
    "\n",
    "# cutoffiedbi=cutoff_mhci\n",
    "methods = [iedb,netmhcpan,mhcflurry]\n",
    "\n",
    "pi= plotting.bokeh_plot_bar(methods, name=None, cultoff=2.0,start=-11,end=3,path=plot_path,allele='HLA-A*01:01', title=locus_tag, width=None, height=200,palette='Set3', tools=True, x_range=None)\n",
    "\n",
    "try:\n",
    "    reset_output()\n",
    "    output_notebook()\n",
    "    show(pi)\n",
    "except:\n",
    "    output_notebook()\n",
    "    show(pi)"
   ]
  },
  {
   "cell_type": "code",
   "execution_count": null,
   "metadata": {},
   "outputs": [],
   "source": [
    "reload(plotting)\n",
    "import warnings\n",
    "warnings.filterwarnings('ignore')\n",
    "from bokeh.io import show, output_notebook, reset_output\n",
    "from bokeh.plotting import figure, output_file, save\n",
    "from bokeh.resources import CDN\n",
    "from bokeh.embed import file_html\n",
    "\n",
    "# cutoffiedbi=cutoff_mhci\n",
    "methods = [iedb_recommended,iedb_netmhciipan,netmhciipan]\n",
    "\n",
    "\n",
    "pi= plotting.bokeh_plot_bar(methods, name=None, cultoff=10.0,start=-11,end=11,path=plot_path,allele='HLA-A*01:01', title=locus_tag, width=None, height=200,palette='Set3', tools=True, x_range=None)\n",
    "\n",
    "try:\n",
    "    reset_output()\n",
    "    output_notebook()\n",
    "    show(pi)\n",
    "except:\n",
    "    output_notebook()\n",
    "    show(pi)"
   ]
  },
  {
   "cell_type": "code",
   "execution_count": null,
   "metadata": {},
   "outputs": [],
   "source": [
    "reload(plotting)\n",
    "import warnings\n",
    "warnings.filterwarnings('ignore')\n",
    "from bokeh.io import show, output_notebook, reset_output\n",
    "from bokeh.plotting import figure, output_file, save\n",
    "from bokeh.resources import CDN\n",
    "from bokeh.embed import file_html\n",
    "\n",
    "# cutoffiedbi=cutoff_mhci\n",
    "methods = [iedb,netmhcpan,mhcflurry]\n",
    "\n",
    "for i in methods:\n",
    "    pi= plotting.bokeh_plot_bar([i], name=None, cultoff=2.0,start=-11,end=3,path=plot_path,allele='HLA-A*01:01', title=locus_tag, width=None, height=200,palette='Set3', tools=True, x_range=None)\n",
    "\n",
    "    try:\n",
    "        reset_output()\n",
    "        output_notebook()\n",
    "        show(pi)\n",
    "    except:\n",
    "        output_notebook()\n",
    "        show(pi)"
   ]
  },
  {
   "cell_type": "markdown",
   "metadata": {},
   "source": [
    "#### MHCII"
   ]
  },
  {
   "cell_type": "code",
   "execution_count": null,
   "metadata": {},
   "outputs": [],
   "source": [
    "reload(plotting)\n",
    "import warnings\n",
    "warnings.filterwarnings('ignore')\n",
    "from bokeh.io import show, output_notebook, reset_output\n",
    "from bokeh.plotting import figure, output_file, save\n",
    "from bokeh.resources import CDN\n",
    "from bokeh.embed import file_html\n",
    "\n",
    "# cutoffiedbi=cutoff_mhci\n",
    "methods = [iedb_recommended,iedb_netmhciipan,netmhciipan]\n",
    "\n",
    "for i in methods:\n",
    "    pi= plotting.bokeh_plot_bar([i], name=None, cultoff=10.0,start=-11,end=11,path=plot_path,allele='HLA-A*01:01', title=locus_tag, width=None, height=200,palette='Set3', tools=True, x_range=None)\n",
    "\n",
    "    try:\n",
    "        reset_output()\n",
    "        output_notebook()\n",
    "        show(pi)\n",
    "    except:\n",
    "        output_notebook()\n",
    "        show(pi)"
   ]
  },
  {
   "cell_type": "code",
   "execution_count": null,
   "metadata": {},
   "outputs": [],
   "source": [
    "from time import strftime\n",
    "from time import gmtime\n",
    "\n",
    "t=time.time()-st\n",
    "tempo=strftime(\"%H:%M:%S\", gmtime(t))\n",
    "print ('took %s' %str(tempo))"
   ]
  },
  {
   "cell_type": "markdown",
   "metadata": {},
   "source": [
    "### Plot Grid"
   ]
  },
  {
   "cell_type": "code",
   "execution_count": null,
   "metadata": {},
   "outputs": [],
   "source": [
    "reload(plotting)\n",
    "from bokeh.io import show, output_notebook, reset_output\n",
    "from bokeh.plotting import figure, output_file, save\n",
    "from bokeh.resources import CDN\n",
    "from bokeh.embed import file_html\n",
    "\n",
    "pi = plotting.bokeh_plot_grid(iedb, name=locus_tag, width=15000, palette='Blues')\n",
    "\n",
    "try:\n",
    "    reset_output()\n",
    "    output_notebook()\n",
    "    show(pi)\n",
    "except:\n",
    "    output_notebook()\n",
    "    show(pi)"
   ]
  },
  {
   "cell_type": "markdown",
   "metadata": {},
   "source": [
    "### Plot Summary"
   ]
  },
  {
   "cell_type": "code",
   "execution_count": null,
   "metadata": {},
   "outputs": [],
   "source": [
    "# reload(plotting)\n",
    "# from bokeh.io import show, output_notebook, reset_output\n",
    "# from bokeh.plotting import figure, output_file, save\n",
    "# from bokeh.resources import CDN\n",
    "# from bokeh.embed import file_html\n",
    "\n",
    "# df = iedb.get_binders(cutoff=cutoff_mhci,name=locus_tag,cutoff_method=cutoff_method)\n",
    "# df.loc[:,'predictor'] = iedb.name\n",
    "# # display(df)\n",
    "# pi = plotting.bokeh_summary_plot(df)\n",
    "\n",
    "# try:\n",
    "#     reset_output()\n",
    "#     output_notebook()\n",
    "#     show(pi)\n",
    "# except:\n",
    "#     output_notebook()\n",
    "#     show(pi)"
   ]
  },
  {
   "cell_type": "code",
   "execution_count": null,
   "metadata": {},
   "outputs": [],
   "source": [
    "reload(plotting)\n",
    "from bokeh.io import show, output_notebook, reset_output\n",
    "from bokeh.plotting import figure, output_file, save\n",
    "from bokeh.resources import CDN\n",
    "from bokeh.embed import file_html\n",
    "\n",
    "\n",
    "pi = plotting.bokeh_plot_tracks([iedb],path=plot_path,cutoff=2,cutoff_method=cutoff_method,n=1,width=5000, height=500)\n",
    "\n",
    "try:\n",
    "    reset_output()\n",
    "    output_notebook()\n",
    "    show(pi)\n",
    "except:\n",
    "    output_notebook()\n",
    "    show(pi)"
   ]
  }
 ],
 "metadata": {
  "kernelspec": {
   "display_name": "Python 3",
   "language": "python",
   "name": "python3"
  },
  "language_info": {
   "codemirror_mode": {
    "name": "ipython",
    "version": 3
   },
   "file_extension": ".py",
   "mimetype": "text/x-python",
   "name": "python",
   "nbconvert_exporter": "python",
   "pygments_lexer": "ipython3",
   "version": "3.8.5"
  }
 },
 "nbformat": 4,
 "nbformat_minor": 4
}
